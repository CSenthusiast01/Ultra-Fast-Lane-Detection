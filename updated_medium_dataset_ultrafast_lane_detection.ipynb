{
  "cells": [
    {
      "cell_type": "markdown",
      "metadata": {
        "id": "view-in-github",
        "colab_type": "text"
      },
      "source": [
        "<a href=\"https://colab.research.google.com/github/CSenthusiast01/Ultra-Fast-Lane-Detection/blob/master/updated_medium_dataset_ultrafast_lane_detection.ipynb\" target=\"_parent\"><img src=\"https://colab.research.google.com/assets/colab-badge.svg\" alt=\"Open In Colab\"/></a>"
      ]
    },
    {
      "cell_type": "markdown",
      "metadata": {
        "id": "ZiJFASiFz9g7"
      },
      "source": [
        "**Ultra Fast Lane Detection 1GB data**\n",
        "\n",
        "Note: add the path in /configs/tusimple.py for the data_path and the log_path\n",
        "\n",
        "\n",
        "create log file and the tusimpleroot file as mentioned in the repository."
      ]
    },
    {
      "cell_type": "code",
      "execution_count": 1,
      "metadata": {
        "colab": {
          "base_uri": "https://localhost:8080/"
        },
        "id": "5g1uEj3_ppyA",
        "outputId": "565cd642-5c55-4807-f5cc-89754710cbb4"
      },
      "outputs": [
        {
          "output_type": "stream",
          "name": "stdout",
          "text": [
            "Cloning into 'Ultra-Fast-Lane-Detection'...\n",
            "remote: Enumerating objects: 312, done.\u001b[K\n",
            "remote: Counting objects: 100% (156/156), done.\u001b[K\n",
            "remote: Compressing objects: 100% (82/82), done.\u001b[K\n",
            "remote: Total 312 (delta 101), reused 77 (delta 72), pack-reused 156\u001b[K\n",
            "Receiving objects: 100% (312/312), 213.59 KiB | 1.23 MiB/s, done.\n",
            "Resolving deltas: 100% (146/146), done.\n"
          ]
        }
      ],
      "source": [
        "# # Original Repository\n",
        "# !git clone https://github.com/cfzd/Ultra-Fast-Lane-Detection.git\n",
        "\n",
        "# Updated code repository\n",
        "!git clone https://github.com/CSenthusiast01/Ultra-Fast-Lane-Detection.git"
      ]
    },
    {
      "cell_type": "code",
      "execution_count": 3,
      "metadata": {
        "id": "AxxtAPuGcg2O"
      },
      "outputs": [],
      "source": [
        "%mkdir logs"
      ]
    },
    {
      "cell_type": "code",
      "execution_count": 2,
      "metadata": {
        "colab": {
          "base_uri": "https://localhost:8080/"
        },
        "id": "9XzwvJQxp-Fj",
        "outputId": "d6cd951a-7cae-484f-a5d4-96c64ceaea80"
      },
      "outputs": [
        {
          "output_type": "stream",
          "name": "stdout",
          "text": [
            "Mounted at /content/drive\n"
          ]
        }
      ],
      "source": [
        "from google.colab import drive\n",
        "drive.mount('/content/drive')"
      ]
    },
    {
      "cell_type": "code",
      "execution_count": 4,
      "metadata": {
        "colab": {
          "base_uri": "https://localhost:8080/"
        },
        "id": "MtLiETlsuusa",
        "outputId": "832332dc-b395-49d8-b869-197656f92bd6"
      },
      "outputs": [
        {
          "output_type": "stream",
          "name": "stdout",
          "text": [
            "Drive already mounted at /content/drive; to attempt to forcibly remount, call drive.mount(\"/content/drive\", force_remount=True).\n"
          ]
        }
      ],
      "source": [
        "ROOT = \"/content/drive\"\n",
        "drive.mount(ROOT)"
      ]
    },
    {
      "cell_type": "code",
      "execution_count": 5,
      "metadata": {
        "colab": {
          "base_uri": "https://localhost:8080/"
        },
        "id": "J1YK461ypueF",
        "outputId": "0a26c4ae-7c8d-4494-a3ff-e64276dbb745"
      },
      "outputs": [
        {
          "output_type": "stream",
          "name": "stdout",
          "text": [
            "/content/Ultra-Fast-Lane-Detection\n"
          ]
        }
      ],
      "source": [
        "%cd /content/Ultra-Fast-Lane-Detection\n",
        "# %mkdir '$TUSIMPLEROOT'"
      ]
    },
    {
      "cell_type": "code",
      "execution_count": 9,
      "metadata": {
        "id": "cT6PHvZk16_0"
      },
      "outputs": [],
      "source": [
        "#for having dataset in the repository\n",
        "# make sure to create the $TUSIMPLE directory in the project folder\n",
        "\n",
        "# check the below command to copy the data from drive to the repo.\n",
        "# %cp -r /content/drive/MyDrive/TuSimple_xsml/train_set/ /content/Ultra-Fast-Lane-Detection/'$TUSIMPLEROOT'/\n",
        "\n",
        "%cp -r /content/drive/MyDrive/TuSimple_sm/train_set/ /content/Ultra-Fast-Lane-Detection/\n",
        "!mv /content/Ultra-Fast-Lane-Detection/train_set/ /content/Ultra-Fast-Lane-Detection/'$TUSIMPLEROOT'/"
      ]
    },
    {
      "cell_type": "code",
      "execution_count": 10,
      "metadata": {
        "id": "ND-CQgZObt7I"
      },
      "outputs": [],
      "source": [
        "# copying test_label.json in teh $TUSIMPLEROOT\n",
        "%cp /content/drive/MyDrive/TuSimple_sm/test_label.json /content/Ultra-Fast-Lane-Detection/'$TUSIMPLEROOT'/"
      ]
    },
    {
      "cell_type": "code",
      "execution_count": 11,
      "metadata": {
        "id": "wnlPzqAFxZKO"
      },
      "outputs": [],
      "source": [
        "%cp /content/drive/MyDrive/TuSimple_sm/test_set/test_tasks_0627.json /content/Ultra-Fast-Lane-Detection/'$TUSIMPLEROOT'/"
      ]
    },
    {
      "cell_type": "code",
      "execution_count": 12,
      "metadata": {
        "id": "ciFW4_Ek4_sZ",
        "colab": {
          "base_uri": "https://localhost:8080/"
        },
        "outputId": "c0701f24-0023-4182-8640-c7440779e317"
      },
      "outputs": [
        {
          "output_type": "stream",
          "name": "stdout",
          "text": [
            "100% 100/100 [00:00<00:00, 214.69it/s]\n"
          ]
        }
      ],
      "source": [
        "!python scripts/convert_tusimple.py --root '$TUSIMPLEROOT'\n",
        "# this will generate segmentations and two list files: train_gt.txt and test.txt"
      ]
    },
    {
      "cell_type": "markdown",
      "metadata": {
        "id": "ip-UREZDNPYq"
      },
      "source": [
        "## The below two code cells is used to filter the train_gt.txt file\n"
      ]
    },
    {
      "cell_type": "code",
      "execution_count": 13,
      "metadata": {
        "id": "ND2u-EyGJrIn",
        "colab": {
          "base_uri": "https://localhost:8080/"
        },
        "outputId": "a316028e-9847-488e-bea9-850e90757843"
      },
      "outputs": [
        {
          "output_type": "stream",
          "name": "stdout",
          "text": [
            "['0601', '0531', '0313-1', '0313-2']\n",
            "['0601', '0531', '0530']\n",
            "['clips/0601/1494452621490750551/20.jpg', 'clips/0601/1494452615491172573/20.jpg', 'clips/0601/1494452603496476152/20.jpg', 'clips/0601/1494452597499005653/20.jpg', 'clips/0601/1494452609493789343/20.jpg', 'clips/0601/1494452585507361927/20.jpg', 'clips/0601/1494452591501642953/20.jpg', 'clips/0601/1494452579506899721/20.jpg', 'clips/0601/1494452571512393789/20.jpg', 'clips/0601/1494452553518276564/20.jpg', 'clips/0601/1494452541524672627/20.jpg', 'clips/0601/1494452535526149911/20.jpg', 'clips/0601/1494452547522417856/20.jpg', 'clips/0601/1494452565513003505/20.jpg', 'clips/0601/1494452559516609932/20.jpg', 'clips/0601/1494452511536818313/20.jpg', 'clips/0601/1494452529530624920/20.jpg', 'clips/0601/1494452523531433490/20.jpg', 'clips/0601/1494452517534105454/20.jpg', 'clips/0601/1494452475553952650/20.jpg', 'clips/0601/1494452493544568151/20.jpg', 'clips/0601/1494452487547938155/20.jpg', 'clips/0601/1494452505539998933/20.jpg', 'clips/0601/1494452499541984524/20.jpg', 'clips/0601/1494452481550534721/20.jpg', 'clips/0531/1492627475054062025/20.jpg', 'clips/0531/1492627478052569489/20.jpg', 'clips/0531/1492627441307845005/20.jpg', 'clips/0531/1492627472055935270/20.jpg', 'clips/0531/1492627280838407454/20.jpg', 'clips/0531/1492626979221196958/20.jpg', 'clips/0531/1492627322213383558/20.jpg', 'clips/0531/1492627187263118217/20.jpg', 'clips/0531/1492627348130955659/20.jpg', 'clips/0531/1492627130396218776/20.jpg', 'clips/0531/1492626904933064222/20.jpg', 'clips/0531/1492626725443010116/20.jpg', 'clips/0531/1492626856464433841/20.jpg', 'clips/0531/1492626805094402903/20.jpg', 'clips/0531/1492626688464435547/20.jpg', 'clips/0531/1492626722277359997/20.jpg', 'clips/0531/1492626371522989086/20.jpg', 'clips/0531/1492626551883775328/20.jpg', 'clips/0531/1492626487919028170/20.jpg', 'clips/0531/1492626395742137012/20.jpg', 'clips/0531/1492626274615008344/20.jpg', 'clips/0531/1492626287507231547/20.jpg', 'clips/0531/1492626366226158339/20.jpg', 'clips/0531/1492626327183261694/20.jpg', 'clips/0531/1492626270684175793/20.jpg', 'clips/0313-1/780/20.jpg', 'clips/0313-1/840/20.jpg', 'clips/0313-1/960/20.jpg', 'clips/0313-1/900/20.jpg', 'clips/0313-1/660/20.jpg', 'clips/0313-1/480/20.jpg', 'clips/0313-1/720/20.jpg', 'clips/0313-1/540/20.jpg', 'clips/0313-1/600/20.jpg', 'clips/0313-1/60/20.jpg', 'clips/0313-1/360/20.jpg', 'clips/0313-1/240/20.jpg', 'clips/0313-1/420/20.jpg', 'clips/0313-1/300/20.jpg', 'clips/0313-1/1320/20.jpg', 'clips/0313-1/1260/20.jpg', 'clips/0313-1/180/20.jpg', 'clips/0313-1/1440/20.jpg', 'clips/0313-1/1500/20.jpg', 'clips/0313-1/1380/20.jpg', 'clips/0313-1/120/20.jpg', 'clips/0313-1/1140/20.jpg', 'clips/0313-1/1080/20.jpg', 'clips/0313-1/1200/20.jpg', 'clips/0313-1/1020/20.jpg', 'clips/0313-2/85/20.jpg', 'clips/0313-2/95/20.jpg', 'clips/0313-2/75/20.jpg', 'clips/0313-2/90/20.jpg', 'clips/0313-2/80/20.jpg', 'clips/0313-2/55/20.jpg', 'clips/0313-2/70/20.jpg', 'clips/0313-2/65/20.jpg', 'clips/0313-2/60/20.jpg', 'clips/0313-2/35/20.jpg', 'clips/0313-2/45/20.jpg', 'clips/0313-2/25/20.jpg', 'clips/0313-2/40/20.jpg', 'clips/0313-2/50/20.jpg', 'clips/0313-2/30/20.jpg', 'clips/0313-2/140/20.jpg', 'clips/0313-2/20/20.jpg', 'clips/0313-2/135/20.jpg', 'clips/0313-2/130/20.jpg', 'clips/0313-2/100/20.jpg', 'clips/0313-2/115/20.jpg', 'clips/0313-2/105/20.jpg', 'clips/0313-2/120/20.jpg', 'clips/0313-2/110/20.jpg', 'clips/0313-2/125/20.jpg']\n",
            "['clips/0601/1494452461559694775/20.jpg', 'clips/0601/1494452455562021371/20.jpg', 'clips/0601/1494452459559473704/20.jpg', 'clips/0601/1494452467556714982/20.jpg', 'clips/0601/1494452465557579954/20.jpg', 'clips/0601/1494452443567310647/20.jpg', 'clips/0601/1494452449567214021/20.jpg', 'clips/0601/1494452453565341624/20.jpg', 'clips/0601/1494452447565432366/20.jpg', 'clips/0601/1494452437570260415/20.jpg', 'clips/0601/1494452431571697487/20.jpg', 'clips/0601/1494452425574338975/20.jpg', 'clips/0601/1494452441570881066/20.jpg', 'clips/0601/1494452429573891499/20.jpg', 'clips/0601/1494452435570663721/20.jpg', 'clips/0601/1494452413579633881/20.jpg', 'clips/0601/1494452417580383008/20.jpg', 'clips/0601/1494452423575187058/20.jpg', 'clips/0601/1494452419576967330/20.jpg', 'clips/0601/1494452407582274573/20.jpg', 'clips/0601/1494452395587533775/20.jpg', 'clips/0601/1494452405583118167/20.jpg', 'clips/0601/1494452411580444269/20.jpg', 'clips/0601/1494452401584814468/20.jpg', 'clips/0601/1494452399585761304/20.jpg', 'clips/0531/1492626934515044019/20.jpg', 'clips/0531/1492626939345388665/20.jpg', 'clips/0531/1492626868723674847/20.jpg', 'clips/0531/1492627006406286891/20.jpg', 'clips/0531/1492626720211673794/20.jpg', 'clips/0531/1492626724445214242/20.jpg', 'clips/0531/1492626726476963805/20.jpg', 'clips/0531/1492626749527113213/20.jpg', 'clips/0531/1492626806192769618/20.jpg', 'clips/0531/1492626723443175705/20.jpg', 'clips/0531/1492626578566731141/20.jpg', 'clips/0531/1492626718748019090/20.jpg', 'clips/0531/1492626549851148880/20.jpg', 'clips/0531/1492626674406553912/20.jpg', 'clips/0531/1492626477558988952/20.jpg', 'clips/0531/1492626473860953990/20.jpg', 'clips/0531/1492626488918644847/20.jpg', 'clips/0531/1492626475893014602/20.jpg', 'clips/0531/1492626394610203677/20.jpg', 'clips/0531/1492626499813320696/20.jpg', 'clips/0531/1492626328182638628/20.jpg', 'clips/0531/1492626364327255872/20.jpg', 'clips/0531/1492626344839162069/20.jpg', 'clips/0531/1492626388446057821/20.jpg', 'clips/0531/1492626326050823425/20.jpg', 'clips/0530/1492626296068790749_0/20.jpg', 'clips/0530/1492626329051620125_0/20.jpg', 'clips/0530/1492626310060328558_0/20.jpg', 'clips/0530/1492626328182638628_0/20.jpg', 'clips/0530/1492626332046889058_0/20.jpg', 'clips/0530/1492626283076624822_0/20.jpg', 'clips/0530/1492626286076989589_0/20.jpg', 'clips/0530/1492626281077831064_0/20.jpg', 'clips/0530/1492626295069332660_0/20.jpg', 'clips/0530/1492626265087865031_0/20.jpg', 'clips/0530/1492626257094533319_0/20.jpg', 'clips/0530/1492626268085982449_0/20.jpg', 'clips/0530/1492626252095353084_0/20.jpg', 'clips/0530/1492626224112349377_0/20.jpg', 'clips/0530/1492626236105069364_0/20.jpg', 'clips/0530/1492626191132352208_0/20.jpg', 'clips/0530/1492626199127566374_0/20.jpg', 'clips/0530/1492626166147797438_0/20.jpg', 'clips/0530/1492626171146236124_0/20.jpg', 'clips/0530/1492626158152981904_0/20.jpg', 'clips/0530/1492626155156451704_0/20.jpg', 'clips/0530/1492626127172745520_0/20.jpg', 'clips/0530/1492626047222176976_0/20.jpg', 'clips/0530/1492626126171818168_0/20.jpg', 'clips/0530/1492626153155598528_0/20.jpg']\n"
          ]
        }
      ],
      "source": [
        "import os\n",
        "\n",
        "# get the current working directory\n",
        "def get_clip_list(clips_location_path):\n",
        "  cwd = os.getcwd()\n",
        "  # join the cwd with the folder name clips\n",
        "  clips_path = os.path.join(cwd, clips_location_path)\n",
        "\n",
        "  # create an empty list to store the subfolder names\n",
        "  subfolders = []\n",
        "  # loop through the files and folders in clips_path\n",
        "  for file in os.listdir(clips_path):\n",
        "    # get the full path of the file\n",
        "    file_path = os.path.join(clips_path, file)\n",
        "    # check if the file is a folder\n",
        "    if os.path.isdir(file_path):\n",
        "      # append the file name to the subfolders list\n",
        "      subfolders.append(file)\n",
        "  # print the subfolders list\n",
        "  print(subfolders)\n",
        "\n",
        "  final_clip_list = []\n",
        "  for clips_folder in subfolders:\n",
        "    for clip in os.listdir(clips_path + clips_folder):\n",
        "      file_path = os.path.join(clips_path + f\"/{clips_folder}\", clip)\n",
        "      if os.path.isdir(file_path):\n",
        "        final_clip_list.append(f'clips/{clips_folder}/{clip}/20.jpg')\n",
        "  return final_clip_list\n",
        "\n",
        "train_clip_path = \"/content/drive/MyDrive/TuSimple_sm/train_set/clips/\"\n",
        "test_clip_path = \"/content/drive/MyDrive/TuSimple_sm/test_set/clips/\"\n",
        "\n",
        "train_clip_list = get_clip_list(train_clip_path)\n",
        "test_clip_list = get_clip_list(test_clip_path)\n",
        "print(train_clip_list)\n",
        "print(test_clip_list)"
      ]
    },
    {
      "cell_type": "code",
      "execution_count": 14,
      "metadata": {
        "id": "ct3VFyyFlStk",
        "colab": {
          "base_uri": "https://localhost:8080/"
        },
        "outputId": "6107fde1-dba0-4c5b-e659-2717a2b1866c"
      },
      "outputs": [
        {
          "output_type": "stream",
          "name": "stdout",
          "text": [
            "100\n"
          ]
        }
      ],
      "source": [
        "#This code filters the train_gt.txt file using the train_clip_list from the above cell\n",
        "\n",
        "filtered_data = []\n",
        "\n",
        "with open(\"$TUSIMPLEROOT/train_gt.txt\", \"r\") as f:\n",
        "  for line in f:\n",
        "    # print(\"clip_name\", clip_name)\n",
        "    for i in range(0, len(train_clip_list)):\n",
        "      if train_clip_list[i] in line:\n",
        "        filtered_data = filtered_data + [line]\n",
        "with open(\"$TUSIMPLEROOT/train_gt.txt\", \"w\") as f:\n",
        "    f.seek(0) # to move to the start of the file\n",
        "    for clip_data in filtered_data:\n",
        "      f.write(clip_data)\n",
        "    f.truncate()\n",
        "print(len(filtered_data))"
      ]
    },
    {
      "cell_type": "markdown",
      "metadata": {
        "id": "NQ7o710vEnAR"
      },
      "source": []
    },
    {
      "cell_type": "code",
      "execution_count": 15,
      "metadata": {
        "id": "qiVD2lW4x8TM",
        "colab": {
          "base_uri": "https://localhost:8080/"
        },
        "outputId": "8549a9c7-01a0-430a-d844-98b11f3efd37"
      },
      "outputs": [
        {
          "output_type": "stream",
          "name": "stdout",
          "text": [
            "Requirement already satisfied: opencv-python in /usr/local/lib/python3.10/dist-packages (from -r requirements.txt (line 1)) (4.8.0.76)\n",
            "Requirement already satisfied: tqdm in /usr/local/lib/python3.10/dist-packages (from -r requirements.txt (line 2)) (4.66.1)\n",
            "Requirement already satisfied: tensorboard in /usr/local/lib/python3.10/dist-packages (from -r requirements.txt (line 3)) (2.15.1)\n",
            "Collecting addict (from -r requirements.txt (line 4))\n",
            "  Downloading addict-2.4.0-py3-none-any.whl (3.8 kB)\n",
            "Requirement already satisfied: scikit-learn in /usr/local/lib/python3.10/dist-packages (from -r requirements.txt (line 5)) (1.2.2)\n",
            "Collecting pathspec (from -r requirements.txt (line 6))\n",
            "  Downloading pathspec-0.12.1-py3-none-any.whl (31 kB)\n",
            "Requirement already satisfied: numpy>=1.21.2 in /usr/local/lib/python3.10/dist-packages (from opencv-python->-r requirements.txt (line 1)) (1.23.5)\n",
            "Requirement already satisfied: absl-py>=0.4 in /usr/local/lib/python3.10/dist-packages (from tensorboard->-r requirements.txt (line 3)) (1.4.0)\n",
            "Requirement already satisfied: grpcio>=1.48.2 in /usr/local/lib/python3.10/dist-packages (from tensorboard->-r requirements.txt (line 3)) (1.60.1)\n",
            "Requirement already satisfied: google-auth<3,>=1.6.3 in /usr/local/lib/python3.10/dist-packages (from tensorboard->-r requirements.txt (line 3)) (2.17.3)\n",
            "Requirement already satisfied: google-auth-oauthlib<2,>=0.5 in /usr/local/lib/python3.10/dist-packages (from tensorboard->-r requirements.txt (line 3)) (1.2.0)\n",
            "Requirement already satisfied: markdown>=2.6.8 in /usr/local/lib/python3.10/dist-packages (from tensorboard->-r requirements.txt (line 3)) (3.5.2)\n",
            "Requirement already satisfied: protobuf<4.24,>=3.19.6 in /usr/local/lib/python3.10/dist-packages (from tensorboard->-r requirements.txt (line 3)) (3.20.3)\n",
            "Requirement already satisfied: requests<3,>=2.21.0 in /usr/local/lib/python3.10/dist-packages (from tensorboard->-r requirements.txt (line 3)) (2.31.0)\n",
            "Requirement already satisfied: setuptools>=41.0.0 in /usr/local/lib/python3.10/dist-packages (from tensorboard->-r requirements.txt (line 3)) (67.7.2)\n",
            "Requirement already satisfied: six>1.9 in /usr/local/lib/python3.10/dist-packages (from tensorboard->-r requirements.txt (line 3)) (1.16.0)\n",
            "Requirement already satisfied: tensorboard-data-server<0.8.0,>=0.7.0 in /usr/local/lib/python3.10/dist-packages (from tensorboard->-r requirements.txt (line 3)) (0.7.2)\n",
            "Requirement already satisfied: werkzeug>=1.0.1 in /usr/local/lib/python3.10/dist-packages (from tensorboard->-r requirements.txt (line 3)) (3.0.1)\n",
            "Requirement already satisfied: scipy>=1.3.2 in /usr/local/lib/python3.10/dist-packages (from scikit-learn->-r requirements.txt (line 5)) (1.11.4)\n",
            "Requirement already satisfied: joblib>=1.1.1 in /usr/local/lib/python3.10/dist-packages (from scikit-learn->-r requirements.txt (line 5)) (1.3.2)\n",
            "Requirement already satisfied: threadpoolctl>=2.0.0 in /usr/local/lib/python3.10/dist-packages (from scikit-learn->-r requirements.txt (line 5)) (3.2.0)\n",
            "Requirement already satisfied: cachetools<6.0,>=2.0.0 in /usr/local/lib/python3.10/dist-packages (from google-auth<3,>=1.6.3->tensorboard->-r requirements.txt (line 3)) (5.3.2)\n",
            "Requirement already satisfied: pyasn1-modules>=0.2.1 in /usr/local/lib/python3.10/dist-packages (from google-auth<3,>=1.6.3->tensorboard->-r requirements.txt (line 3)) (0.3.0)\n",
            "Requirement already satisfied: rsa<5,>=3.1.4 in /usr/local/lib/python3.10/dist-packages (from google-auth<3,>=1.6.3->tensorboard->-r requirements.txt (line 3)) (4.9)\n",
            "Requirement already satisfied: requests-oauthlib>=0.7.0 in /usr/local/lib/python3.10/dist-packages (from google-auth-oauthlib<2,>=0.5->tensorboard->-r requirements.txt (line 3)) (1.3.1)\n",
            "Requirement already satisfied: charset-normalizer<4,>=2 in /usr/local/lib/python3.10/dist-packages (from requests<3,>=2.21.0->tensorboard->-r requirements.txt (line 3)) (3.3.2)\n",
            "Requirement already satisfied: idna<4,>=2.5 in /usr/local/lib/python3.10/dist-packages (from requests<3,>=2.21.0->tensorboard->-r requirements.txt (line 3)) (3.6)\n",
            "Requirement already satisfied: urllib3<3,>=1.21.1 in /usr/local/lib/python3.10/dist-packages (from requests<3,>=2.21.0->tensorboard->-r requirements.txt (line 3)) (2.0.7)\n",
            "Requirement already satisfied: certifi>=2017.4.17 in /usr/local/lib/python3.10/dist-packages (from requests<3,>=2.21.0->tensorboard->-r requirements.txt (line 3)) (2024.2.2)\n",
            "Requirement already satisfied: MarkupSafe>=2.1.1 in /usr/local/lib/python3.10/dist-packages (from werkzeug>=1.0.1->tensorboard->-r requirements.txt (line 3)) (2.1.5)\n",
            "Requirement already satisfied: pyasn1<0.6.0,>=0.4.6 in /usr/local/lib/python3.10/dist-packages (from pyasn1-modules>=0.2.1->google-auth<3,>=1.6.3->tensorboard->-r requirements.txt (line 3)) (0.5.1)\n",
            "Requirement already satisfied: oauthlib>=3.0.0 in /usr/local/lib/python3.10/dist-packages (from requests-oauthlib>=0.7.0->google-auth-oauthlib<2,>=0.5->tensorboard->-r requirements.txt (line 3)) (3.2.2)\n",
            "Installing collected packages: addict, pathspec\n",
            "Successfully installed addict-2.4.0 pathspec-0.12.1\n"
          ]
        }
      ],
      "source": [
        "!pip install -r requirements.txt"
      ]
    },
    {
      "cell_type": "markdown",
      "metadata": {
        "id": "-s5Cq1WsTFDV"
      },
      "source": [
        "## **Before running the below train.py.  make sure to update the data_root and log_path in tusimple.py from the configs**"
      ]
    },
    {
      "cell_type": "markdown",
      "metadata": {
        "id": "ETErtxP-wlXq"
      },
      "source": []
    },
    {
      "cell_type": "code",
      "execution_count": null,
      "metadata": {
        "colab": {
          "base_uri": "https://localhost:8080/"
        },
        "id": "NyCRNLo3ktJG",
        "outputId": "db5cb5e7-ffbb-4139-ff19-f30f2014e816"
      },
      "outputs": [
        {
          "output_type": "stream",
          "name": "stdout",
          "text": [
            "2024-02-12 04:43:26.529792: E external/local_xla/xla/stream_executor/cuda/cuda_dnn.cc:9261] Unable to register cuDNN factory: Attempting to register factory for plugin cuDNN when one has already been registered\n",
            "2024-02-12 04:43:26.529854: E external/local_xla/xla/stream_executor/cuda/cuda_fft.cc:607] Unable to register cuFFT factory: Attempting to register factory for plugin cuFFT when one has already been registered\n",
            "2024-02-12 04:43:26.531416: E external/local_xla/xla/stream_executor/cuda/cuda_blas.cc:1515] Unable to register cuBLAS factory: Attempting to register factory for plugin cuBLAS when one has already been registered\n",
            "2024-02-12 04:43:27.913287: W tensorflow/compiler/tf2tensorrt/utils/py_utils.cc:38] TF-TRT Warning: Could not find TensorRT\n",
            "[2024/02/12 04:43:29] start training...\n",
            "Config (path: configs/tusimple.py): {'dataset': 'Tusimple', 'data_root': '$TUSIMPLEROOT', 'epoch': 100, 'batch_size': 32, 'optimizer': 'Adam', 'learning_rate': 0.0004, 'weight_decay': 0.0001, 'momentum': 0.9, 'scheduler': 'cos', 'gamma': 0.1, 'warmup': 'linear', 'warmup_iters': 100, 'backbone': '18', 'griding_num': 100, 'use_aux': True, 'sim_loss_w': 1.0, 'shp_loss_w': 0.0, 'note': '', 'log_path': '/content/logs/', 'finetune': None, 'resume': None, 'test_model': None, 'test_work_dir': None, 'num_lanes': 4}\n",
            "/usr/local/lib/python3.10/dist-packages/torch/utils/data/dataloader.py:557: UserWarning: This DataLoader will create 4 worker processes in total. Our suggested max number of worker in current system is 2, which is smaller than what this DataLoader is going to create. Please be aware that excessive worker creation might get DataLoader running slow or even freeze, lower the worker number to avoid potential slowness/freeze if necessary.\n",
            "  warnings.warn(_create_warning_msg(\n",
            "/usr/local/lib/python3.10/dist-packages/torchvision/models/_utils.py:208: UserWarning: The parameter 'pretrained' is deprecated since 0.13 and may be removed in the future, please use 'weights' instead.\n",
            "  warnings.warn(\n",
            "/usr/local/lib/python3.10/dist-packages/torchvision/models/_utils.py:223: UserWarning: Arguments other than a weight enum or `None` for 'weights' are deprecated since 0.13 and may be removed in the future. The current behavior is equivalent to passing `weights=ResNet18_Weights.IMAGENET1K_V1`. You can also use `weights=ResNet18_Weights.DEFAULT` to get the most up-to-date weights.\n",
            "  warnings.warn(msg)\n",
            "Downloading: \"https://download.pytorch.org/models/resnet18-f37072fd.pth\" to /root/.cache/torch/hub/checkpoints/resnet18-f37072fd.pth\n",
            "100% 44.7M/44.7M [00:00<00:00, 86.1MB/s]\n",
            "4\n",
            "Deleted /content/logs/20240212_044329_lr_4e-04_b_32/events.out.tfevents.1707713013.cfdf5fa5c076.5035.0\n",
            "Deleted /content/logs/20240212_044329_lr_4e-04_b_32/cfg.txt\n",
            "100% 4/4 [00:40<00:00, 10.13s/it, data_time=0.018, iou=0.016, loss=7.096, net_time=3.952, top1=0.281, top2=0.291, top3=0.308]\n",
            "Deleted /content/logs/20240212_044329_lr_4e-04_b_32/ep000.pth\n",
            "100% 4/4 [00:09<00:00,  2.38s/it, data_time=0.035, iou=0.016, loss=6.940, net_time=0.093, top1=0.321, top2=0.340, top3=0.358]\n",
            "Deleted /content/logs/20240212_044329_lr_4e-04_b_32/ep001.pth\n",
            "100% 4/4 [00:09<00:00,  2.32s/it, data_time=0.033, iou=0.018, loss=6.567, net_time=0.080, top1=0.417, top2=0.434, top3=0.449]\n",
            "Deleted /content/logs/20240212_044329_lr_4e-04_b_32/ep002.pth\n",
            "100% 4/4 [00:09<00:00,  2.28s/it, data_time=0.033, iou=0.026, loss=6.008, net_time=0.080, top1=0.433, top2=0.460, top3=0.477]\n",
            "Deleted /content/logs/20240212_044329_lr_4e-04_b_32/ep003.pth\n",
            "100% 4/4 [00:08<00:00,  2.22s/it, data_time=0.016, iou=0.049, loss=4.744, net_time=0.068, top1=0.485, top2=0.494, top3=0.499]\n",
            "Deleted /content/logs/20240212_044329_lr_4e-04_b_32/ep004.pth\n",
            "100% 4/4 [00:09<00:00,  2.35s/it, data_time=0.017, iou=0.078, loss=4.339, net_time=0.069, top1=0.462, top2=0.471, top3=0.480]\n",
            "Deleted /content/logs/20240212_044329_lr_4e-04_b_32/ep005.pth\n",
            "100% 4/4 [00:10<00:00,  2.60s/it, data_time=0.017, iou=0.151, loss=3.843, net_time=0.070, top1=0.475, top2=0.479, top3=0.493]\n",
            "Deleted /content/logs/20240212_044329_lr_4e-04_b_32/ep006.pth\n",
            "100% 4/4 [00:10<00:00,  2.54s/it, data_time=0.017, iou=0.189, loss=3.574, net_time=0.070, top1=0.481, top2=0.494, top3=0.517]\n",
            "Deleted /content/logs/20240212_044329_lr_4e-04_b_32/ep007.pth\n",
            "100% 4/4 [00:10<00:00,  2.73s/it, data_time=0.017, iou=0.197, loss=3.541, net_time=0.069, top1=0.493, top2=0.516, top3=0.526]\n",
            "Deleted /content/logs/20240212_044329_lr_4e-04_b_32/ep008.pth\n",
            "100% 4/4 [00:09<00:00,  2.36s/it, data_time=0.019, iou=0.050, loss=4.059, net_time=0.067, top1=0.491, top2=0.504, top3=0.529]\n",
            "Deleted /content/logs/20240212_044329_lr_4e-04_b_32/ep009.pth\n",
            "100% 4/4 [00:10<00:00,  2.54s/it, data_time=0.018, iou=0.147, loss=3.819, net_time=0.068, top1=0.477, top2=0.490, top3=0.496]\n",
            "Deleted /content/logs/20240212_044329_lr_4e-04_b_32/ep010.pth\n",
            "100% 4/4 [00:10<00:00,  2.52s/it, data_time=0.017, iou=0.181, loss=3.678, net_time=0.069, top1=0.459, top2=0.481, top3=0.500]\n",
            "Deleted /content/logs/20240212_044329_lr_4e-04_b_32/ep011.pth\n",
            "100% 4/4 [00:10<00:00,  2.72s/it, data_time=0.018, iou=0.217, loss=3.087, net_time=0.068, top1=0.456, top2=0.499, top3=0.535]\n",
            "Deleted /content/logs/20240212_044329_lr_4e-04_b_32/ep012.pth\n",
            "100% 4/4 [00:10<00:00,  2.61s/it, data_time=0.017, iou=0.214, loss=2.810, net_time=0.068, top1=0.480, top2=0.498, top3=0.512]\n",
            "Deleted /content/logs/20240212_044329_lr_4e-04_b_32/ep013.pth\n",
            "100% 4/4 [00:09<00:00,  2.26s/it, data_time=0.033, iou=0.190, loss=2.624, net_time=0.092, top1=0.487, top2=0.506, top3=0.521]\n",
            "Deleted /content/logs/20240212_044329_lr_4e-04_b_32/ep014.pth\n",
            "100% 4/4 [00:08<00:00,  2.21s/it, data_time=0.018, iou=0.215, loss=2.590, net_time=0.071, top1=0.453, top2=0.507, top3=0.548]\n",
            "Deleted /content/logs/20240212_044329_lr_4e-04_b_32/ep015.pth\n",
            "100% 4/4 [00:09<00:00,  2.33s/it, data_time=0.017, iou=0.205, loss=2.646, net_time=0.068, top1=0.570, top2=0.602, top3=0.629]\n",
            "Deleted /content/logs/20240212_044329_lr_4e-04_b_32/ep016.pth\n",
            "100% 4/4 [00:09<00:00,  2.39s/it, data_time=0.017, iou=0.213, loss=2.593, net_time=0.068, top1=0.481, top2=0.507, top3=0.556]\n",
            "Deleted /content/logs/20240212_044329_lr_4e-04_b_32/ep017.pth\n",
            "100% 4/4 [00:10<00:00,  2.59s/it, data_time=0.018, iou=0.218, loss=2.469, net_time=0.070, top1=0.465, top2=0.521, top3=0.580]\n",
            "Deleted /content/logs/20240212_044329_lr_4e-04_b_32/ep018.pth\n",
            "100% 4/4 [00:10<00:00,  2.66s/it, data_time=0.017, iou=0.195, loss=2.724, net_time=0.067, top1=0.454, top2=0.496, top3=0.517]\n",
            "Deleted /content/logs/20240212_044329_lr_4e-04_b_32/ep019.pth\n",
            "100% 4/4 [00:09<00:00,  2.32s/it, data_time=0.036, iou=0.191, loss=2.298, net_time=0.081, top1=0.513, top2=0.540, top3=0.579]\n",
            "Deleted /content/logs/20240212_044329_lr_4e-04_b_32/ep020.pth\n",
            "100% 4/4 [00:10<00:00,  2.63s/it, data_time=0.019, iou=0.192, loss=2.407, net_time=0.071, top1=0.480, top2=0.510, top3=0.547]\n",
            "Deleted /content/logs/20240212_044329_lr_4e-04_b_32/ep021.pth\n",
            "100% 4/4 [00:10<00:00,  2.68s/it, data_time=0.017, iou=0.192, loss=2.349, net_time=0.071, top1=0.458, top2=0.479, top3=0.530]\n",
            "Deleted /content/logs/20240212_044329_lr_4e-04_b_32/ep022.pth\n",
            "100% 4/4 [00:10<00:00,  2.70s/it, data_time=0.017, iou=0.214, loss=2.192, net_time=0.069, top1=0.472, top2=0.523, top3=0.579]\n",
            "Deleted /content/logs/20240212_044329_lr_4e-04_b_32/ep023.pth\n",
            "100% 4/4 [00:10<00:00,  2.67s/it, data_time=0.021, iou=0.237, loss=2.108, net_time=0.070, top1=0.494, top2=0.548, top3=0.598]\n",
            "Deleted /content/logs/20240212_044329_lr_4e-04_b_32/ep024.pth\n",
            "100% 4/4 [00:10<00:00,  2.69s/it, data_time=0.018, iou=0.268, loss=2.147, net_time=0.069, top1=0.522, top2=0.564, top3=0.603]\n",
            "Deleted /content/logs/20240212_044329_lr_4e-04_b_32/ep025.pth\n",
            "100% 4/4 [00:10<00:00,  2.72s/it, data_time=0.020, iou=0.233, loss=2.228, net_time=0.067, top1=0.477, top2=0.529, top3=0.577]\n",
            "Deleted /content/logs/20240212_044329_lr_4e-04_b_32/ep026.pth\n",
            "100% 4/4 [00:10<00:00,  2.61s/it, data_time=0.019, iou=0.240, loss=2.109, net_time=0.070, top1=0.449, top2=0.500, top3=0.546]\n",
            "Deleted /content/logs/20240212_044329_lr_4e-04_b_32/ep027.pth\n",
            "100% 4/4 [00:10<00:00,  2.54s/it, data_time=0.018, iou=0.276, loss=1.959, net_time=0.068, top1=0.485, top2=0.549, top3=0.618]\n",
            "Deleted /content/logs/20240212_044329_lr_4e-04_b_32/ep028.pth\n",
            "100% 4/4 [00:09<00:00,  2.33s/it, data_time=0.019, iou=0.413, loss=2.234, net_time=0.067, top1=0.515, top2=0.569, top3=0.640]\n",
            "Deleted /content/logs/20240212_044329_lr_4e-04_b_32/ep029.pth\n",
            "100% 4/4 [00:09<00:00,  2.28s/it, data_time=0.033, iou=0.207, loss=2.470, net_time=0.086, top1=0.482, top2=0.519, top3=0.567]\n",
            "Deleted /content/logs/20240212_044329_lr_4e-04_b_32/ep030.pth\n",
            "100% 4/4 [00:09<00:00,  2.25s/it, data_time=0.026, iou=0.199, loss=2.325, net_time=0.085, top1=0.484, top2=0.522, top3=0.565]\n",
            "Deleted /content/logs/20240212_044329_lr_4e-04_b_32/ep031.pth\n",
            "100% 4/4 [00:09<00:00,  2.37s/it, data_time=0.035, iou=0.278, loss=2.185, net_time=0.083, top1=0.453, top2=0.512, top3=0.574]\n",
            "Deleted /content/logs/20240212_044329_lr_4e-04_b_32/ep032.pth\n",
            "100% 4/4 [00:09<00:00,  2.38s/it, data_time=0.032, iou=0.365, loss=1.850, net_time=0.101, top1=0.523, top2=0.590, top3=0.670]\n",
            "Deleted /content/logs/20240212_044329_lr_4e-04_b_32/ep033.pth\n",
            "100% 4/4 [00:10<00:00,  2.62s/it, data_time=0.019, iou=0.273, loss=1.966, net_time=0.069, top1=0.526, top2=0.570, top3=0.613]\n",
            "Deleted /content/logs/20240212_044329_lr_4e-04_b_32/ep034.pth\n",
            "100% 4/4 [00:10<00:00,  2.71s/it, data_time=0.018, iou=0.277, loss=2.101, net_time=0.066, top1=0.481, top2=0.525, top3=0.569]\n",
            "Deleted /content/logs/20240212_044329_lr_4e-04_b_32/ep035.pth\n",
            "100% 4/4 [00:10<00:00,  2.73s/it, data_time=0.019, iou=0.424, loss=1.960, net_time=0.069, top1=0.470, top2=0.519, top3=0.592]\n",
            "Deleted /content/logs/20240212_044329_lr_4e-04_b_32/ep036.pth\n",
            "100% 4/4 [00:10<00:00,  2.72s/it, data_time=0.020, iou=0.404, loss=1.778, net_time=0.071, top1=0.497, top2=0.583, top3=0.675]\n",
            "Deleted /content/logs/20240212_044329_lr_4e-04_b_32/ep037.pth\n",
            "100% 4/4 [00:10<00:00,  2.67s/it, data_time=0.020, iou=0.322, loss=2.317, net_time=0.070, top1=0.467, top2=0.499, top3=0.541]\n",
            "Deleted /content/logs/20240212_044329_lr_4e-04_b_32/ep038.pth\n",
            "100% 4/4 [00:10<00:00,  2.68s/it, data_time=0.019, iou=0.553, loss=1.682, net_time=0.071, top1=0.519, top2=0.608, top3=0.699]\n",
            "Deleted /content/logs/20240212_044329_lr_4e-04_b_32/ep039.pth\n",
            "100% 4/4 [00:10<00:00,  2.67s/it, data_time=0.019, iou=0.421, loss=1.702, net_time=0.070, top1=0.498, top2=0.597, top3=0.654]\n",
            "Deleted /content/logs/20240212_044329_lr_4e-04_b_32/ep040.pth\n",
            "100% 4/4 [00:10<00:00,  2.65s/it, data_time=0.018, iou=0.552, loss=1.477, net_time=0.069, top1=0.561, top2=0.661, top3=0.761]\n",
            "Deleted /content/logs/20240212_044329_lr_4e-04_b_32/ep041.pth\n",
            "100% 4/4 [00:10<00:00,  2.74s/it, data_time=0.018, iou=0.526, loss=1.828, net_time=0.069, top1=0.517, top2=0.599, top3=0.656]\n",
            "Deleted /content/logs/20240212_044329_lr_4e-04_b_32/ep042.pth\n",
            "100% 4/4 [00:09<00:00,  2.31s/it, data_time=0.019, iou=0.493, loss=1.615, net_time=0.071, top1=0.518, top2=0.625, top3=0.685]\n",
            "Deleted /content/logs/20240212_044329_lr_4e-04_b_32/ep043.pth\n",
            "100% 4/4 [00:09<00:00,  2.31s/it, data_time=0.019, iou=0.511, loss=1.779, net_time=0.070, top1=0.518, top2=0.609, top3=0.675]\n",
            "Deleted /content/logs/20240212_044329_lr_4e-04_b_32/ep044.pth\n",
            "100% 4/4 [00:10<00:00,  2.51s/it, data_time=0.018, iou=0.416, loss=1.758, net_time=0.069, top1=0.516, top2=0.585, top3=0.647]\n",
            "Deleted /content/logs/20240212_044329_lr_4e-04_b_32/ep045.pth\n",
            "100% 4/4 [00:10<00:00,  2.65s/it, data_time=0.017, iou=0.516, loss=1.684, net_time=0.068, top1=0.480, top2=0.581, top3=0.656]\n",
            "Deleted /content/logs/20240212_044329_lr_4e-04_b_32/ep046.pth\n",
            "100% 4/4 [00:09<00:00,  2.30s/it, data_time=0.032, iou=0.547, loss=1.791, net_time=0.082, top1=0.485, top2=0.607, top3=0.675]\n",
            "Deleted /content/logs/20240212_044329_lr_4e-04_b_32/ep047.pth\n",
            "100% 4/4 [00:09<00:00,  2.34s/it, data_time=0.030, iou=0.534, loss=1.727, net_time=0.083, top1=0.499, top2=0.594, top3=0.656]\n",
            "Deleted /content/logs/20240212_044329_lr_4e-04_b_32/ep048.pth\n",
            "100% 4/4 [00:10<00:00,  2.53s/it, data_time=0.018, iou=0.555, loss=1.604, net_time=0.073, top1=0.516, top2=0.614, top3=0.708]\n",
            "Deleted /content/logs/20240212_044329_lr_4e-04_b_32/ep049.pth\n",
            "100% 4/4 [00:09<00:00,  2.39s/it, data_time=0.017, iou=0.614, loss=1.563, net_time=0.069, top1=0.518, top2=0.615, top3=0.694]\n",
            "Deleted /content/logs/20240212_044329_lr_4e-04_b_32/ep050.pth\n",
            "100% 4/4 [00:10<00:00,  2.57s/it, data_time=0.018, iou=0.553, loss=1.477, net_time=0.070, top1=0.546, top2=0.643, top3=0.737]\n",
            "Deleted /content/logs/20240212_044329_lr_4e-04_b_32/ep051.pth\n",
            "100% 4/4 [00:10<00:00,  2.62s/it, data_time=0.019, iou=0.494, loss=1.814, net_time=0.071, top1=0.522, top2=0.606, top3=0.650]\n",
            "Deleted /content/logs/20240212_044329_lr_4e-04_b_32/ep052.pth\n",
            "100% 4/4 [00:09<00:00,  2.47s/it, data_time=0.018, iou=0.557, loss=1.569, net_time=0.068, top1=0.548, top2=0.628, top3=0.686]\n",
            "Deleted /content/logs/20240212_044329_lr_4e-04_b_32/ep053.pth\n",
            "100% 4/4 [00:09<00:00,  2.42s/it, data_time=0.026, iou=0.612, loss=1.573, net_time=0.069, top1=0.513, top2=0.603, top3=0.702]\n",
            "Deleted /content/logs/20240212_044329_lr_4e-04_b_32/ep054.pth\n",
            "100% 4/4 [00:09<00:00,  2.36s/it, data_time=0.033, iou=0.656, loss=1.527, net_time=0.082, top1=0.515, top2=0.636, top3=0.710]\n",
            "Deleted /content/logs/20240212_044329_lr_4e-04_b_32/ep055.pth\n",
            "100% 4/4 [00:09<00:00,  2.36s/it, data_time=0.034, iou=0.636, loss=1.444, net_time=0.080, top1=0.525, top2=0.654, top3=0.770]\n",
            "Deleted /content/logs/20240212_044329_lr_4e-04_b_32/ep056.pth\n",
            "100% 4/4 [00:09<00:00,  2.38s/it, data_time=0.031, iou=0.497, loss=1.663, net_time=0.083, top1=0.489, top2=0.614, top3=0.670]\n",
            "Deleted /content/logs/20240212_044329_lr_4e-04_b_32/ep057.pth\n",
            "100% 4/4 [00:09<00:00,  2.38s/it, data_time=0.036, iou=0.636, loss=1.592, net_time=0.086, top1=0.519, top2=0.607, top3=0.685]\n",
            "Deleted /content/logs/20240212_044329_lr_4e-04_b_32/ep058.pth\n",
            "100% 4/4 [00:09<00:00,  2.37s/it, data_time=0.034, iou=0.623, loss=1.443, net_time=0.080, top1=0.538, top2=0.658, top3=0.743]\n",
            "Deleted /content/logs/20240212_044329_lr_4e-04_b_32/ep059.pth\n",
            "100% 4/4 [00:09<00:00,  2.35s/it, data_time=0.033, iou=0.611, loss=1.754, net_time=0.092, top1=0.488, top2=0.559, top3=0.642]\n",
            "Deleted /content/logs/20240212_044329_lr_4e-04_b_32/ep060.pth\n",
            "100% 4/4 [00:09<00:00,  2.35s/it, data_time=0.032, iou=0.642, loss=1.357, net_time=0.084, top1=0.605, top2=0.693, top3=0.760]\n",
            "Deleted /content/logs/20240212_044329_lr_4e-04_b_32/ep061.pth\n",
            "100% 4/4 [00:09<00:00,  2.40s/it, data_time=0.037, iou=0.653, loss=1.348, net_time=0.088, top1=0.570, top2=0.713, top3=0.805]\n",
            "Deleted /content/logs/20240212_044329_lr_4e-04_b_32/ep062.pth\n",
            "100% 4/4 [00:08<00:00,  2.21s/it, data_time=0.018, iou=0.582, loss=1.327, net_time=0.071, top1=0.595, top2=0.711, top3=0.790]\n",
            "Deleted /content/logs/20240212_044329_lr_4e-04_b_32/ep063.pth\n",
            "100% 4/4 [00:09<00:00,  2.41s/it, data_time=0.019, iou=0.626, loss=1.509, net_time=0.073, top1=0.533, top2=0.662, top3=0.754]\n",
            "Deleted /content/logs/20240212_044329_lr_4e-04_b_32/ep064.pth\n",
            "100% 4/4 [00:09<00:00,  2.47s/it, data_time=0.023, iou=0.577, loss=1.471, net_time=0.070, top1=0.536, top2=0.652, top3=0.738]\n",
            "Deleted /content/logs/20240212_044329_lr_4e-04_b_32/ep065.pth\n",
            "100% 4/4 [00:10<00:00,  2.66s/it, data_time=0.018, iou=0.653, loss=1.524, net_time=0.070, top1=0.507, top2=0.627, top3=0.742]\n",
            "Deleted /content/logs/20240212_044329_lr_4e-04_b_32/ep066.pth\n",
            "100% 4/4 [00:10<00:00,  2.57s/it, data_time=0.019, iou=0.613, loss=1.535, net_time=0.073, top1=0.533, top2=0.642, top3=0.730]\n",
            "Deleted /content/logs/20240212_044329_lr_4e-04_b_32/ep067.pth\n",
            "100% 4/4 [00:09<00:00,  2.47s/it, data_time=0.017, iou=0.675, loss=1.507, net_time=0.071, top1=0.539, top2=0.642, top3=0.699]\n",
            "Deleted /content/logs/20240212_044329_lr_4e-04_b_32/ep068.pth\n",
            "100% 4/4 [00:10<00:00,  2.65s/it, data_time=0.020, iou=0.590, loss=1.628, net_time=0.070, top1=0.531, top2=0.610, top3=0.698]\n",
            "Deleted /content/logs/20240212_044329_lr_4e-04_b_32/ep069.pth\n",
            "100% 4/4 [00:10<00:00,  2.70s/it, data_time=0.019, iou=0.622, loss=1.316, net_time=0.071, top1=0.576, top2=0.706, top3=0.809]\n",
            "Deleted /content/logs/20240212_044329_lr_4e-04_b_32/ep070.pth\n",
            "100% 4/4 [00:11<00:00,  2.76s/it, data_time=0.020, iou=0.627, loss=1.424, net_time=0.074, top1=0.529, top2=0.674, top3=0.779]\n",
            "Deleted /content/logs/20240212_044329_lr_4e-04_b_32/ep071.pth\n",
            "100% 4/4 [00:10<00:00,  2.70s/it, data_time=0.018, iou=0.657, loss=1.312, net_time=0.072, top1=0.559, top2=0.679, top3=0.798]\n",
            "Deleted /content/logs/20240212_044329_lr_4e-04_b_32/ep072.pth\n",
            "100% 4/4 [00:10<00:00,  2.74s/it, data_time=0.019, iou=0.693, loss=1.321, net_time=0.070, top1=0.559, top2=0.685, top3=0.767]\n",
            "Deleted /content/logs/20240212_044329_lr_4e-04_b_32/ep073.pth\n",
            "100% 4/4 [00:09<00:00,  2.27s/it, data_time=0.033, iou=0.632, loss=1.306, net_time=0.085, top1=0.529, top2=0.711, top3=0.797]\n",
            "Deleted /content/logs/20240212_044329_lr_4e-04_b_32/ep074.pth\n",
            "100% 4/4 [00:09<00:00,  2.35s/it, data_time=0.018, iou=0.692, loss=1.304, net_time=0.069, top1=0.556, top2=0.685, top3=0.781]\n",
            "Deleted /content/logs/20240212_044329_lr_4e-04_b_32/ep075.pth\n",
            "100% 4/4 [00:10<00:00,  2.59s/it, data_time=0.018, iou=0.642, loss=1.479, net_time=0.067, top1=0.521, top2=0.650, top3=0.780]\n",
            "Deleted /content/logs/20240212_044329_lr_4e-04_b_32/ep076.pth\n",
            "100% 4/4 [00:09<00:00,  2.44s/it, data_time=0.019, iou=0.689, loss=1.281, net_time=0.069, top1=0.569, top2=0.699, top3=0.799]\n",
            "Deleted /content/logs/20240212_044329_lr_4e-04_b_32/ep077.pth\n",
            "100% 4/4 [00:08<00:00,  2.22s/it, data_time=0.035, iou=0.620, loss=1.283, net_time=0.092, top1=0.566, top2=0.720, top3=0.810]\n",
            "Deleted /content/logs/20240212_044329_lr_4e-04_b_32/ep078.pth\n",
            "100% 4/4 [00:09<00:00,  2.33s/it, data_time=0.035, iou=0.628, loss=1.352, net_time=0.081, top1=0.529, top2=0.696, top3=0.780]\n",
            "Deleted /content/logs/20240212_044329_lr_4e-04_b_32/ep079.pth\n",
            "100% 4/4 [00:08<00:00,  2.25s/it, data_time=0.018, iou=0.676, loss=1.204, net_time=0.069, top1=0.566, top2=0.763, top3=0.854]\n",
            "Deleted /content/logs/20240212_044329_lr_4e-04_b_32/ep080.pth\n",
            "100% 4/4 [00:09<00:00,  2.39s/it, data_time=0.018, iou=0.635, loss=1.484, net_time=0.070, top1=0.503, top2=0.646, top3=0.749]\n",
            "Deleted /content/logs/20240212_044329_lr_4e-04_b_32/ep081.pth\n",
            "100% 4/4 [00:09<00:00,  2.28s/it, data_time=0.032, iou=0.654, loss=1.381, net_time=0.086, top1=0.541, top2=0.680, top3=0.765]\n",
            "Deleted /content/logs/20240212_044329_lr_4e-04_b_32/ep082.pth\n",
            "100% 4/4 [00:09<00:00,  2.28s/it, data_time=0.018, iou=0.628, loss=1.406, net_time=0.068, top1=0.546, top2=0.665, top3=0.744]\n",
            "Deleted /content/logs/20240212_044329_lr_4e-04_b_32/ep083.pth\n",
            "100% 4/4 [00:09<00:00,  2.48s/it, data_time=0.020, iou=0.658, loss=1.476, net_time=0.068, top1=0.521, top2=0.641, top3=0.714]\n",
            "Deleted /content/logs/20240212_044329_lr_4e-04_b_32/ep084.pth\n",
            "100% 4/4 [00:10<00:00,  2.69s/it, data_time=0.020, iou=0.678, loss=1.227, net_time=0.074, top1=0.613, top2=0.734, top3=0.808]\n",
            "Deleted /content/logs/20240212_044329_lr_4e-04_b_32/ep085.pth\n",
            "100% 4/4 [00:10<00:00,  2.62s/it, data_time=0.018, iou=0.624, loss=1.384, net_time=0.070, top1=0.549, top2=0.689, top3=0.767]\n",
            "Deleted /content/logs/20240212_044329_lr_4e-04_b_32/ep086.pth\n",
            "100% 4/4 [00:10<00:00,  2.54s/it, data_time=0.024, iou=0.655, loss=1.362, net_time=0.071, top1=0.500, top2=0.692, top3=0.790]\n",
            "Deleted /content/logs/20240212_044329_lr_4e-04_b_32/ep087.pth\n",
            "100% 4/4 [00:09<00:00,  2.36s/it, data_time=0.034, iou=0.615, loss=1.455, net_time=0.086, top1=0.539, top2=0.672, top3=0.777]\n",
            "Deleted /content/logs/20240212_044329_lr_4e-04_b_32/ep088.pth\n",
            "100% 4/4 [00:10<00:00,  2.73s/it, data_time=0.019, iou=0.640, loss=1.357, net_time=0.068, top1=0.549, top2=0.686, top3=0.779]\n",
            "Deleted /content/logs/20240212_044329_lr_4e-04_b_32/ep089.pth\n",
            "100% 4/4 [00:11<00:00,  2.77s/it, data_time=0.020, iou=0.599, loss=1.530, net_time=0.069, top1=0.556, top2=0.648, top3=0.685]\n",
            "Deleted /content/logs/20240212_044329_lr_4e-04_b_32/ep090.pth\n",
            "100% 4/4 [00:10<00:00,  2.72s/it, data_time=0.018, iou=0.704, loss=1.311, net_time=0.069, top1=0.551, top2=0.705, top3=0.805]\n",
            "Deleted /content/logs/20240212_044329_lr_4e-04_b_32/ep091.pth\n",
            "100% 4/4 [00:10<00:00,  2.71s/it, data_time=0.020, iou=0.640, loss=1.443, net_time=0.069, top1=0.564, top2=0.689, top3=0.749]\n",
            "Deleted /content/logs/20240212_044329_lr_4e-04_b_32/ep092.pth\n",
            "100% 4/4 [00:10<00:00,  2.61s/it, data_time=0.019, iou=0.710, loss=1.272, net_time=0.070, top1=0.536, top2=0.731, top3=0.821]\n",
            "Deleted /content/logs/20240212_044329_lr_4e-04_b_32/ep093.pth\n",
            "100% 4/4 [00:10<00:00,  2.59s/it, data_time=0.018, iou=0.687, loss=1.282, net_time=0.068, top1=0.548, top2=0.689, top3=0.770]\n",
            "Deleted /content/logs/20240212_044329_lr_4e-04_b_32/ep094.pth\n",
            "100% 4/4 [00:10<00:00,  2.60s/it, data_time=0.019, iou=0.691, loss=1.216, net_time=0.068, top1=0.580, top2=0.735, top3=0.820]\n",
            "Deleted /content/logs/20240212_044329_lr_4e-04_b_32/ep095.pth\n",
            "100% 4/4 [00:10<00:00,  2.62s/it, data_time=0.018, iou=0.665, loss=1.083, net_time=0.070, top1=0.617, top2=0.766, top3=0.855]\n",
            "Deleted /content/logs/20240212_044329_lr_4e-04_b_32/ep096.pth\n",
            "100% 4/4 [00:10<00:00,  2.65s/it, data_time=0.019, iou=0.722, loss=1.125, net_time=0.068, top1=0.642, top2=0.780, top3=0.853]\n",
            "Deleted /content/logs/20240212_044329_lr_4e-04_b_32/ep097.pth\n",
            "100% 4/4 [00:10<00:00,  2.56s/it, data_time=0.019, iou=0.673, loss=1.387, net_time=0.069, top1=0.565, top2=0.667, top3=0.740]\n",
            "Deleted /content/logs/20240212_044329_lr_4e-04_b_32/ep098.pth\n",
            "100% 4/4 [00:10<00:00,  2.56s/it, data_time=0.019, iou=0.694, loss=1.227, net_time=0.069, top1=0.569, top2=0.706, top3=0.805]\n"
          ]
        }
      ],
      "source": [
        "#before running this make sure to update the data_root an d log_path in tusimple.py from the configs\n",
        "!python train.py configs/tusimple.py"
      ]
    },
    {
      "cell_type": "markdown",
      "metadata": {
        "id": "946ODGgv7bKX"
      },
      "source": [
        "## The trained weights are inside the logs folder as ep099.pth"
      ]
    },
    {
      "cell_type": "markdown",
      "metadata": {
        "id": "lUzi898RxKi8"
      },
      "source": [
        "## below two cells are optional code that could be executed per needs."
      ]
    },
    {
      "cell_type": "code",
      "execution_count": null,
      "metadata": {
        "id": "vE4U2Q7Os0Zg"
      },
      "outputs": [],
      "source": [
        "!du -h /content/ #to check the disk space"
      ]
    },
    {
      "cell_type": "code",
      "execution_count": null,
      "metadata": {
        "id": "3e7aywfGkHYF"
      },
      "outputs": [],
      "source": [
        "# Only run this if you want to remove the logs add the folder name accordingly as it gets changed with some random numbers everytime.\n",
        "\n",
        "!rm -rf /content/logs/'20240122_093253_lr_4e-04_b_32'"
      ]
    },
    {
      "cell_type": "markdown",
      "metadata": {
        "id": "KiZzOONuqCKK"
      },
      "source": [
        "## code for testing"
      ]
    },
    {
      "cell_type": "code",
      "execution_count": 16,
      "metadata": {
        "id": "sx7APgjwz1UA"
      },
      "outputs": [],
      "source": [
        "# copying the testing data in the $TUSIMPLEROOT/clips (NOTE: ONLY DO THIS IF YOU WANT TO TEST THE DATA)\n",
        "\n",
        "\n",
        "#THIS IS NOT WORKING AS INTENDED BECAUSE THERE IS ALREADY 0601 and 0531 in both the training as well as testing set.\n",
        "\n",
        "%cp -r /content/drive/MyDrive/TuSimple_sm/test_set/clips/* /content/Ultra-Fast-Lane-Detection/'$TUSIMPLEROOT'/clips"
      ]
    },
    {
      "cell_type": "code",
      "execution_count": 17,
      "metadata": {
        "id": "BN29ACjuv0zw",
        "colab": {
          "base_uri": "https://localhost:8080/"
        },
        "outputId": "ff6219c5-dfea-465d-e175-7b9be882f4f9"
      },
      "outputs": [
        {
          "output_type": "stream",
          "name": "stdout",
          "text": [
            "75\n"
          ]
        }
      ],
      "source": [
        "#FILTERING THE text.txt FILE:\n",
        "\n",
        "\n",
        "filtered_data = []\n",
        "\n",
        "with open(\"$TUSIMPLEROOT/test.txt\", \"r\") as f:\n",
        "  for line in f:\n",
        "    # print(\"clip_name\", clip_name)\n",
        "    for i in range(0, len(test_clip_list)):\n",
        "      if test_clip_list[i] in line:\n",
        "        filtered_data = filtered_data + [line]\n",
        "with open(\"$TUSIMPLEROOT/test.txt\", \"w\") as f:\n",
        "    f.seek(0) # to move to the start of the file\n",
        "    for clip_data in filtered_data:\n",
        "      f.write(clip_data)\n",
        "    f.truncate()\n",
        "print(len(filtered_data))"
      ]
    },
    {
      "cell_type": "markdown",
      "metadata": {
        "id": "jl_xHSPyKAyP"
      },
      "source": [
        "## below cell is optional dont run unnecessarily. This is for filtering the test_label.json if it contains more data than the test.txt file. This code can also be used for filtering the training json files if used accordingly"
      ]
    },
    {
      "cell_type": "code",
      "execution_count": 18,
      "metadata": {
        "colab": {
          "base_uri": "https://localhost:8080/"
        },
        "id": "Tc2RqOm1-eKn",
        "outputId": "80ead00f-d98a-4c98-b17a-ad46aa3672d5"
      },
      "outputs": [
        {
          "output_type": "stream",
          "name": "stdout",
          "text": [
            "75\n"
          ]
        }
      ],
      "source": [
        "# filtering the test_label.json file (OPTIONAL) ------------ONLY RUN IF YOU DON'T HAVE PROPER test_label.json file\n",
        "\n",
        "# Import the json module\n",
        "import json\n",
        "\n",
        "# Open the test.txt file and read the clip names\n",
        "with open(\"$TUSIMPLEROOT/test.txt\") as f:\n",
        "  clip_names = f.read().splitlines()\n",
        "\n",
        "# Open the test_label.json file and load the data\n",
        "with open(\"$TUSIMPLEROOT/test_label.json\") as f:\n",
        "  data = [json.loads(line) for line in f]\n",
        "\n",
        "# Create an empty list to store the filtered data\n",
        "filtered_data = []\n",
        "\n",
        "# Loop through the data and check if the clip name matches any of the clip names in the test.txt file\n",
        "for item in data:\n",
        "  if item[\"raw_file\"] in clip_names:\n",
        "    # If yes, append the item to the filtered data list\n",
        "    filtered_data.append(item)\n",
        "print(len(filtered_data))\n",
        "# Open a new file to write the filtered data\n",
        "with open(\"$TUSIMPLEROOT/test_label.json\", \"w\") as f:\n",
        "  # Dump the filtered data list as json\n",
        "  for obj in filtered_data:\n",
        "    f.write(json.dumps(obj) + \"\\n\")\n",
        "\n",
        "#rename the filtered_test_label.json as test_label.json and rename the original test_label.json to other name in order to run below cell"
      ]
    },
    {
      "cell_type": "code",
      "execution_count": null,
      "metadata": {
        "colab": {
          "base_uri": "https://localhost:8080/"
        },
        "id": "n2P-7N6Wkttc",
        "outputId": "31e2da10-bb11-4335-f04b-8fab75291c5a"
      },
      "outputs": [
        {
          "output_type": "stream",
          "name": "stdout",
          "text": [
            "2024-02-02 16:03:20.222757: E external/local_xla/xla/stream_executor/cuda/cuda_dnn.cc:9261] Unable to register cuDNN factory: Attempting to register factory for plugin cuDNN when one has already been registered\n",
            "2024-02-02 16:03:20.222815: E external/local_xla/xla/stream_executor/cuda/cuda_fft.cc:607] Unable to register cuFFT factory: Attempting to register factory for plugin cuFFT when one has already been registered\n",
            "2024-02-02 16:03:20.224154: E external/local_xla/xla/stream_executor/cuda/cuda_blas.cc:1515] Unable to register cuBLAS factory: Attempting to register factory for plugin cuBLAS when one has already been registered\n",
            "2024-02-02 16:03:21.479128: W tensorflow/compiler/tf2tensorrt/utils/py_utils.cc:38] TF-TRT Warning: Could not find TensorRT\n",
            "merge  test_model  config\n",
            "start testing...\n",
            "/usr/local/lib/python3.10/dist-packages/torchvision/models/_utils.py:208: UserWarning: The parameter 'pretrained' is deprecated since 0.13 and may be removed in the future, please use 'weights' instead.\n",
            "  warnings.warn(\n",
            "/usr/local/lib/python3.10/dist-packages/torchvision/models/_utils.py:223: UserWarning: Arguments other than a weight enum or `None` for 'weights' are deprecated since 0.13 and may be removed in the future. The current behavior is equivalent to passing `weights=None`.\n",
            "  warnings.warn(msg)\n",
            "test.avi\n",
            "100% 90/90 [00:06<00:00, 14.65it/s]\n"
          ]
        }
      ],
      "source": [
        "#data visualization for trained weights - this creates test.avi video file for demo\n",
        "\n",
        "#python demo.py configs/tusimple.py --test_model path_to_tusimple_18.pth\n",
        "\n",
        "!python demo.py configs/tusimple.py --test_model /content/drive/MyDrive/'Medium UFLD'/ep099.pth"
      ]
    },
    {
      "cell_type": "code",
      "execution_count": null,
      "metadata": {
        "colab": {
          "base_uri": "https://localhost:8080/",
          "height": 246
        },
        "id": "tdDatGcGQ-D8",
        "outputId": "68dc00e6-1a74-4374-d9f1-cd56f05a64b7"
      },
      "outputs": [],
      "source": [
        "# to display the video demo\n",
        "from IPython.display import HTML\n",
        "from base64 import b64encode\n",
        "import os\n",
        "# Compress video\n",
        "os.system(f\"ffmpeg -i /content/Ultra-Fast-Lane-Detection/test.avi -vcodec libx264 video.mp4\")\n",
        "# Show video\n",
        "mp4 = open('video.mp4','rb').read()\n",
        "data_url = \"data:video/mp4;base64,\" + b64encode(mp4).decode()\n",
        "HTML(\"\"\"\n",
        "<video width=400 controls>\n",
        "  <source src=\"%s\" type=\"video/mp4\">\n",
        "</video>\n",
        "\"\"\" % data_url)"
      ]
    },
    {
      "cell_type": "code",
      "execution_count": null,
      "metadata": {
        "colab": {
          "base_uri": "https://localhost:8080/"
        },
        "id": "8G4m4VFR2t1u",
        "outputId": "9c78997b-f3f1-4c7d-accf-9002ecc144b2"
      },
      "outputs": [
        {
          "output_type": "stream",
          "name": "stdout",
          "text": [
            "/usr/local/lib/python3.10/dist-packages/torchvision/models/_utils.py:208: UserWarning: The parameter 'pretrained' is deprecated since 0.13 and may be removed in the future, please use 'weights' instead.\n",
            "  warnings.warn(\n",
            "/usr/local/lib/python3.10/dist-packages/torchvision/models/_utils.py:223: UserWarning: Arguments other than a weight enum or `None` for 'weights' are deprecated since 0.13 and may be removed in the future. The current behavior is equivalent to passing `weights=None`.\n",
            "  warnings.warn(msg)\n",
            "average time: 0.0054066205024719234\n",
            "average fps: 184.95842264919406\n",
            "fastest time: 0.002687692642211914\n",
            "fastest fps: 372.0663532333895\n",
            "slowest time: 0.006170511245727539\n",
            "slowest fps: 162.0611259224914\n"
          ]
        }
      ],
      "source": [
        "# Testing runtime\n",
        "\n",
        "!python speed_simple.py"
      ]
    },
    {
      "cell_type": "code",
      "execution_count": 25,
      "metadata": {
        "colab": {
          "base_uri": "https://localhost:8080/"
        },
        "id": "qzFcTBUn3M-U",
        "outputId": "9ac51b1d-91c0-4a6d-c3f0-ecabe6379980"
      },
      "outputs": [
        {
          "output_type": "stream",
          "name": "stdout",
          "text": [
            "mkdir: cannot create directory ‘/content/tmp’: File exists\n",
            "2024-02-12 13:59:09.274004: E external/local_xla/xla/stream_executor/cuda/cuda_dnn.cc:9261] Unable to register cuDNN factory: Attempting to register factory for plugin cuDNN when one has already been registered\n",
            "2024-02-12 13:59:09.274063: E external/local_xla/xla/stream_executor/cuda/cuda_fft.cc:607] Unable to register cuFFT factory: Attempting to register factory for plugin cuFFT when one has already been registered\n",
            "2024-02-12 13:59:09.275391: E external/local_xla/xla/stream_executor/cuda/cuda_blas.cc:1515] Unable to register cuBLAS factory: Attempting to register factory for plugin cuBLAS when one has already been registered\n",
            "2024-02-12 13:59:10.389533: W tensorflow/compiler/tf2tensorrt/utils/py_utils.cc:38] TF-TRT Warning: Could not find TensorRT\n",
            "merge  test_model  config\n",
            "merge  test_work_dir  config\n",
            "start testing...\n",
            "/usr/local/lib/python3.10/dist-packages/torchvision/models/_utils.py:208: UserWarning: The parameter 'pretrained' is deprecated since 0.13 and may be removed in the future, please use 'weights' instead.\n",
            "  warnings.warn(\n",
            "/usr/local/lib/python3.10/dist-packages/torchvision/models/_utils.py:223: UserWarning: Arguments other than a weight enum or `None` for 'weights' are deprecated since 0.13 and may be removed in the future. The current behavior is equivalent to passing `weights=None`.\n",
            "  warnings.warn(msg)\n",
            "/usr/local/lib/python3.10/dist-packages/torch/utils/data/dataloader.py:557: UserWarning: This DataLoader will create 4 worker processes in total. Our suggested max number of worker in current system is 2, which is smaller than what this DataLoader is going to create. Please be aware that excessive worker creation might get DataLoader running slow or even freeze, lower the worker number to avoid potential slowness/freeze if necessary.\n",
            "  warnings.warn(_create_warning_msg(\n",
            "100% 10/10 [00:02<00:00,  4.05it/s]\n",
            "Accuracy 0.7655952380952378\n",
            "FP 0.5066666666666667\n",
            "FN 0.3722222222222223\n",
            "tp 0.49333333333333335\n",
            "tn 0.7046666666666668\n",
            "F1 0.5524942186983812\n",
            "Precision 0.4933333333333333\n",
            "Recall 0.6277777777777778\n"
          ]
        }
      ],
      "source": [
        "%mkdir /content/tmp\n",
        "\n",
        "\n",
        "!python test.py configs/tusimple.py --test_model /content/drive/MyDrive/'Medium UFLD'/ep099.pth --test_work_dir /content/tmp"
      ]
    },
    {
      "cell_type": "markdown",
      "source": [
        "# Confusion matrix"
      ],
      "metadata": {
        "id": "mP0PMBAxzYYv"
      }
    },
    {
      "cell_type": "code",
      "source": [
        "# import pandas as pd\n",
        "# import matplotlib.pyplot as plt\n",
        "\n",
        "# TP, FP, FN, TN = 0.54,0.46,0.4122222222222222,0\n",
        "\n",
        "# class_names = ['True Negative', 'False Positive', 'False Negative', 'True Positive']\n",
        "# confusion_matrix = [[TN, FP], [FN, TP]]\n",
        "# model = 'UFLD-SADL'\n",
        "# plt.figure(figsize=(6, 6))\n",
        "# plt.imshow(confusion_matrix, cmap='Blues')\n",
        "# plt.colorbar()\n",
        "# plt.xticks(range(len(class_names)), class_names, rotation=45)\n",
        "# plt.yticks(range(len(class_names)), class_names)\n",
        "# plt.title(f'Confusion Matrix for Model: {model}')\n",
        "# plt.tight_layout()\n",
        "# plt.show()\n",
        "\n",
        "import pandas as pd\n",
        "import matplotlib.pyplot as plt\n",
        "import numpy as np\n",
        "F1 = 0.5628768472906405\n",
        "Precision = 0.54\n",
        "Recall = 0.5877777777777777\n",
        "Accuracy = 0.8395238095238093\n",
        "\n",
        "FP, FN= 0.46, 0.4122222222222222\n",
        "TP, TN = 0.49333333333333335, 0.7046666666666668\n",
        "# print(FP)\n",
        "# print(FN)\n",
        "# TP = (FP*Precision)/(1-Precision)\n",
        "# print(TP)\n",
        "# TN = (TP-(FP+FN+TP)*Accuracy)/(Accuracy-1)\n",
        "# TN = np.abs(1 - TP - FP - FN)\n",
        "# print(TN)\n",
        "cm = np.array([[TP, FP], [FN, TN]])\n",
        "\n",
        "# Plot the confusion matrix using matplotlib.pyplot.matshow\n",
        "plt.matshow(cm, cmap=\"Blues\")\n",
        "\n",
        "# Add some labels and annotations\n",
        "plt.xlabel(\"Predicted\")\n",
        "plt.ylabel(\"Actual\")\n",
        "plt.title(\"Confusion Matrix\")\n",
        "plt.colorbar()\n",
        "plt.text(0, 0, f\"TP: {round(TP, 2)}\", ha=\"center\", va=\"center\", color=\"white\")\n",
        "plt.text(0, 1, f\"FN: {round(FN, 2)}\", ha=\"center\", va=\"center\", color=\"black\")\n",
        "plt.text(1, 0, f\"FP: {round(FP, 2)}\", ha=\"center\", va=\"center\", color=\"black\")\n",
        "plt.text(1, 1, f\"TN: {round(TN, 2)}\", ha=\"center\", va=\"center\", color=\"white\")\n",
        "\n",
        "# Show the plot\n",
        "plt.show()"
      ],
      "metadata": {
        "colab": {
          "base_uri": "https://localhost:8080/",
          "height": 417
        },
        "id": "FZjjVoiMzWkQ",
        "outputId": "42889c97-9756-4571-98bc-7776eafb04a3"
      },
      "execution_count": 30,
      "outputs": [
        {
          "output_type": "display_data",
          "data": {
            "text/plain": [
              "<Figure size 480x480 with 2 Axes>"
            ],
            "image/png": "[encoded data removed]"
          },
          "metadata": {}
        }
      ]
    },
    {
      "cell_type": "markdown",
      "metadata": {
        "id": "p8CLd3plnxkH"
      },
      "source": [
        "**## TO DO:**\n",
        "\n",
        "\n",
        "1.   stop logging of each checkpoint or just manage the space correctly ✅\n",
        "2.   add the test clips folders inside $TUSIMPLEROOT/clips folder ✅\n",
        "3. update the test.txt to have only data about the available clips similar to how i did with the train_gt.txt file ✅\n",
        "4. visualize the data as you did in the cascaded lane detection. ✅\n",
        "5. A way to just take an random test image and see the segmentation as well as the classes just you did in the cascaded CNN lane detection\n",
        "6. pretrained weights evaluation\n",
        "7. find metrics for trained weights and biases ✅\n"
      ]
    },
    {
      "cell_type": "markdown",
      "metadata": {
        "id": "XRM7npIVtrpP"
      },
      "source": [
        "**##Solutions worked on:**"
      ]
    },
    {
      "cell_type": "markdown",
      "metadata": {
        "id": "8Yx7kMz_qHdR"
      },
      "source": [
        "1.Use the below code in the ***train.py*** inside the epoch loop to delete previous checkpoints before logging a new one:\n",
        "\n",
        "ADD THE BELOW CODE AFTER THE `for epoch in range(resume_epoch, cfg.epoch):` LOOP INSIDE THE train.py file\n",
        "\n",
        "\n",
        "```python\n",
        "#EXPERIMENTAL CODE STARTS\n",
        "# Define the path of the folder\n",
        "folder_path = work_dir\n",
        "\n",
        "# Get the list of files in the folder\n",
        "files = os.listdir(folder_path)\n",
        "\n",
        "# Loop through the files and delete them\n",
        "for file in files:\n",
        "    # Join the folder path and the file name\n",
        "    file_path = os.path.join(folder_path, file)\n",
        "    # Check if the file is a file (not a folder)\n",
        "    if os.path.isfile(file_path):\n",
        "        # Delete the file\n",
        "        os.remove(file_path)\n",
        "        # Print a message\n",
        "        print(f\"Deleted {file_path}\")\n",
        "#EXPERIMENTAL CODE ENDS\n",
        "\n",
        "```\n",
        "\n"
      ]
    },
    {
      "cell_type": "markdown",
      "metadata": {
        "id": "qJ1bPZBQU1Pb"
      },
      "source": [
        "# Filtering training label json files: (NO NEED TO RUN THIS IN THIS PROJECT)\n",
        "\n",
        "just enter the name of file like **label_data_0313.json**, **label_data_0531.json** or **label_data_0601.json** to get respective filtered files"
      ]
    },
    {
      "cell_type": "code",
      "execution_count": null,
      "metadata": {
        "colab": {
          "base_uri": "https://localhost:8080/"
        },
        "id": "7p18ZmqJqUGu",
        "outputId": "97e16cab-b174-4a32-dcea-f115cd7bf544"
      },
      "outputs": [
        {
          "output_type": "stream",
          "name": "stdout",
          "text": [
            "['clips/0601/1494452475553952650/20.jpg', 'clips/0601/1494452475553952650/20.png', '1', '1', '1', '1', 'clips/0601/1494452481550534721/20.jpg', 'clips/0601/1494452481550534721/20.png', '1', '1', '1', '1', 'clips/0601/1494452487547938155/20.jpg', 'clips/0601/1494452487547938155/20.png', '1', '1', '1', '1', 'clips/0601/1494452493544568151/20.jpg', 'clips/0601/1494452493544568151/20.png', '1', '1', '1', '1', 'clips/0601/1494452499541984524/20.jpg', 'clips/0601/1494452499541984524/20.png', '1', '1', '1', '1', 'clips/0601/1494452505539998933/20.jpg', 'clips/0601/1494452505539998933/20.png', '1', '1', '1', '1', 'clips/0601/1494452511536818313/20.jpg', 'clips/0601/1494452511536818313/20.png', '1', '1', '1', '1', 'clips/0601/1494452517534105454/20.jpg', 'clips/0601/1494452517534105454/20.png', '1', '1', '1', '1', 'clips/0601/1494452523531433490/20.jpg', 'clips/0601/1494452523531433490/20.png', '1', '1', '1', '1', 'clips/0601/1494452529530624920/20.jpg', 'clips/0601/1494452529530624920/20.png', '1', '1', '1', '1', 'clips/0601/1494452535526149911/20.jpg', 'clips/0601/1494452535526149911/20.png', '1', '1', '1', '1', 'clips/0601/1494452541524672627/20.jpg', 'clips/0601/1494452541524672627/20.png', '1', '1', '1', '1', 'clips/0601/1494452547522417856/20.jpg', 'clips/0601/1494452547522417856/20.png', '1', '1', '1', '1', 'clips/0601/1494452553518276564/20.jpg', 'clips/0601/1494452553518276564/20.png', '1', '1', '1', '1', 'clips/0601/1494452559516609932/20.jpg', 'clips/0601/1494452559516609932/20.png', '1', '1', '1', '1', 'clips/0601/1494452565513003505/20.jpg', 'clips/0601/1494452565513003505/20.png', '1', '1', '1', '1', 'clips/0601/1494452571512393789/20.jpg', 'clips/0601/1494452571512393789/20.png', '1', '1', '1', '1', 'clips/0601/1494452579506899721/20.jpg', 'clips/0601/1494452579506899721/20.png', '1', '1', '1', '1', 'clips/0601/1494452585507361927/20.jpg', 'clips/0601/1494452585507361927/20.png', '1', '1', '1', '1', 'clips/0601/1494452591501642953/20.jpg', 'clips/0601/1494452591501642953/20.png', '1', '1', '1', '1', 'clips/0601/1494452597499005653/20.jpg', 'clips/0601/1494452597499005653/20.png', '1', '1', '1', '1', 'clips/0601/1494452603496476152/20.jpg', 'clips/0601/1494452603496476152/20.png', '1', '1', '1', '1', 'clips/0601/1494452609493789343/20.jpg', 'clips/0601/1494452609493789343/20.png', '1', '1', '1', '1', 'clips/0601/1494452615491172573/20.jpg', 'clips/0601/1494452615491172573/20.png', '1', '1', '1', '1', 'clips/0601/1494452621490750551/20.jpg', 'clips/0601/1494452621490750551/20.png', '1', '1', '1', '1', 'clips/0531/1492626287507231547/20.jpg', 'clips/0531/1492626287507231547/20.png', '1', '1', '1', '1', 'clips/0531/1492626371522989086/20.jpg', 'clips/0531/1492626371522989086/20.png', '0', '1', '1', '1', 'clips/0531/1492626395742137012/20.jpg', 'clips/0531/1492626395742137012/20.png', '0', '1', '1', '1', 'clips/0531/1492626551883775328/20.jpg', 'clips/0531/1492626551883775328/20.png', '0', '1', '1', '1', 'clips/0531/1492626688464435547/20.jpg', 'clips/0531/1492626688464435547/20.png', '0', '1', '1', '1', 'clips/0531/1492626722277359997/20.jpg', 'clips/0531/1492626722277359997/20.png', '0', '1', '1', '1', 'clips/0531/1492626725443010116/20.jpg', 'clips/0531/1492626725443010116/20.png', '0', '1', '1', '1', 'clips/0531/1492626805094402903/20.jpg', 'clips/0531/1492626805094402903/20.png', '0', '1', '1', '1', 'clips/0531/1492626904933064222/20.jpg', 'clips/0531/1492626904933064222/20.png', '1', '1', '1', '1', 'clips/0531/1492626979221196958/20.jpg', 'clips/0531/1492626979221196958/20.png', '1', '1', '1', '1', 'clips/0531/1492627130396218776/20.jpg', 'clips/0531/1492627130396218776/20.png', '1', '1', '1', '1', 'clips/0531/1492627187263118217/20.jpg', 'clips/0531/1492627187263118217/20.png', '1', '1', '1', '1', 'clips/0531/1492627280838407454/20.jpg', 'clips/0531/1492627280838407454/20.png', '1', '1', '1', '1', 'clips/0531/1492627322213383558/20.jpg', 'clips/0531/1492627322213383558/20.png', '1', '1', '1', '1', 'clips/0531/1492627348130955659/20.jpg', 'clips/0531/1492627348130955659/20.png', '1', '1', '1', '1', 'clips/0531/1492627441307845005/20.jpg', 'clips/0531/1492627441307845005/20.png', '1', '1', '1', '0', 'clips/0531/1492627472055935270/20.jpg', 'clips/0531/1492627472055935270/20.png', '1', '1', '1', '0', 'clips/0531/1492627478052569489/20.jpg', 'clips/0531/1492627478052569489/20.png', '1', '1', '1', '0', 'clips/0531/1492626270684175793/20.jpg', 'clips/0531/1492626270684175793/20.png', '1', '1', '1', '0', 'clips/0531/1492626274615008344/20.jpg', 'clips/0531/1492626274615008344/20.png', '1', '1', '1', '1', 'clips/0531/1492626327183261694/20.jpg', 'clips/0531/1492626327183261694/20.png', '0', '1', '1', '1', 'clips/0531/1492626366226158339/20.jpg', 'clips/0531/1492626366226158339/20.png', '0', '1', '1', '1', 'clips/0531/1492626487919028170/20.jpg', 'clips/0531/1492626487919028170/20.png', '0', '1', '1', '1', 'clips/0531/1492626856464433841/20.jpg', 'clips/0531/1492626856464433841/20.png', '0', '1', '1', '1', 'clips/0531/1492627475054062025/20.jpg', 'clips/0531/1492627475054062025/20.png', '1', '1', '1', '0', 'clips/0313-1/300/20.jpg', 'clips/0313-1/300/20.png', '1', '1', '1', '1', 'clips/0313-1/600/20.jpg', 'clips/0313-1/600/20.png', '1', '1', '1', '1', 'clips/0313-1/180/20.jpg', 'clips/0313-1/180/20.png', '1', '1', '1', '0', 'clips/0313-1/1200/20.jpg', 'clips/0313-1/1200/20.png', '1', '1', '1', '1', 'clips/0313-1/1020/20.jpg', 'clips/0313-1/1020/20.png', '1', '1', '1', '1', 'clips/0313-1/1140/20.jpg', 'clips/0313-1/1140/20.png', '1', '1', '1', '1', 'clips/0313-1/720/20.jpg', 'clips/0313-1/720/20.png', '1', '1', '1', '1', 'clips/0313-1/960/20.jpg', 'clips/0313-1/960/20.png', '1', '1', '1', '1', 'clips/0313-1/240/20.jpg', 'clips/0313-1/240/20.png', '1', '1', '1', '0', 'clips/0313-1/660/20.jpg', 'clips/0313-1/660/20.png', '1', '1', '1', '1', 'clips/0313-1/60/20.jpg', 'clips/0313-1/60/20.png', '1', '1', '1', '0', 'clips/0313-1/360/20.jpg', 'clips/0313-1/360/20.png', '1', '1', '1', '1', 'clips/0313-1/420/20.jpg', 'clips/0313-1/420/20.png', '1', '1', '1', '1', 'clips/0313-1/1500/20.jpg', 'clips/0313-1/1500/20.png', '1', '1', '1', '1', 'clips/0313-1/480/20.jpg', 'clips/0313-1/480/20.png', '1', '1', '1', '1', 'clips/0313-1/1440/20.jpg', 'clips/0313-1/1440/20.png', '1', '1', '1', '1', 'clips/0313-1/780/20.jpg', 'clips/0313-1/780/20.png', '1', '1', '1', '1', 'clips/0313-1/540/20.jpg', 'clips/0313-1/540/20.png', '1', '1', '1', '1', 'clips/0313-1/1260/20.jpg', 'clips/0313-1/1260/20.png', '1', '1', '1', '1', 'clips/0313-1/1320/20.jpg', 'clips/0313-1/1320/20.png', '1', '1', '1', '1', 'clips/0313-1/900/20.jpg', 'clips/0313-1/900/20.png', '1', '1', '1', '1', 'clips/0313-1/840/20.jpg', 'clips/0313-1/840/20.png', '1', '1', '1', '1', 'clips/0313-1/1380/20.jpg', 'clips/0313-1/1380/20.png', '1', '1', '1', '1', 'clips/0313-1/120/20.jpg', 'clips/0313-1/120/20.png', '1', '1', '1', '0', 'clips/0313-1/1080/20.jpg', 'clips/0313-1/1080/20.png', '1', '1', '1', '1', 'clips/0313-2/105/20.jpg', 'clips/0313-2/105/20.png', '1', '1', '1', '1', 'clips/0313-2/95/20.jpg', 'clips/0313-2/95/20.png', '1', '1', '1', '1', 'clips/0313-2/55/20.jpg', 'clips/0313-2/55/20.png', '1', '1', '1', '1', 'clips/0313-2/70/20.jpg', 'clips/0313-2/70/20.png', '1', '1', '1', '1', 'clips/0313-2/65/20.jpg', 'clips/0313-2/65/20.png', '1', '1', '1', '1', 'clips/0313-2/50/20.jpg', 'clips/0313-2/50/20.png', '1', '1', '1', '1', 'clips/0313-2/20/20.jpg', 'clips/0313-2/20/20.png', '1', '1', '1', '1', 'clips/0313-2/45/20.jpg', 'clips/0313-2/45/20.png', '1', '1', '1', '1', 'clips/0313-2/140/20.jpg', 'clips/0313-2/140/20.png', '1', '1', '1', '1', 'clips/0313-2/60/20.jpg', 'clips/0313-2/60/20.png', '1', '1', '1', '1', 'clips/0313-2/135/20.jpg', 'clips/0313-2/135/20.png', '1', '1', '1', '1', 'clips/0313-2/115/20.jpg', 'clips/0313-2/115/20.png', '1', '1', '1', '1', 'clips/0313-2/25/20.jpg', 'clips/0313-2/25/20.png', '1', '1', '1', '1', 'clips/0313-2/75/20.jpg', 'clips/0313-2/75/20.png', '1', '1', '1', '1', 'clips/0313-2/35/20.jpg', 'clips/0313-2/35/20.png', '1', '1', '1', '1', 'clips/0313-2/100/20.jpg', 'clips/0313-2/100/20.png', '1', '1', '1', '0', 'clips/0313-2/125/20.jpg', 'clips/0313-2/125/20.png', '1', '1', '1', '1', 'clips/0313-2/85/20.jpg', 'clips/0313-2/85/20.png', '1', '1', '1', '1', 'clips/0313-2/120/20.jpg', 'clips/0313-2/120/20.png', '1', '1', '1', '1', 'clips/0313-2/40/20.jpg', 'clips/0313-2/40/20.png', '1', '1', '1', '1', 'clips/0313-2/110/20.jpg', 'clips/0313-2/110/20.png', '1', '1', '1', '1', 'clips/0313-2/80/20.jpg', 'clips/0313-2/80/20.png', '1', '1', '1', '1', 'clips/0313-2/90/20.jpg', 'clips/0313-2/90/20.png', '1', '1', '1', '1', 'clips/0313-2/130/20.jpg', 'clips/0313-2/130/20.png', '1', '1', '1', '1', 'clips/0313-2/30/20.jpg', 'clips/0313-2/30/20.png', '1', '1', '1', '1']\n",
            "2858\n",
            "it is there\n",
            "[{'lanes': [[-2, -2, -2, -2, 730, 705, 681, 661, 640, 619, 598, 577, 556, 535, 514, 493, 472, 451, 433, 416, 398, 381, 363, 346, 328, 311, 293, 276, 258, 241, 223, 205, 188, 170, 153, 135, 118, 100, 83, 65, 48, 30, 12, -2, -2, -2, -2, -2], [-2, -2, 884, 848, 831, 816, 816, 815, 815, 814, 814, 814, 817, 820, 823, 826, 829, 832, 835, 838, 842, 845, 848, 851, 854, 857, 860, 863, 866, 869, 872, 875, 878, 881, 885, 888, 891, 894, 897, 900, 903, 906, 909, 912, 915, 918, 921, 924], [-2, -2, -2, 683, 630, 585, 539, 493, 448, 405, 361, 318, 275, 232, 189, 146, 102, 59, 16, -2, -2, -2, -2, -2, -2, -2, -2, -2, -2, -2, -2, -2, -2, -2, -2, -2, -2, -2, -2, -2, -2, -2, -2, -2, -2, -2, -2, -2], [-2, -2, 923, 915, 923, 930, 947, 967, 986, 1005, 1024, 1043, 1065, 1088, 1111, 1135, 1158, 1181, 1204, 1227, 1250, 1274, -2, -2, -2, -2, -2, -2, -2, -2, -2, -2, -2, -2, -2, -2, -2, -2, -2, -2, -2, -2, -2, -2, -2, -2, -2, -2]], 'h_samples': [240, 250, 260, 270, 280, 290, 300, 310, 320, 330, 340, 350, 360, 370, 380, 390, 400, 410, 420, 430, 440, 450, 460, 470, 480, 490, 500, 510, 520, 530, 540, 550, 560, 570, 580, 590, 600, 610, 620, 630, 640, 650, 660, 670, 680, 690, 700, 710], 'raw_file': 'clips/0313-1/300/20.jpg'}, {'lanes': [[-2, 791, 767, 743, 719, 695, 671, 647, 623, 605, 590, 575, 560, 545, 529, 514, 499, 484, 469, 453, 438, 423, 408, 393, 377, 362, 347, 332, 316, 301, 286, 271, 256, 240, 225, 210, 195, 180, 164, 149, 134, 119, 104, 88, 73, 58, 43, 27], [857, 844, 831, 820, 818, 815, 812, 809, 807, 814, 821, 828, 834, 841, 848, 855, 861, 868, 875, 882, 888, 895, 902, 909, 915, 922, 929, 936, 942, 949, 956, 963, 969, 976, 983, 990, 996, 1003, 1010, 1017, 1023, 1030, 1037, 1044, 1050, 1057, 1064, -2], [-2, -2, 710, 670, 630, 591, 551, 511, 471, 432, 392, 352, 313, 273, 233, 194, 154, 114, 75, 35, -2, -2, -2, -2, -2, -2, -2, -2, -2, -2, -2, -2, -2, -2, -2, -2, -2, -2, -2, -2, -2, -2, -2, -2, -2, -2, -2, -2], [919, 913, 907, 901, 914, 930, 947, 973, 1000, 1026, 1052, 1079, 1105, 1132, 1158, 1184, 1211, 1237, -2, -2, -2, -2, -2, -2, -2, -2, -2, -2, -2, -2, -2, -2, -2, -2, -2, -2, -2, -2, -2, -2, -2, -2, -2, -2, -2, -2, -2, -2]], 'h_samples': [240, 250, 260, 270, 280, 290, 300, 310, 320, 330, 340, 350, 360, 370, 380, 390, 400, 410, 420, 430, 440, 450, 460, 470, 480, 490, 500, 510, 520, 530, 540, 550, 560, 570, 580, 590, 600, 610, 620, 630, 640, 650, 660, 670, 680, 690, 700, 710], 'raw_file': 'clips/0313-1/600/20.jpg'}, {'lanes': [[851, 817, 783, 760, 743, 727, 710, 694, 682, 673, 664, 656, 647, 638, 629, 621, 612, 603, 594, 586, 577, 568, 560, 551, 542, 533, 525, 516, 507, 498, 490, 481, 472, 463, 455, 446, 437, 429, 420, 411, 402, 394, 385, 376, 367, 359, 350, -2], [-2, -2, 865, 857, 858, 862, 872, 883, 893, 904, 914, 925, 938, 951, 964, 977, 991, 1004, 1017, 1030, 1043, 1056, 1070, 1083, 1096, 1109, 1122, 1135, 1148, 1162, 1175, 1188, 1201, 1214, 1227, 1240, 1254, -2, -2, -2, -2, -2, -2, -2, -2, -2, -2, -2], [-2, 735, 695, 660, 630, 599, 569, 538, 509, 479, 450, 421, 391, 362, 332, 303, 273, 244, 215, 185, 156, 126, 97, 67, 38, -2, -2, -2, -2, -2, -2, -2, -2, -2, -2, -2, -2, -2, -2, -2, -2, -2, -2, -2, -2, -2, -2, -2], [-2, -2, -2, -2, -2, -2, -2, -2, -2, -2, -2, -2, -2, -2, -2, -2, -2, -2, -2, -2, -2, -2, -2, -2, -2, -2, -2, -2, -2, -2, -2, -2, -2, -2, -2, -2, -2, -2, -2, -2, -2, -2, -2, -2, -2, -2, -2, -2]], 'h_samples': [240, 250, 260, 270, 280, 290, 300, 310, 320, 330, 340, 350, 360, 370, 380, 390, 400, 410, 420, 430, 440, 450, 460, 470, 480, 490, 500, 510, 520, 530, 540, 550, 560, 570, 580, 590, 600, 610, 620, 630, 640, 650, 660, 670, 680, 690, 700, 710], 'raw_file': 'clips/0313-1/180/20.jpg'}, {'lanes': [[-2, -2, -2, 617, 604, 591, 579, 566, 553, 541, 528, 515, 503, 490, 477, 465, 452, 439, 426, 414, 401, 388, 376, 363, 350, 338, 325, 312, 300, 287, 274, 261, 249, 236, 223, 211, 198, 185, 173, 160, 147, 135, 122, 109, 96, 84, 71, 58], [-2, -2, 681, 691, 700, 710, 720, 729, 739, 748, 758, 768, 777, 787, 796, 806, 816, 825, 835, 844, 854, 864, 873, 883, 892, 902, 912, 921, 931, 940, 950, 960, 969, 979, 988, 998, 1008, 1017, 1027, 1036, 1046, 1056, 1065, 1075, 1084, 1094, 1104, 1113], [-2, 595, 574, 553, 529, 495, 462, 429, 396, 363, 330, 297, 264, 230, 197, 164, 131, 98, 65, 32, -2, -2, -2, -2, -2, -2, -2, -2, -2, -2, -2, -2, -2, -2, -2, -2, -2, -2, -2, -2, -2, -2, -2, -2, -2, -2, -2, -2], [-2, 711, 743, 774, 806, 838, 870, 901, 933, 965, 997, 1028, 1060, 1092, 1124, 1155, 1187, 1219, 1251, -2, -2, -2, -2, -2, -2, -2, -2, -2, -2, -2, -2, -2, -2, -2, -2, -2, -2, -2, -2, -2, -2, -2, -2, -2, -2, -2, -2, -2]], 'h_samples': [240, 250, 260, 270, 280, 290, 300, 310, 320, 330, 340, 350, 360, 370, 380, 390, 400, 410, 420, 430, 440, 450, 460, 470, 480, 490, 500, 510, 520, 530, 540, 550, 560, 570, 580, 590, 600, 610, 620, 630, 640, 650, 660, 670, 680, 690, 700, 710], 'raw_file': 'clips/0313-1/1200/20.jpg'}, {'lanes': [[-2, -2, -2, 603, 590, 576, 563, 549, 536, 522, 509, 495, 482, 468, 455, 441, 428, 414, 401, 387, 374, 360, 347, 333, 320, 306, 293, 279, 266, 252, 239, 225, 212, 198, 185, 171, 158, 144, 131, 117, 104, 90, 77, 63, 50, 36, 23, 9], [674, 683, 692, 701, 710, 719, 728, 737, 746, 755, 764, 773, 782, 791, 801, 810, 819, 828, 837, 846, 855, 864, 873, 882, 891, 900, 909, 918, 927, 936, 945, 954, 963, 972, 982, 991, 1000, 1009, 1018, 1027, 1036, 1045, 1054, 1063, 1072, 1081, 1090, 1099], [-2, -2, 558, 523, 488, 453, 418, 383, 348, 313, 277, 242, 207, 172, 137, 102, 67, 32, -2, -2, -2, -2, -2, -2, -2, -2, -2, -2, -2, -2, -2, -2, -2, -2, -2, -2, -2, -2, -2, -2, -2, -2, -2, -2, -2, -2, -2, -2], [-2, 742, 774, 805, 837, 868, 899, 931, 962, 994, 1025, 1056, 1088, 1119, 1150, 1182, 1213, 1245, -2, -2, -2, -2, -2, -2, -2, -2, -2, -2, -2, -2, -2, -2, -2, -2, -2, -2, -2, -2, -2, -2, -2, -2, -2, -2, -2, -2, -2, -2]], 'h_samples': [240, 250, 260, 270, 280, 290, 300, 310, 320, 330, 340, 350, 360, 370, 380, 390, 400, 410, 420, 430, 440, 450, 460, 470, 480, 490, 500, 510, 520, 530, 540, 550, 560, 570, 580, 590, 600, 610, 620, 630, 640, 650, 660, 670, 680, 690, 700, 710], 'raw_file': 'clips/0313-1/1020/20.jpg'}, {'lanes': [[-2, -2, -2, 589, 580, 571, 562, 553, 540, 527, 514, 500, 487, 474, 461, 447, 434, 421, 408, 394, 381, 368, 354, 341, 328, 315, 301, 288, 275, 262, 248, 235, 222, 209, 195, 182, 169, 156, 142, 129, 116, 103, 89, 76, 63, 50, 36, 23], [-2, -2, -2, 685, 695, 704, 714, 723, 733, 743, 752, 762, 772, 781, 791, 800, 810, 820, 829, 839, 849, 858, 868, 876, 884, 891, 898, 905, 912, 919, 927, 934, 941, 948, 955, 962, 970, 977, 984, 991, 998, 1005, 1012, 1020, 1027, 1034, 1041, 1048], [-2, -2, -2, 518, 486, 454, 422, 390, 358, 326, 294, 262, 230, 198, 166, 134, 102, 70, 38, 6, -2, -2, -2, -2, -2, -2, -2, -2, -2, -2, -2, -2, -2, -2, -2, -2, -2, -2, -2, -2, -2, -2, -2, -2, -2, -2, -2, -2], [-2, 731, 761, 792, 822, 853, 884, 914, 945, 975, 1006, 1036, 1067, 1098, 1128, 1159, 1189, 1220, 1251, -2, -2, -2, -2, -2, -2, -2, -2, -2, -2, -2, -2, -2, -2, -2, -2, -2, -2, -2, -2, -2, -2, -2, -2, -2, -2, -2, -2, -2]], 'h_samples': [240, 250, 260, 270, 280, 290, 300, 310, 320, 330, 340, 350, 360, 370, 380, 390, 400, 410, 420, 430, 440, 450, 460, 470, 480, 490, 500, 510, 520, 530, 540, 550, 560, 570, 580, 590, 600, 610, 620, 630, 640, 650, 660, 670, 680, 690, 700, 710], 'raw_file': 'clips/0313-1/1140/20.jpg'}, {'lanes': [[-2, -2, 748, 730, 713, 696, 678, 661, 643, 631, 622, 613, 604, 595, 586, 576, 567, 558, 549, 540, 531, 522, 513, 503, 494, 485, 476, 467, 458, 449, 440, 430, 421, 412, 403, 394, 385, 376, 367, 357, 348, 339, 330, 321, 312, 303, 294, -2], [-2, -2, -2, -2, 810, 814, 817, 821, 824, 836, 849, 862, 875, 887, 900, 913, 926, 939, 951, 964, 977, 990, 1003, 1016, 1028, 1041, 1054, 1067, 1080, 1093, 1105, 1118, 1131, 1144, 1157, 1169, 1182, 1195, 1208, 1221, 1234, 1246, 1259, -2, -2, -2, -2, -2], [-2, -2, -2, 651, 620, 589, 557, 526, 494, 463, 432, 400, 369, 337, 306, 274, 243, 212, 180, 149, 117, 86, 55, 23, -2, -2, -2, -2, -2, -2, -2, -2, -2, -2, -2, -2, -2, -2, -2, -2, -2, -2, -2, -2, -2, -2, -2, -2], [-2, -2, -2, 897, 914, 931, 948, 968, 1002, 1035, 1069, 1103, 1136, 1170, 1203, 1237, 1270, -2, -2, -2, -2, -2, -2, -2, -2, -2, -2, -2, -2, -2, -2, -2, -2, -2, -2, -2, -2, -2, -2, -2, -2, -2, -2, -2, -2, -2, -2, -2]], 'h_samples': [240, 250, 260, 270, 280, 290, 300, 310, 320, 330, 340, 350, 360, 370, 380, 390, 400, 410, 420, 430, 440, 450, 460, 470, 480, 490, 500, 510, 520, 530, 540, 550, 560, 570, 580, 590, 600, 610, 620, 630, 640, 650, 660, 670, 680, 690, 700, 710], 'raw_file': 'clips/0313-1/720/20.jpg'}, {'lanes': [[-2, -2, -2, -2, -2, -2, -2, -2, -2, 547, 532, 516, 500, 484, 468, 452, 436, 421, 405, 389, 373, 357, 341, 325, 310, 294, 278, 262, 246, 230, 214, 199, 183, 167, 151, 135, 119, 103, 88, 72, 56, 40, 24, 8, -2, -2, -2, -2], [-2, 702, 708, 715, 722, 728, 735, 742, 749, 755, 762, 769, 775, 782, 789, 796, 802, 809, 816, 822, 829, 836, 842, 849, 856, 863, 869, 876, 883, 889, 896, 903, 910, 916, 923, 930, 936, 943, 950, 957, 963, 970, 977, 983, 990, 997, 1003, 1010], [-2, -2, -2, -2, 522, 483, 444, 405, 366, 327, 288, 249, 210, 171, 132, 93, 54, 15, -2, -2, -2, -2, -2, -2, -2, -2, -2, -2, -2, -2, -2, -2, -2, -2, -2, -2, -2, -2, -2, -2, -2, -2, -2, -2, -2, -2, -2, -2], [-2, -2, 763, 793, 823, 853, 883, 913, 944, 974, 1004, 1034, 1064, 1094, 1125, 1155, 1185, 1215, 1245, -2, -2, -2, -2, -2, -2, -2, -2, -2, -2, -2, -2, -2, -2, -2, -2, -2, -2, -2, -2, -2, -2, -2, -2, -2, -2, -2, -2, -2]], 'h_samples': [240, 250, 260, 270, 280, 290, 300, 310, 320, 330, 340, 350, 360, 370, 380, 390, 400, 410, 420, 430, 440, 450, 460, 470, 480, 490, 500, 510, 520, 530, 540, 550, 560, 570, 580, 590, 600, 610, 620, 630, 640, 650, 660, 670, 680, 690, 700, 710], 'raw_file': 'clips/0313-1/960/20.jpg'}, {'lanes': [[-2, 842, 820, 802, 788, 777, 768, 761, 756, 750, 745, 739, 736, 733, 730, 727, 724, 721, 718, 716, 713, 710, 707, 704, 701, 698, 696, 693, 690, 687, 684, 681, 678, 675, 673, 670, 667, 664, 661, 658, 655, 653, 650, 647, 644, 641, 638, 635], [-2, 903, 898, 901, 907, 919, 935, 952, 968, 985, 1004, 1024, 1043, 1063, 1083, 1103, 1122, 1142, 1162, 1182, 1201, 1221, 1241, 1261, -2, -2, -2, -2, -2, -2, -2, -2, -2, -2, -2, -2, -2, -2, -2, -2, -2, -2, -2, -2, -2, -2, -2, -2], [-2, 777, 746, 718, 690, 660, 627, 594, 564, 539, 514, 489, 464, 439, 414, 389, 364, 339, 313, 288, 263, 238, 213, 188, 163, 138, 113, 88, 63, 38, 12, -2, -2, -2, -2, -2, -2, -2, -2, -2, -2, -2, -2, -2, -2, -2, -2, -2], [-2, -2, -2, -2, -2, -2, -2, -2, -2, -2, -2, -2, -2, -2, -2, -2, -2, -2, -2, -2, -2, -2, -2, -2, -2, -2, -2, -2, -2, -2, -2, -2, -2, -2, -2, -2, -2, -2, -2, -2, -2, -2, -2, -2, -2, -2, -2, -2]], 'h_samples': [240, 250, 260, 270, 280, 290, 300, 310, 320, 330, 340, 350, 360, 370, 380, 390, 400, 410, 420, 430, 440, 450, 460, 470, 480, 490, 500, 510, 520, 530, 540, 550, 560, 570, 580, 590, 600, 610, 620, 630, 640, 650, 660, 670, 680, 690, 700, 710], 'raw_file': 'clips/0313-1/240/20.jpg'}, {'lanes': [[-2, -2, -2, 725, 708, 690, 673, 658, 643, 627, 612, 597, 582, 569, 558, 547, 536, 525, 514, 503, 491, 480, 469, 458, 447, 436, 424, 413, 402, 391, 380, 369, 357, 346, 335, 324, 313, 302, 290, 279, 268, 257, 246, 235, 223, 212, 201, 190], [-2, -2, 814, 811, 807, 804, 801, 809, 817, 825, 833, 841, 849, 857, 867, 878, 889, 900, 911, 923, 934, 945, 956, 967, 978, 990, 1001, 1012, 1023, 1034, 1045, 1056, 1068, 1079, 1090, 1101, 1112, 1123, 1134, 1146, 1157, 1168, 1179, 1190, 1201, 1212, 1224, -2], [-2, -2, 679, 645, 610, 576, 541, 507, 474, 441, 408, 375, 341, 308, 275, 242, 208, 175, 142, 109, 76, 42, 9, -2, -2, -2, -2, -2, -2, -2, -2, -2, -2, -2, -2, -2, -2, -2, -2, -2, -2, -2, -2, -2, -2, -2, -2, -2], [-2, -2, 879, 892, 909, 929, 949, 969, 999, 1031, 1062, 1093, 1125, 1156, 1187, 1219, 1250, -2, -2, -2, -2, -2, -2, -2, -2, -2, -2, -2, -2, -2, -2, -2, -2, -2, -2, -2, -2, -2, -2, -2, -2, -2, -2, -2, -2, -2, -2, -2]], 'h_samples': [240, 250, 260, 270, 280, 290, 300, 310, 320, 330, 340, 350, 360, 370, 380, 390, 400, 410, 420, 430, 440, 450, 460, 470, 480, 490, 500, 510, 520, 530, 540, 550, 560, 570, 580, 590, 600, 610, 620, 630, 640, 650, 660, 670, 680, 690, 700, 710], 'raw_file': 'clips/0313-1/660/20.jpg'}, {'lanes': [[759, 735, 710, 685, 660, 635, 618, 601, 584, 568, 551, 534, 517, 500, 483, 466, 449, 432, 415, 398, 382, 365, 348, 331, 314, 297, 280, 263, 246, 229, 212, 196, 179, 162, 145, 128, 111, 94, 77, 60, 43, 26, -2, -2, -2, -2, -2, -2], [828, 815, 803, 790, 778, 769, 770, 771, 772, 773, 774, 779, 785, 791, 797, 803, 809, 814, 820, 826, 832, 838, 844, 849, 855, 861, 867, 873, 879, 885, 890, 896, 902, 908, 914, 920, 925, 931, 937, 943, 949, 955, 961, 966, 972, 978, 984, -2], [-2, -2, 626, 587, 549, 510, 472, 433, 395, 356, 317, 279, 240, 202, 163, 125, 86, 48, -2, -2, -2, -2, -2, -2, -2, -2, -2, -2, -2, -2, -2, -2, -2, -2, -2, -2, -2, -2, -2, -2, -2, -2, -2, -2, -2, -2, -2, -2], [-2, -2, -2, -2, -2, -2, -2, -2, -2, -2, -2, -2, -2, -2, -2, -2, -2, -2, -2, -2, -2, -2, -2, -2, -2, -2, -2, -2, -2, -2, -2, -2, -2, -2, -2, -2, -2, -2, -2, -2, -2, -2, -2, -2, -2, -2, -2, -2]], 'h_samples': [240, 250, 260, 270, 280, 290, 300, 310, 320, 330, 340, 350, 360, 370, 380, 390, 400, 410, 420, 430, 440, 450, 460, 470, 480, 490, 500, 510, 520, 530, 540, 550, 560, 570, 580, 590, 600, 610, 620, 630, 640, 650, 660, 670, 680, 690, 700, 710], 'raw_file': 'clips/0313-1/60/20.jpg'}, {'lanes': [[-2, -2, 765, 742, 719, 695, 677, 662, 646, 631, 616, 601, 585, 570, 555, 540, 527, 515, 502, 490, 478, 465, 453, 440, 428, 415, 403, 390, 378, 365, 353, 341, 328, 316, 304, 292, 279, 267, 255, 243, 231, 218, 206, 194, 182, 169, 157, 145], [-2, -2, 856, 842, 828, 820, 817, 814, 816, 822, 828, 834, 840, 847, 857, 866, 876, 885, 894, 904, 913, 923, 932, 941, 951, 960, 969, 979, 988, 998, 1007, 1016, 1026, 1035, 1045, 1054, 1063, 1073, 1082, 1092, 1101, 1110, 1120, 1129, 1138, 1148, 1157, 1167], [-2, -2, -2, 689, 644, 599, 554, 512, 475, 439, 402, 366, 330, 297, 263, 229, 195, 161, 128, 94, 60, 26, -2, -2, -2, -2, -2, -2, -2, -2, -2, -2, -2, -2, -2, -2, -2, -2, -2, -2, -2, -2, -2, -2, -2, -2, -2, -2], [-2, -2, -2, -2, 900, 913, 937, 962, 986, 1012, 1041, 1069, 1098, 1129, 1159, 1190, 1220, 1251, -2, -2, -2, -2, -2, -2, -2, -2, -2, -2, -2, -2, -2, -2, -2, -2, -2, -2, -2, -2, -2, -2, -2, -2, -2, -2, -2, -2, -2, -2]], 'h_samples': [240, 250, 260, 270, 280, 290, 300, 310, 320, 330, 340, 350, 360, 370, 380, 390, 400, 410, 420, 430, 440, 450, 460, 470, 480, 490, 500, 510, 520, 530, 540, 550, 560, 570, 580, 590, 600, 610, 620, 630, 640, 650, 660, 670, 680, 690, 700, 710], 'raw_file': 'clips/0313-1/360/20.jpg'}, {'lanes': [[-2, -2, 745, 722, 700, 686, 671, 657, 642, 628, 614, 604, 593, 583, 573, 563, 552, 542, 532, 521, 511, 501, 491, 480, 470, 460, 449, 439, 429, 419, 408, 398, 388, 377, 367, 357, 346, 336, 326, 316, 305, 295, 285, 274, 264, 254, 244, -2], [-2, -2, 834, 816, 818, 823, 828, 832, 837, 846, 858, 870, 882, 894, 906, 918, 930, 941, 953, 965, 977, 989, 1001, 1013, 1025, 1037, 1049, 1061, 1072, 1084, 1096, 1108, 1120, 1132, 1144, 1156, 1168, 1180, 1192, 1204, 1215, 1227, 1239, 1251, 1263, -2, -2, -2], [-2, -2, -2, 656, 611, 565, 533, 502, 471, 440, 409, 377, 346, 315, 284, 253, 222, 191, 160, 128, 97, 66, 35, -2, -2, -2, -2, -2, -2, -2, -2, -2, -2, -2, -2, -2, -2, -2, -2, -2, -2, -2, -2, -2, -2, -2, -2, -2], [-2, -2, -2, -2, 921, 945, 970, 994, 1025, 1058, 1090, 1123, 1155, 1187, 1220, 1252, -2, -2, -2, -2, -2, -2, -2, -2, -2, -2, -2, -2, -2, -2, -2, -2, -2, -2, -2, -2, -2, -2, -2, -2, -2, -2, -2, -2, -2, -2, -2, -2]], 'h_samples': [240, 250, 260, 270, 280, 290, 300, 310, 320, 330, 340, 350, 360, 370, 380, 390, 400, 410, 420, 430, 440, 450, 460, 470, 480, 490, 500, 510, 520, 530, 540, 550, 560, 570, 580, 590, 600, 610, 620, 630, 640, 650, 660, 670, 680, 690, 700, 710], 'raw_file': 'clips/0313-1/420/20.jpg'}, {'lanes': [[-2, -2, 627, 617, 606, 595, 585, 574, 564, 553, 543, 532, 522, 511, 501, 490, 480, 469, 459, 448, 437, 427, 416, 406, 395, 385, 374, 364, 353, 343, 332, 322, 311, 301, 290, 279, 269, 258, 248, 237, 227, 216, 206, 195, 185, 174, 164, 153], [-2, 671, 683, 695, 706, 718, 730, 742, 754, 766, 778, 789, 801, 813, 825, 837, 849, 861, 873, 884, 896, 908, 920, 932, 944, 956, 967, 979, 991, 1003, 1015, 1027, 1039, 1051, 1062, 1074, 1086, 1098, 1110, 1122, 1134, 1145, 1157, 1169, 1181, 1193, 1205, -2], [-2, 581, 552, 522, 493, 464, 435, 405, 376, 347, 317, 288, 259, 230, 200, 171, 142, 112, 83, 54, 25, -2, -2, -2, -2, -2, -2, -2, -2, -2, -2, -2, -2, -2, -2, -2, -2, -2, -2, -2, -2, -2, -2, -2, -2, -2, -2, -2], [-2, 722, 758, 794, 830, 866, 902, 937, 973, 1009, 1045, 1081, 1117, 1153, 1189, 1224, 1260, -2, -2, -2, -2, -2, -2, -2, -2, -2, -2, -2, -2, -2, -2, -2, -2, -2, -2, -2, -2, -2, -2, -2, -2, -2, -2, -2, -2, -2, -2, -2]], 'h_samples': [240, 250, 260, 270, 280, 290, 300, 310, 320, 330, 340, 350, 360, 370, 380, 390, 400, 410, 420, 430, 440, 450, 460, 470, 480, 490, 500, 510, 520, 530, 540, 550, 560, 570, 580, 590, 600, 610, 620, 630, 640, 650, 660, 670, 680, 690, 700, 710], 'raw_file': 'clips/0313-1/1500/20.jpg'}, {'lanes': [[-2, -2, 810, 785, 769, 755, 744, 735, 725, 715, 708, 701, 695, 688, 681, 675, 669, 664, 659, 653, 648, 643, 637, 632, 627, 622, 616, 611, 606, 601, 595, 590, 585, 580, 574, 569, 564, 558, 553, 548, 543, 537, 532, 527, 522, 516, 511, 506], [-2, 907, 887, 881, 880, 884, 894, 908, 922, 936, 950, 963, 977, 993, 1010, 1027, 1043, 1060, 1076, 1093, 1110, 1126, 1143, 1160, 1176, 1193, 1209, 1226, 1243, 1259, 1276, -2, -2, -2, -2, -2, -2, -2, -2, -2, -2, -2, -2, -2, -2, -2, -2, -2], [-2, -2, 750, 712, 675, 638, 608, 579, 549, 520, 490, 462, 436, 410, 384, 358, 332, 306, 281, 255, 229, 203, 177, 151, 125, 100, 74, 48, 22, -2, -2, -2, -2, -2, -2, -2, -2, -2, -2, -2, -2, -2, -2, -2, -2, -2, -2, -2], [-2, -2, 957, 963, 986, 1012, 1047, 1082, 1118, 1153, 1189, 1224, 1260, -2, -2, -2, -2, -2, -2, -2, -2, -2, -2, -2, -2, -2, -2, -2, -2, -2, -2, -2, -2, -2, -2, -2, -2, -2, -2, -2, -2, -2, -2, -2, -2, -2, -2, -2]], 'h_samples': [240, 250, 260, 270, 280, 290, 300, 310, 320, 330, 340, 350, 360, 370, 380, 390, 400, 410, 420, 430, 440, 450, 460, 470, 480, 490, 500, 510, 520, 530, 540, 550, 560, 570, 580, 590, 600, 610, 620, 630, 640, 650, 660, 670, 680, 690, 700, 710], 'raw_file': 'clips/0313-1/480/20.jpg'}, {'lanes': [[-2, -2, 644, 633, 622, 611, 600, 588, 577, 566, 555, 544, 532, 521, 510, 499, 488, 477, 465, 454, 443, 432, 421, 409, 398, 387, 376, 365, 354, 342, 331, 320, 309, 298, 286, 275, 264, 253, 242, 231, 219, 208, 197, 186, 175, 163, 152, 141], [-2, -2, 686, 698, 711, 724, 736, 749, 761, 774, 786, 799, 812, 824, 837, 849, 862, 874, 887, 900, 912, 925, 937, 950, 962, 975, 988, 1000, 1013, 1025, 1038, 1050, 1063, 1076, 1088, 1101, 1113, 1126, 1138, 1151, 1164, 1176, 1189, 1201, 1214, 1226, 1239, 1252], [-2, -2, 581, 550, 519, 487, 456, 425, 394, 362, 331, 300, 269, 237, 206, 175, 143, 112, 81, 50, 18, -2, -2, -2, -2, -2, -2, -2, -2, -2, -2, -2, -2, -2, -2, -2, -2, -2, -2, -2, -2, -2, -2, -2, -2, -2, -2, -2], [-2, -2, 725, 764, 803, 842, 882, 921, 960, 999, 1038, 1077, 1117, 1156, 1195, 1234, -2, -2, -2, -2, -2, -2, -2, -2, -2, -2, -2, -2, -2, -2, -2, -2, -2, -2, -2, -2, -2, -2, -2, -2, -2, -2, -2, -2, -2, -2, -2, -2]], 'h_samples': [240, 250, 260, 270, 280, 290, 300, 310, 320, 330, 340, 350, 360, 370, 380, 390, 400, 410, 420, 430, 440, 450, 460, 470, 480, 490, 500, 510, 520, 530, 540, 550, 560, 570, 580, 590, 600, 610, 620, 630, 640, 650, 660, 670, 680, 690, 700, 710], 'raw_file': 'clips/0313-1/1440/20.jpg'}, {'lanes': [[-2, 753, 741, 729, 718, 708, 697, 686, 676, 669, 662, 654, 647, 640, 632, 625, 618, 610, 603, 596, 590, 584, 579, 573, 567, 562, 556, 550, 545, 539, 533, 528, 522, 516, 511, 505, 499, 494, 488, 482, 477, 471, 465, 460, 454, 448, 443, 437], [-2, -2, 797, 807, 817, 827, 838, 850, 862, 874, 888, 903, 919, 934, 949, 964, 979, 994, 1009, 1024, 1040, 1056, 1071, 1087, 1103, 1119, 1135, 1151, 1166, 1182, 1198, 1214, 1230, 1246, 1261, -2, -2, -2, -2, -2, -2, -2, -2, -2, -2, -2, -2, -2], [-2, -2, 684, 653, 621, 592, 563, 535, 507, 478, 450, 421, 394, 369, 343, 317, 291, 265, 239, 213, 187, 161, 135, 109, 84, 58, 32, 6, -2, -2, -2, -2, -2, -2, -2, -2, -2, -2, -2, -2, -2, -2, -2, -2, -2, -2, -2, -2], [-2, -2, 873, 905, 937, 969, 1001, 1033, 1065, 1097, 1129, 1161, 1193, 1224, 1256, -2, -2, -2, -2, -2, -2, -2, -2, -2, -2, -2, -2, -2, -2, -2, -2, -2, -2, -2, -2, -2, -2, -2, -2, -2, -2, -2, -2, -2, -2, -2, -2, -2]], 'h_samples': [240, 250, 260, 270, 280, 290, 300, 310, 320, 330, 340, 350, 360, 370, 380, 390, 400, 410, 420, 430, 440, 450, 460, 470, 480, 490, 500, 510, 520, 530, 540, 550, 560, 570, 580, 590, 600, 610, 620, 630, 640, 650, 660, 670, 680, 690, 700, 710], 'raw_file': 'clips/0313-1/780/20.jpg'}, {'lanes': [[-2, -2, 789, 768, 734, 699, 664, 630, 602, 580, 559, 538, 517, 496, 475, 453, 432, 411, 390, 369, 348, 327, 305, 284, 263, 242, 221, 200, 178, 157, 136, 115, 94, 73, 51, 30, 9, -2, -2, -2, -2, -2, -2, -2, -2, -2, -2, -2], [-2, -2, -2, 825, 818, 813, 808, 804, 799, 795, 795, 794, 794, 794, 793, 793, 793, 792, 792, 792, 793, 794, 795, 796, 797, 797, 798, 799, 800, 801, 802, 803, 804, 805, 806, 807, 808, 809, 810, 811, 812, 813, 814, 815, 816, -2, -2, -2], [-2, 771, 714, 656, 610, 567, 524, 481, 438, 395, 352, 309, 266, 223, 180, 137, 94, 51, -2, -2, -2, -2, -2, -2, -2, -2, -2, -2, -2, -2, -2, -2, -2, -2, -2, -2, -2, -2, -2, -2, -2, -2, -2, -2, -2, -2, -2, -2], [-2, -2, -2, 911, 916, 927, 944, 964, 984, 1004, 1024, 1045, 1065, 1085, 1105, 1125, 1145, 1166, 1186, 1206, 1226, 1246, -2, -2, -2, -2, -2, -2, -2, -2, -2, -2, -2, -2, -2, -2, -2, -2, -2, -2, -2, -2, -2, -2, -2, -2, -2, -2]], 'h_samples': [240, 250, 260, 270, 280, 290, 300, 310, 320, 330, 340, 350, 360, 370, 380, 390, 400, 410, 420, 430, 440, 450, 460, 470, 480, 490, 500, 510, 520, 530, 540, 550, 560, 570, 580, 590, 600, 610, 620, 630, 640, 650, 660, 670, 680, 690, 700, 710], 'raw_file': 'clips/0313-1/540/20.jpg'}, {'lanes': [[633, 621, 608, 596, 584, 572, 560, 548, 536, 524, 512, 500, 488, 476, 464, 452, 440, 428, 416, 404, 392, 380, 368, 356, 343, 331, 319, 307, 295, 283, 271, 259, 247, 235, 223, 211, 199, 187, 175, 163, 151, 139, 127, 115, 103, 90, 78, 66], [678, 687, 696, 706, 715, 724, 733, 743, 752, 761, 770, 780, 789, 798, 807, 817, 826, 835, 844, 854, 863, 872, 881, 891, 900, 909, 918, 928, 937, 946, 955, 965, 974, 983, 992, 1002, 1011, 1020, 1029, 1039, 1048, 1057, 1066, 1076, 1085, 1094, 1103, 1113], [-2, -2, 543, 509, 476, 442, 408, 374, 341, 307, 273, 239, 205, 172, 138, 104, 70, 37, -2, -2, -2, -2, -2, -2, -2, -2, -2, -2, -2, -2, -2, -2, -2, -2, -2, -2, -2, -2, -2, -2, -2, -2, -2, -2, -2, -2, -2, -2], [734, 766, 799, 831, 863, 896, 928, 960, 992, 1025, 1057, 1089, 1121, 1154, 1186, 1218, 1250, -2, -2, -2, -2, -2, -2, -2, -2, -2, -2, -2, -2, -2, -2, -2, -2, -2, -2, -2, -2, -2, -2, -2, -2, -2, -2, -2, -2, -2, -2, -2]], 'h_samples': [240, 250, 260, 270, 280, 290, 300, 310, 320, 330, 340, 350, 360, 370, 380, 390, 400, 410, 420, 430, 440, 450, 460, 470, 480, 490, 500, 510, 520, 530, 540, 550, 560, 570, 580, 590, 600, 610, 620, 630, 640, 650, 660, 670, 680, 690, 700, 710], 'raw_file': 'clips/0313-1/1260/20.jpg'}, {'lanes': [[-2, -2, 615, 605, 594, 583, 572, 562, 551, 540, 527, 515, 502, 490, 477, 465, 452, 440, 427, 415, 402, 390, 377, 365, 352, 340, 327, 314, 302, 289, 277, 264, 252, 239, 227, 214, 202, 189, 177, 164, 152, 139, 127, 114, 101, 89, 76, 64], [-2, 683, 693, 703, 712, 722, 732, 742, 752, 761, 771, 781, 791, 800, 810, 820, 830, 840, 849, 859, 869, 879, 889, 898, 908, 918, 928, 938, 947, 957, 967, 977, 986, 996, 1006, 1016, 1026, 1035, 1045, 1055, 1065, 1075, 1084, 1094, 1104, 1114, 1124, 1133], [-2, -2, 573, 541, 509, 477, 445, 413, 381, 349, 317, 285, 253, 221, 189, 157, 125, 93, 61, 29, -2, -2, -2, -2, -2, -2, -2, -2, -2, -2, -2, -2, -2, -2, -2, -2, -2, -2, -2, -2, -2, -2, -2, -2, -2, -2, -2, -2], [-2, 720, 754, 788, 822, 856, 889, 923, 957, 991, 1025, 1058, 1092, 1126, 1160, 1193, 1227, 1261, -2, -2, -2, -2, -2, -2, -2, -2, -2, -2, -2, -2, -2, -2, -2, -2, -2, -2, -2, -2, -2, -2, -2, -2, -2, -2, -2, -2, -2, -2]], 'h_samples': [240, 250, 260, 270, 280, 290, 300, 310, 320, 330, 340, 350, 360, 370, 380, 390, 400, 410, 420, 430, 440, 450, 460, 470, 480, 490, 500, 510, 520, 530, 540, 550, 560, 570, 580, 590, 600, 610, 620, 630, 640, 650, 660, 670, 680, 690, 700, 710], 'raw_file': 'clips/0313-1/1320/20.jpg'}, {'lanes': [[-2, -2, -2, -2, -2, 627, 607, 588, 568, 548, 528, 509, 489, 469, 449, 429, 410, 390, 370, 350, 331, 311, 291, 271, 251, 232, 212, 192, 172, 152, 133, 113, 93, 73, 54, 34, 14, -2, -2, -2, -2, -2, -2, -2, -2, -2, -2, -2], [-2, -2, -2, 720, 723, 725, 727, 729, 732, 734, 736, 738, 741, 743, 745, 747, 750, 752, 754, 756, 759, 761, 763, 765, 768, 770, 772, 774, 777, 779, 781, 783, 786, 788, 790, 793, 795, 797, 799, 802, 804, 806, 808, 811, 813, 815, 817, -2], [-2, -2, -2, -2, -2, 553, 512, 470, 429, 387, 346, 304, 262, 221, 179, 138, 96, 55, -2, -2, -2, -2, -2, -2, -2, -2, -2, -2, -2, -2, -2, -2, -2, -2, -2, -2, -2, -2, -2, -2, -2, -2, -2, -2, -2, -2, -2, -2], [-2, -2, -2, 778, 804, 830, 856, 882, 908, 934, 960, 986, 1012, 1038, 1064, 1090, 1116, 1142, 1168, 1194, 1220, 1246, 1272, -2, -2, -2, -2, -2, -2, -2, -2, -2, -2, -2, -2, -2, -2, -2, -2, -2, -2, -2, -2, -2, -2, -2, -2, -2]], 'h_samples': [240, 250, 260, 270, 280, 290, 300, 310, 320, 330, 340, 350, 360, 370, 380, 390, 400, 410, 420, 430, 440, 450, 460, 470, 480, 490, 500, 510, 520, 530, 540, 550, 560, 570, 580, 590, 600, 610, 620, 630, 640, 650, 660, 670, 680, 690, 700, 710], 'raw_file': 'clips/0313-1/900/20.jpg'}, {'lanes': [[-2, -2, 726, 721, 716, 711, 705, 700, 695, 691, 689, 686, 683, 681, 678, 676, 673, 670, 668, 665, 662, 660, 657, 654, 652, 649, 646, 644, 641, 638, 636, 633, 630, 628, 625, 623, 620, 617, 615, 612, 609, 607, 604, 601, 599, 596, 593, 591], [-2, -2, -2, 786, 806, 825, 844, 863, 883, 902, 921, 940, 960, 979, 998, 1017, 1037, 1056, 1075, 1095, 1114, 1133, 1152, 1172, 1191, 1210, 1229, 1249, -2, -2, -2, -2, -2, -2, -2, -2, -2, -2, -2, -2, -2, -2, -2, -2, -2, -2, -2, -2], [-2, -2, -2, 646, 622, 598, 574, 550, 526, 502, 478, 454, 430, 406, 382, 358, 334, 310, 286, 262, 238, 214, 190, 166, 142, 118, 94, 70, 46, 22, -2, -2, -2, -2, -2, -2, -2, -2, -2, -2, -2, -2, -2, -2, -2, -2, -2, -2], [-2, -2, -2, -2, 902, 944, 987, 1029, 1071, 1113, 1155, 1197, 1239, -2, -2, -2, -2, -2, -2, -2, -2, -2, -2, -2, -2, -2, -2, -2, -2, -2, -2, -2, -2, -2, -2, -2, -2, -2, -2, -2, -2, -2, -2, -2, -2, -2, -2, -2]], 'h_samples': [240, 250, 260, 270, 280, 290, 300, 310, 320, 330, 340, 350, 360, 370, 380, 390, 400, 410, 420, 430, 440, 450, 460, 470, 480, 490, 500, 510, 520, 530, 540, 550, 560, 570, 580, 590, 600, 610, 620, 630, 640, 650, 660, 670, 680, 690, 700, 710], 'raw_file': 'clips/0313-1/840/20.jpg'}, {'lanes': [[-2, 661, 649, 637, 625, 614, 602, 590, 578, 567, 555, 543, 531, 520, 508, 496, 484, 473, 461, 449, 437, 426, 414, 402, 390, 379, 367, 355, 343, 332, 320, 308, 296, 285, 273, 261, 249, 238, 226, 214, 202, 191, 179, 167, 155, 144, 132, 120], [-2, 681, 692, 704, 715, 726, 737, 748, 760, 771, 782, 793, 804, 815, 827, 838, 849, 860, 871, 883, 894, 905, 916, 927, 939, 950, 961, 972, 983, 994, 1006, 1017, 1028, 1039, 1050, 1062, 1073, 1084, 1095, 1106, 1117, 1129, 1140, 1151, 1162, 1173, 1185, 1196], [-2, -2, 612, 581, 551, 521, 491, 461, 431, 400, 370, 340, 310, 280, 249, 219, 189, 159, 129, 98, 68, 38, 8, -2, -2, -2, -2, -2, -2, -2, -2, -2, -2, -2, -2, -2, -2, -2, -2, -2, -2, -2, -2, -2, -2, -2, -2, -2], [-2, -2, -2, 770, 804, 838, 873, 907, 941, 976, 1010, 1044, 1078, 1113, 1147, 1181, 1215, 1250, -2, -2, -2, -2, -2, -2, -2, -2, -2, -2, -2, -2, -2, -2, -2, -2, -2, -2, -2, -2, -2, -2, -2, -2, -2, -2, -2, -2, -2, -2]], 'h_samples': [240, 250, 260, 270, 280, 290, 300, 310, 320, 330, 340, 350, 360, 370, 380, 390, 400, 410, 420, 430, 440, 450, 460, 470, 480, 490, 500, 510, 520, 530, 540, 550, 560, 570, 580, 590, 600, 610, 620, 630, 640, 650, 660, 670, 680, 690, 700, 710], 'raw_file': 'clips/0313-1/1380/20.jpg'}, {'lanes': [[820, 788, 757, 726, 696, 678, 660, 642, 624, 606, 591, 577, 562, 547, 533, 518, 504, 489, 474, 460, 445, 430, 416, 401, 387, 372, 357, 343, 328, 314, 299, 284, 270, 255, 240, 226, 211, 197, 182, 167, 153, 138, 123, 109, 94, 80, 65, 50], [860, 840, 823, 816, 813, 812, 818, 823, 828, 833, 838, 844, 849, 854, 862, 869, 877, 885, 892, 900, 907, 915, 923, 930, 938, 945, 953, 961, 968, 976, 983, 991, 998, 1006, 1014, 1021, 1029, 1036, 1044, 1052, 1059, 1067, 1074, 1082, 1090, 1097, 1105, -2], [775, 726, 681, 638, 594, 551, 510, 477, 443, 410, 376, 342, 309, 275, 242, 208, 174, 141, 107, 74, 40, 7, -2, -2, -2, -2, -2, -2, -2, -2, -2, -2, -2, -2, -2, -2, -2, -2, -2, -2, -2, -2, -2, -2, -2, -2, -2, -2], [-2, -2, -2, -2, -2, -2, -2, -2, -2, -2, -2, -2, -2, -2, -2, -2, -2, -2, -2, -2, -2, -2, -2, -2, -2, -2, -2, -2, -2, -2, -2, -2, -2, -2, -2, -2, -2, -2, -2, -2, -2, -2, -2, -2, -2, -2, -2, -2]], 'h_samples': [240, 250, 260, 270, 280, 290, 300, 310, 320, 330, 340, 350, 360, 370, 380, 390, 400, 410, 420, 430, 440, 450, 460, 470, 480, 490, 500, 510, 520, 530, 540, 550, 560, 570, 580, 590, 600, 610, 620, 630, 640, 650, 660, 670, 680, 690, 700, 710], 'raw_file': 'clips/0313-1/120/20.jpg'}, {'lanes': [[-2, -2, -2, -2, 580, 567, 554, 541, 528, 515, 502, 489, 476, 463, 450, 437, 424, 411, 398, 386, 373, 360, 347, 334, 321, 308, 295, 282, 269, 256, 243, 230, 217, 204, 191, 178, 165, 152, 140, 127, 114, 101, 88, 75, 62, 49, 36, 23], [-2, -2, 681, 690, 699, 708, 717, 727, 736, 745, 754, 763, 772, 782, 791, 800, 809, 818, 827, 836, 846, 855, 864, 873, 882, 891, 901, 910, 919, 928, 937, 946, 955, 965, 974, 983, 992, 1001, 1010, 1020, 1029, 1038, 1047, 1056, 1065, 1074, 1084, 1093], [-2, -2, -2, 512, 480, 448, 417, 385, 353, 321, 289, 257, 225, 194, 162, 130, 98, 66, 34, 2, -2, -2, -2, -2, -2, -2, -2, -2, -2, -2, -2, -2, -2, -2, -2, -2, -2, -2, -2, -2, -2, -2, -2, -2, -2, -2, -2, -2], [-2, 721, 753, 784, 815, 846, 878, 909, 940, 972, 1003, 1034, 1066, 1097, 1128, 1160, 1191, 1222, 1253, -2, -2, -2, -2, -2, -2, -2, -2, -2, -2, -2, -2, -2, -2, -2, -2, -2, -2, -2, -2, -2, -2, -2, -2, -2, -2, -2, -2, -2]], 'h_samples': [240, 250, 260, 270, 280, 290, 300, 310, 320, 330, 340, 350, 360, 370, 380, 390, 400, 410, 420, 430, 440, 450, 460, 470, 480, 490, 500, 510, 520, 530, 540, 550, 560, 570, 580, 590, 600, 610, 620, 630, 640, 650, 660, 670, 680, 690, 700, 710], 'raw_file': 'clips/0313-1/1080/20.jpg'}, {'lanes': [[-2, -2, -2, -2, 612, 602, 592, 583, 573, 564, 554, 545, 535, 526, 516, 506, 497, 487, 478, 468, 459, 449, 440, 430, 420, 411, 401, 392, 382, 373, 363, 354, 344, 334, 325, 315, 306, 296, 287, 277, 268, 258, 248, 239, 229, 220, -2, -2], [-2, -2, -2, -2, 707, 721, 734, 748, 762, 776, 790, 803, 817, 831, 845, 858, 872, 886, 900, 913, 927, 941, 955, 969, 982, 996, 1010, 1024, 1037, 1051, 1065, 1079, 1092, 1106, 1120, 1134, 1147, 1161, 1175, 1189, 1203, 1216, 1230, 1244, 1258, -2, -2, -2], [-2, -2, -2, 564, 535, 506, 476, 447, 418, 388, 359, 330, 301, 271, 242, 213, 184, 154, 125, 96, 66, 37, -2, -2, -2, -2, -2, -2, -2, -2, -2, -2, -2, -2, -2, -2, -2, -2, -2, -2, -2, -2, -2, -2, -2, -2, -2, -2], [-2, -2, -2, -2, -2, 842, 877, 912, 947, 981, 1016, 1051, 1086, 1120, 1155, 1190, 1224, 1259, -2, -2, -2, -2, -2, -2, -2, -2, -2, -2, -2, -2, -2, -2, -2, -2, -2, -2, -2, -2, -2, -2, -2, -2, -2, -2, -2, -2, -2, -2]], 'h_samples': [240, 250, 260, 270, 280, 290, 300, 310, 320, 330, 340, 350, 360, 370, 380, 390, 400, 410, 420, 430, 440, 450, 460, 470, 480, 490, 500, 510, 520, 530, 540, 550, 560, 570, 580, 590, 600, 610, 620, 630, 640, 650, 660, 670, 680, 690, 700, 710], 'raw_file': 'clips/0313-2/105/20.jpg'}, {'lanes': [[-2, -2, -2, -2, 623, 613, 603, 594, 584, 574, 565, 555, 545, 536, 526, 517, 507, 497, 488, 478, 468, 459, 449, 439, 430, 420, 411, 401, 391, 382, 372, 362, 353, 343, 334, 324, 314, 305, 295, 285, 276, 266, 256, 247, 237, 228, 218, 208], [-2, -2, -2, -2, 713, 726, 739, 752, 765, 778, 791, 804, 817, 830, 843, 856, 869, 882, 895, 908, 921, 934, 947, 960, 973, 985, 998, 1011, 1024, 1037, 1050, 1063, 1076, 1089, 1102, 1115, 1128, 1141, 1154, 1167, 1180, 1193, 1206, 1219, 1232, 1245, -2, -2], [-2, -2, -2, -2, 540, 510, 480, 451, 421, 391, 361, 331, 302, 272, 242, 212, 182, 153, 123, 93, 63, 33, -2, -2, -2, -2, -2, -2, -2, -2, -2, -2, -2, -2, -2, -2, -2, -2, -2, -2, -2, -2, -2, -2, -2, -2, -2, -2], [-2, -2, -2, -2, -2, 848, 885, 922, 958, 995, 1032, 1069, 1106, 1142, 1179, 1216, 1253, -2, -2, -2, -2, -2, -2, -2, -2, -2, -2, -2, -2, -2, -2, -2, -2, -2, -2, -2, -2, -2, -2, -2, -2, -2, -2, -2, -2, -2, -2, -2]], 'h_samples': [240, 250, 260, 270, 280, 290, 300, 310, 320, 330, 340, 350, 360, 370, 380, 390, 400, 410, 420, 430, 440, 450, 460, 470, 480, 490, 500, 510, 520, 530, 540, 550, 560, 570, 580, 590, 600, 610, 620, 630, 640, 650, 660, 670, 680, 690, 700, 710], 'raw_file': 'clips/0313-2/95/20.jpg'}, {'lanes': [[-2, -2, -2, -2, 634, 623, 613, 603, 593, 583, 572, 562, 552, 542, 531, 521, 511, 501, 491, 480, 470, 460, 450, 440, 429, 419, 409, 399, 388, 378, 368, 358, 348, 337, 327, 317, 307, 296, 286, 276, 266, 256, 245, 235, 225, 215, 204, -2], [-2, -2, -2, 727, 739, 752, 764, 776, 788, 801, 813, 825, 837, 850, 862, 874, 886, 899, 911, 923, 935, 947, 960, 972, 984, 996, 1009, 1021, 1033, 1045, 1058, 1070, 1082, 1094, 1106, 1119, 1131, 1143, 1155, 1168, 1180, 1192, 1204, 1217, 1229, 1241, 1253, -2], [-2, -2, -2, -2, 543, 512, 481, 449, 418, 387, 355, 324, 293, 261, 230, 199, 168, 136, 105, 74, 42, -2, -2, -2, -2, -2, -2, -2, -2, -2, -2, -2, -2, -2, -2, -2, -2, -2, -2, -2, -2, -2, -2, -2, -2, -2, -2, -2], [-2, -2, -2, -2, 822, 858, 894, 929, 965, 1001, 1037, 1073, 1108, 1144, 1180, 1216, 1251, -2, -2, -2, -2, -2, -2, -2, -2, -2, -2, -2, -2, -2, -2, -2, -2, -2, -2, -2, -2, -2, -2, -2, -2, -2, -2, -2, -2, -2, -2, -2]], 'h_samples': [240, 250, 260, 270, 280, 290, 300, 310, 320, 330, 340, 350, 360, 370, 380, 390, 400, 410, 420, 430, 440, 450, 460, 470, 480, 490, 500, 510, 520, 530, 540, 550, 560, 570, 580, 590, 600, 610, 620, 630, 640, 650, 660, 670, 680, 690, 700, 710], 'raw_file': 'clips/0313-2/55/20.jpg'}, {'lanes': [[-2, -2, -2, 635, 626, 617, 607, 598, 589, 579, 570, 561, 551, 542, 533, 524, 514, 505, 496, 486, 477, 468, 458, 449, 440, 431, 421, 412, 403, 393, 384, 375, 365, 356, 347, 338, 328, 319, 310, 300, 291, 282, 272, 263, 254, 245, -2, -2], [-2, -2, 706, 719, 733, 746, 759, 772, 786, 799, 812, 825, 838, 852, 865, 878, 891, 904, 918, 931, 944, 957, 971, 984, 997, 1010, 1023, 1037, 1050, 1063, 1076, 1089, 1103, 1116, 1129, 1142, 1156, 1169, 1182, 1195, 1208, 1222, 1235, 1248, 1261, -2, -2, -2], [-2, -2, -2, -2, 538, 509, 479, 449, 419, 389, 359, 329, 299, 269, 239, 210, 180, 150, 120, 90, 60, 30, -2, -2, -2, -2, -2, -2, -2, -2, -2, -2, -2, -2, -2, -2, -2, -2, -2, -2, -2, -2, -2, -2, -2, -2, -2, -2], [-2, -2, -2, 818, 852, 886, 921, 955, 989, 1023, 1058, 1092, 1126, 1160, 1195, 1229, 1263, -2, -2, -2, -2, -2, -2, -2, -2, -2, -2, -2, -2, -2, -2, -2, -2, -2, -2, -2, -2, -2, -2, -2, -2, -2, -2, -2, -2, -2, -2, -2]], 'h_samples': [240, 250, 260, 270, 280, 290, 300, 310, 320, 330, 340, 350, 360, 370, 380, 390, 400, 410, 420, 430, 440, 450, 460, 470, 480, 490, 500, 510, 520, 530, 540, 550, 560, 570, 580, 590, 600, 610, 620, 630, 640, 650, 660, 670, 680, 690, 700, 710], 'raw_file': 'clips/0313-2/70/20.jpg'}, {'lanes': [[-2, -2, -2, -2, 629, 619, 610, 600, 591, 581, 571, 561, 551, 541, 531, 521, 511, 501, 491, 481, 472, 462, 452, 442, 432, 422, 412, 402, 392, 382, 372, 362, 352, 342, 332, 322, 312, 302, 292, 282, 272, 262, 252, 242, 232, 222, 212, 202], [-2, -2, -2, 718, 731, 744, 756, 769, 782, 795, 808, 820, 833, 846, 859, 872, 885, 897, 910, 923, 936, 949, 961, 974, 987, 1000, 1013, 1025, 1038, 1051, 1064, 1077, 1089, 1102, 1115, 1128, 1141, 1154, 1166, 1179, 1192, 1205, 1218, 1230, 1243, 1256, 1269, -2], [-2, -2, -2, -2, -2, 506, 475, 445, 414, 384, 353, 322, 292, 261, 231, 200, 169, 139, 108, 78, 47, 16, -2, -2, -2, -2, -2, -2, -2, -2, -2, -2, -2, -2, -2, -2, -2, -2, -2, -2, -2, -2, -2, -2, -2, -2, -2, -2], [-2, -2, -2, -2, -2, -2, 900, 937, 973, 1009, 1046, 1082, 1118, 1154, 1191, 1227, 1263, -2, -2, -2, -2, -2, -2, -2, -2, -2, -2, -2, -2, -2, -2, -2, -2, -2, -2, -2, -2, -2, -2, -2, -2, -2, -2, -2, -2, -2, -2, -2]], 'h_samples': [240, 250, 260, 270, 280, 290, 300, 310, 320, 330, 340, 350, 360, 370, 380, 390, 400, 410, 420, 430, 440, 450, 460, 470, 480, 490, 500, 510, 520, 530, 540, 550, 560, 570, 580, 590, 600, 610, 620, 630, 640, 650, 660, 670, 680, 690, 700, 710], 'raw_file': 'clips/0313-2/65/20.jpg'}, {'lanes': [[-2, -2, -2, 643, 633, 623, 612, 602, 592, 582, 571, 561, 551, 541, 530, 520, 510, 500, 489, 479, 469, 459, 448, 438, 428, 418, 407, 397, 387, 377, 366, 356, 346, 336, 325, 315, 305, 295, 284, 274, 264, 254, 243, 233, 223, 213, 202, 192], [-2, -2, 717, 729, 742, 754, 766, 779, 791, 803, 815, 828, 840, 852, 864, 877, 889, 901, 914, 926, 938, 950, 963, 975, 987, 1000, 1012, 1024, 1036, 1049, 1061, 1073, 1085, 1098, 1110, 1122, 1135, 1147, 1159, 1171, 1184, 1196, 1208, 1221, 1233, 1245, 1257, -2], [-2, -2, -2, 561, 532, 503, 474, 445, 416, 387, 358, 329, 300, 271, 242, 213, 184, 155, 126, 98, 69, 40, 11, -2, -2, -2, -2, -2, -2, -2, -2, -2, -2, -2, -2, -2, -2, -2, -2, -2, -2, -2, -2, -2, -2, -2, -2, -2], [-2, -2, -2, 802, 837, 872, 907, 942, 977, 1012, 1047, 1082, 1117, 1152, 1187, 1222, 1257, -2, -2, -2, -2, -2, -2, -2, -2, -2, -2, -2, -2, -2, -2, -2, -2, -2, -2, -2, -2, -2, -2, -2, -2, -2, -2, -2, -2, -2, -2, -2]], 'h_samples': [240, 250, 260, 270, 280, 290, 300, 310, 320, 330, 340, 350, 360, 370, 380, 390, 400, 410, 420, 430, 440, 450, 460, 470, 480, 490, 500, 510, 520, 530, 540, 550, 560, 570, 580, 590, 600, 610, 620, 630, 640, 650, 660, 670, 680, 690, 700, 710], 'raw_file': 'clips/0313-2/50/20.jpg'}, {'lanes': [[-2, -2, -2, 660, 649, 638, 627, 616, 605, 594, 583, 572, 561, 550, 539, 528, 517, 505, 494, 483, 472, 461, 450, 439, 428, 417, 406, 395, 384, 373, 362, 351, 340, 329, 318, 307, 296, 285, 273, 262, 251, 240, 229, 218, 207, 196, 185, 174], [-2, -2, -2, -2, 730, 742, 753, 765, 777, 789, 801, 813, 825, 837, 849, 861, 873, 885, 897, 909, 921, 933, 945, 957, 969, 981, 993, 1005, 1017, 1029, 1041, 1053, 1065, 1077, 1089, 1101, 1113, 1124, 1136, 1148, 1160, 1172, 1184, 1196, 1208, 1220, 1232, 1244], [-2, -2, -2, 606, 575, 544, 514, 483, 452, 422, 391, 360, 330, 299, 268, 237, 207, 176, 145, 115, 84, 53, 23, -2, -2, -2, -2, -2, -2, -2, -2, -2, -2, -2, -2, -2, -2, -2, -2, -2, -2, -2, -2, -2, -2, -2, -2, -2], [-2, -2, -2, -2, 820, 854, 888, 922, 956, 991, 1025, 1059, 1093, 1127, 1161, 1196, 1230, 1264, -2, -2, -2, -2, -2, -2, -2, -2, -2, -2, -2, -2, -2, -2, -2, -2, -2, -2, -2, -2, -2, -2, -2, -2, -2, -2, -2, -2, -2, -2]], 'h_samples': [240, 250, 260, 270, 280, 290, 300, 310, 320, 330, 340, 350, 360, 370, 380, 390, 400, 410, 420, 430, 440, 450, 460, 470, 480, 490, 500, 510, 520, 530, 540, 550, 560, 570, 580, 590, 600, 610, 620, 630, 640, 650, 660, 670, 680, 690, 700, 710], 'raw_file': 'clips/0313-2/20/20.jpg'}, {'lanes': [[-2, -2, -2, -2, -2, 631, 621, 610, 599, 589, 578, 567, 557, 546, 536, 525, 514, 504, 493, 482, 472, 461, 451, 440, 429, 419, 408, 397, 387, 376, 366, 355, 344, 334, 323, 312, 302, 291, 281, 270, 259, 249, 238, 227, 217, 206, 196, 185], [-2, -2, -2, 727, 739, 751, 764, 776, 789, 801, 813, 826, 838, 850, 863, 875, 888, 900, 912, 925, 937, 949, 962, 974, 987, 999, 1011, 1024, 1036, 1049, 1061, 1073, 1086, 1098, 1110, 1123, 1135, 1148, 1160, 1172, 1185, 1197, 1209, 1222, 1234, 1247, 1259, -2], [-2, -2, -2, -2, -2, 522, 492, 462, 432, 403, 373, 343, 313, 283, 254, 224, 194, 164, 135, 105, 75, 45, 15, -2, -2, -2, -2, -2, -2, -2, -2, -2, -2, -2, -2, -2, -2, -2, -2, -2, -2, -2, -2, -2, -2, -2, -2, -2], [-2, -2, -2, -2, -2, -2, 902, 936, 969, 1003, 1037, 1070, 1104, 1138, 1171, 1205, 1238, 1272, -2, -2, -2, -2, -2, -2, -2, -2, -2, -2, -2, -2, -2, -2, -2, -2, -2, -2, -2, -2, -2, -2, -2, -2, -2, -2, -2, -2, -2, -2]], 'h_samples': [240, 250, 260, 270, 280, 290, 300, 310, 320, 330, 340, 350, 360, 370, 380, 390, 400, 410, 420, 430, 440, 450, 460, 470, 480, 490, 500, 510, 520, 530, 540, 550, 560, 570, 580, 590, 600, 610, 620, 630, 640, 650, 660, 670, 680, 690, 700, 710], 'raw_file': 'clips/0313-2/45/20.jpg'}, {'lanes': [[-2, 635, 626, 616, 607, 598, 588, 579, 570, 560, 551, 541, 532, 523, 513, 504, 495, 485, 476, 466, 457, 448, 438, 429, 420, 410, 401, 391, 382, 373, 363, 354, 344, 335, 326, 316, 307, 298, 288, 279, 269, 260, 251, 241, 232, 223, 213, 204], [-2, -2, 766, 729, 714, 727, 741, 754, 767, 781, 794, 807, 821, 834, 847, 861, 874, 887, 901, 914, 927, 941, 954, 967, 981, 994, 1007, 1021, 1034, 1047, 1061, 1074, 1087, 1101, 1114, 1127, 1141, 1154, 1167, 1181, 1194, 1207, 1221, 1234, 1247, 1261, -2, -2], [-2, 598, 569, 540, 510, 481, 451, 422, 393, 363, 334, 304, 275, 246, 216, 187, 157, 128, 99, 69, 40, 11, -2, -2, -2, -2, -2, -2, -2, -2, -2, -2, -2, -2, -2, -2, -2, -2, -2, -2, -2, -2, -2, -2, -2, -2, -2, -2], [-2, -2, -2, -2, 819, 852, 886, 919, 953, 986, 1020, 1053, 1087, 1120, 1154, 1187, 1221, 1254, -2, -2, -2, -2, -2, -2, -2, -2, -2, -2, -2, -2, -2, -2, -2, -2, -2, -2, -2, -2, -2, -2, -2, -2, -2, -2, -2, -2, -2, -2]], 'h_samples': [240, 250, 260, 270, 280, 290, 300, 310, 320, 330, 340, 350, 360, 370, 380, 390, 400, 410, 420, 430, 440, 450, 460, 470, 480, 490, 500, 510, 520, 530, 540, 550, 560, 570, 580, 590, 600, 610, 620, 630, 640, 650, 660, 670, 680, 690, 700, 710], 'raw_file': 'clips/0313-2/140/20.jpg'}, {'lanes': [[-2, -2, -2, -2, 632, 621, 611, 601, 591, 581, 571, 561, 551, 541, 531, 521, 511, 501, 490, 480, 470, 460, 450, 440, 430, 420, 410, 400, 390, 380, 369, 359, 349, 339, 329, 319, 309, 299, 289, 279, 269, 259, 249, 238, 228, 218, 208, 198], [-2, -2, 711, 724, 736, 749, 761, 774, 786, 799, 811, 824, 836, 849, 861, 874, 886, 899, 911, 924, 936, 949, 961, 974, 986, 999, 1011, 1024, 1036, 1049, 1061, 1074, 1086, 1099, 1111, 1124, 1136, 1149, 1161, 1174, 1186, 1199, 1211, 1224, 1237, 1249, 1262, -2], [-2, -2, -2, -2, 530, 500, 471, 441, 411, 382, 352, 323, 293, 263, 234, 204, 174, 145, 115, 86, 56, 26, -2, -2, -2, -2, -2, -2, -2, -2, -2, -2, -2, -2, -2, -2, -2, -2, -2, -2, -2, -2, -2, -2, -2, -2, -2, -2], [-2, -2, -2, 793, 829, 865, 901, 937, 973, 1009, 1045, 1081, 1117, 1153, 1189, 1225, 1261, -2, -2, -2, -2, -2, -2, -2, -2, -2, -2, -2, -2, -2, -2, -2, -2, -2, -2, -2, -2, -2, -2, -2, -2, -2, -2, -2, -2, -2, -2, -2]], 'h_samples': [240, 250, 260, 270, 280, 290, 300, 310, 320, 330, 340, 350, 360, 370, 380, 390, 400, 410, 420, 430, 440, 450, 460, 470, 480, 490, 500, 510, 520, 530, 540, 550, 560, 570, 580, 590, 600, 610, 620, 630, 640, 650, 660, 670, 680, 690, 700, 710], 'raw_file': 'clips/0313-2/60/20.jpg'}, {'lanes': [[-2, -2, -2, 625, 616, 606, 596, 587, 577, 567, 558, 548, 538, 529, 519, 509, 500, 490, 480, 471, 461, 452, 442, 432, 423, 413, 403, 394, 384, 374, 365, 355, 345, 336, 326, 316, 307, 297, 287, 278, 268, 259, 249, 239, 230, 220, 210, 201], [-2, -2, 763, 729, 715, 728, 742, 756, 769, 783, 797, 810, 824, 837, 851, 865, 878, 892, 906, 919, 933, 947, 960, 974, 988, 1001, 1015, 1029, 1042, 1056, 1070, 1083, 1097, 1111, 1124, 1138, 1152, 1165, 1179, 1193, 1206, 1220, 1233, 1247, 1261, -2, -2, -2], [-2, -2, -2, -2, 495, 468, 441, 413, 386, 358, 331, 303, 276, 248, 221, 193, 166, 138, 111, 83, 56, 28, -2, -2, -2, -2, -2, -2, -2, -2, -2, -2, -2, -2, -2, -2, -2, -2, -2, -2, -2, -2, -2, -2, -2, -2, -2, -2], [-2, -2, -2, -2, -2, 854, 888, 923, 957, 991, 1026, 1060, 1095, 1129, 1163, 1198, 1232, 1267, -2, -2, -2, -2, -2, -2, -2, -2, -2, -2, -2, -2, -2, -2, -2, -2, -2, -2, -2, -2, -2, -2, -2, -2, -2, -2, -2, -2, -2, -2]], 'h_samples': [240, 250, 260, 270, 280, 290, 300, 310, 320, 330, 340, 350, 360, 370, 380, 390, 400, 410, 420, 430, 440, 450, 460, 470, 480, 490, 500, 510, 520, 530, 540, 550, 560, 570, 580, 590, 600, 610, 620, 630, 640, 650, 660, 670, 680, 690, 700, 710], 'raw_file': 'clips/0313-2/135/20.jpg'}, {'lanes': [[-2, -2, -2, 620, 611, 603, 594, 585, 576, 568, 559, 550, 541, 532, 524, 515, 506, 497, 489, 480, 471, 462, 454, 445, 436, 427, 419, 410, 401, 392, 384, 375, 366, 357, 349, 340, 331, 322, 314, 305, 296, 287, 279, 270, 261, 252, 244, 235], [-2, -2, -2, -2, 709, 723, 736, 750, 764, 777, 791, 805, 818, 832, 846, 859, 873, 887, 900, 914, 928, 941, 955, 969, 982, 996, 1010, 1023, 1037, 1050, 1064, 1078, 1091, 1105, 1119, 1132, 1146, 1160, 1173, 1187, 1201, 1214, 1228, 1242, 1255, -2, -2, -2], [-2, -2, -2, 563, 534, 506, 477, 448, 420, 391, 362, 333, 305, 276, 247, 218, 190, 161, 132, 104, 75, 46, -2, -2, -2, -2, -2, -2, -2, -2, -2, -2, -2, -2, -2, -2, -2, -2, -2, -2, -2, -2, -2, -2, -2, -2, -2, -2], [-2, -2, -2, -2, 805, 840, 875, 910, 945, 980, 1015, 1050, 1085, 1120, 1155, 1190, 1225, 1260, -2, -2, -2, -2, -2, -2, -2, -2, -2, -2, -2, -2, -2, -2, -2, -2, -2, -2, -2, -2, -2, -2, -2, -2, -2, -2, -2, -2, -2, -2]], 'h_samples': [240, 250, 260, 270, 280, 290, 300, 310, 320, 330, 340, 350, 360, 370, 380, 390, 400, 410, 420, 430, 440, 450, 460, 470, 480, 490, 500, 510, 520, 530, 540, 550, 560, 570, 580, 590, 600, 610, 620, 630, 640, 650, 660, 670, 680, 690, 700, 710], 'raw_file': 'clips/0313-2/115/20.jpg'}, {'lanes': [[-2, -2, -2, -2, 655, 644, 633, 621, 610, 599, 587, 576, 565, 553, 542, 531, 519, 508, 497, 485, 474, 463, 451, 440, 429, 417, 406, 395, 383, 372, 361, 350, 338, 327, 316, 304, 293, 282, 270, 259, 248, 236, 225, 214, 202, 191, 180, -2], [-2, -2, -2, 725, 737, 749, 761, 773, 785, 797, 809, 821, 833, 845, 857, 869, 881, 893, 905, 917, 929, 941, 953, 965, 977, 989, 1001, 1013, 1025, 1037, 1049, 1061, 1073, 1085, 1097, 1109, 1121, 1133, 1145, 1157, 1169, 1181, 1193, 1205, 1217, 1229, 1241, -2], [-2, -2, -2, 596, 566, 536, 506, 476, 446, 416, 386, 357, 327, 297, 267, 237, 207, 177, 147, 117, 88, 58, 28, -2, -2, -2, -2, -2, -2, -2, -2, -2, -2, -2, -2, -2, -2, -2, -2, -2, -2, -2, -2, -2, -2, -2, -2, -2], [-2, -2, -2, -2, 806, 842, 879, 915, 951, 988, 1024, 1061, 1097, 1133, 1170, 1206, 1243, -2, -2, -2, -2, -2, -2, -2, -2, -2, -2, -2, -2, -2, -2, -2, -2, -2, -2, -2, -2, -2, -2, -2, -2, -2, -2, -2, -2, -2, -2, -2]], 'h_samples': [240, 250, 260, 270, 280, 290, 300, 310, 320, 330, 340, 350, 360, 370, 380, 390, 400, 410, 420, 430, 440, 450, 460, 470, 480, 490, 500, 510, 520, 530, 540, 550, 560, 570, 580, 590, 600, 610, 620, 630, 640, 650, 660, 670, 680, 690, 700, 710], 'raw_file': 'clips/0313-2/25/20.jpg'}, {'lanes': [[-2, 655, 645, 635, 625, 615, 605, 595, 585, 576, 566, 556, 546, 536, 526, 516, 506, 497, 487, 477, 467, 457, 447, 437, 427, 418, 408, 398, 388, 378, 368, 358, 348, 339, 329, 319, 309, 299, 289, 279, 269, 260, 250, 240, 230, 220, 210, 200], [-2, -2, 736, 723, 735, 748, 760, 773, 786, 798, 811, 823, 836, 849, 861, 874, 886, 899, 912, 924, 937, 949, 962, 975, 987, 1000, 1012, 1025, 1038, 1050, 1063, 1075, 1088, 1101, 1113, 1126, 1138, 1151, 1164, 1176, 1189, 1201, 1214, 1227, 1239, 1252, 1264, -2], [-2, 615, 586, 557, 528, 498, 469, 440, 411, 382, 353, 324, 295, 265, 236, 207, 178, 149, 120, 91, 62, 32, -2, -2, -2, -2, -2, -2, -2, -2, -2, -2, -2, -2, -2, -2, -2, -2, -2, -2, -2, -2, -2, -2, -2, -2, -2, -2], [-2, -2, -2, 797, 832, 868, 904, 939, 975, 1011, 1047, 1082, 1118, 1154, 1189, 1225, 1261, -2, -2, -2, -2, -2, -2, -2, -2, -2, -2, -2, -2, -2, -2, -2, -2, -2, -2, -2, -2, -2, -2, -2, -2, -2, -2, -2, -2, -2, -2, -2]], 'h_samples': [240, 250, 260, 270, 280, 290, 300, 310, 320, 330, 340, 350, 360, 370, 380, 390, 400, 410, 420, 430, 440, 450, 460, 470, 480, 490, 500, 510, 520, 530, 540, 550, 560, 570, 580, 590, 600, 610, 620, 630, 640, 650, 660, 670, 680, 690, 700, 710], 'raw_file': 'clips/0313-2/75/20.jpg'}, {'lanes': [[-2, -2, -2, 660, 649, 638, 628, 617, 606, 596, 585, 575, 564, 553, 543, 532, 522, 511, 500, 490, 479, 468, 458, 447, 437, 426, 415, 405, 394, 384, 373, 362, 352, 341, 330, 320, 309, 299, 288, 277, 267, 256, 245, 235, 224, 214, 203, 192], [-2, -2, -2, 730, 742, 754, 766, 778, 791, 803, 815, 827, 839, 852, 864, 876, 888, 900, 913, 925, 937, 949, 961, 974, 986, 998, 1010, 1022, 1035, 1047, 1059, 1071, 1083, 1096, 1108, 1120, 1132, 1145, 1157, 1169, 1181, 1193, 1206, 1218, 1230, 1242, -2, -2], [-2, -2, -2, -2, 576, 546, 515, 485, 454, 424, 393, 362, 332, 301, 271, 240, 209, 179, 148, 118, 87, 57, 26, -2, -2, -2, -2, -2, -2, -2, -2, -2, -2, -2, -2, -2, -2, -2, -2, -2, -2, -2, -2, -2, -2, -2, -2, -2], [-2, -2, -2, -2, 814, 849, 884, 919, 954, 989, 1024, 1059, 1094, 1129, 1164, 1199, 1234, -2, -2, -2, -2, -2, -2, -2, -2, -2, -2, -2, -2, -2, -2, -2, -2, -2, -2, -2, -2, -2, -2, -2, -2, -2, -2, -2, -2, -2, -2, -2]], 'h_samples': [240, 250, 260, 270, 280, 290, 300, 310, 320, 330, 340, 350, 360, 370, 380, 390, 400, 410, 420, 430, 440, 450, 460, 470, 480, 490, 500, 510, 520, 530, 540, 550, 560, 570, 580, 590, 600, 610, 620, 630, 640, 650, 660, 670, 680, 690, 700, 710], 'raw_file': 'clips/0313-2/35/20.jpg'}, {'lanes': [[-2, -2, 634, 625, 615, 606, 597, 587, 578, 569, 559, 550, 541, 531, 522, 513, 503, 494, 485, 476, 466, 457, 448, 438, 429, 420, 410, 401, 392, 382, 373, 364, 354, 345, 336, 326, 317, 308, 299, 289, 280, 271, 261, 252, 243, 233, 224, 215], [-2, -2, 761, 722, -2, -2, -2, -2, -2, -2, -2, -2, -2, -2, -2, -2, -2, -2, -2, -2, -2, -2, -2, -2, -2, -2, -2, -2, -2, -2, -2, -2, -2, -2, -2, -2, -2, -2, -2, -2, -2, -2, -2, -2, -2, -2, -2, -2], [-2, 621, 592, 562, 533, 504, 475, 446, 417, 387, 358, 329, 300, 271, 241, 212, 183, 154, 125, 95, 66, 37, 8, -2, -2, -2, -2, -2, -2, -2, -2, -2, -2, -2, -2, -2, -2, -2, -2, -2, -2, -2, -2, -2, -2, -2, -2, -2], [-2, -2, -2, -2, 806, 841, 877, 912, 947, 983, 1018, 1053, 1089, 1124, 1159, 1195, 1230, 1265, -2, -2, -2, -2, -2, -2, -2, -2, -2, -2, -2, -2, -2, -2, -2, -2, -2, -2, -2, -2, -2, -2, -2, -2, -2, -2, -2, -2, -2, -2]], 'h_samples': [240, 250, 260, 270, 280, 290, 300, 310, 320, 330, 340, 350, 360, 370, 380, 390, 400, 410, 420, 430, 440, 450, 460, 470, 480, 490, 500, 510, 520, 530, 540, 550, 560, 570, 580, 590, 600, 610, 620, 630, 640, 650, 660, 670, 680, 690, 700, 710], 'raw_file': 'clips/0313-2/100/20.jpg'}, {'lanes': [[-2, -2, -2, 617, 608, 598, 589, 579, 570, 560, 551, 541, 532, 523, 513, 504, 494, 485, 475, 466, 456, 447, 437, 428, 418, 409, 399, 390, 381, 371, 362, 352, 343, 333, 324, 314, 305, 295, 286, 276, 267, 258, 248, 239, 229, 220, 210, 201], [-2, -2, -2, -2, 720, 734, 747, 761, 774, 788, 801, 815, 828, 842, 855, 869, 882, 896, 909, 923, 936, 950, 963, 977, 990, 1004, 1017, 1031, 1044, 1058, 1071, 1085, 1098, 1112, 1125, 1139, 1152, 1166, 1179, 1193, 1206, 1220, 1233, 1247, 1260, -2, -2, -2], [-2, -2, -2, 558, 529, 500, 471, 442, 413, 383, 354, 325, 296, 267, 238, 209, 179, 150, 121, 92, 63, 34, 5, -2, -2, -2, -2, -2, -2, -2, -2, -2, -2, -2, -2, -2, -2, -2, -2, -2, -2, -2, -2, -2, -2, -2, -2, -2], [-2, -2, -2, -2, 821, 854, 888, 922, 955, 989, 1023, 1056, 1090, 1124, 1157, 1191, 1225, 1258, -2, -2, -2, -2, -2, -2, -2, -2, -2, -2, -2, -2, -2, -2, -2, -2, -2, -2, -2, -2, -2, -2, -2, -2, -2, -2, -2, -2, -2, -2]], 'h_samples': [240, 250, 260, 270, 280, 290, 300, 310, 320, 330, 340, 350, 360, 370, 380, 390, 400, 410, 420, 430, 440, 450, 460, 470, 480, 490, 500, 510, 520, 530, 540, 550, 560, 570, 580, 590, 600, 610, 620, 630, 640, 650, 660, 670, 680, 690, 700, 710], 'raw_file': 'clips/0313-2/125/20.jpg'}, {'lanes': [[-2, -2, -2, -2, 625, 616, 606, 596, 587, 577, 568, 558, 548, 539, 529, 519, 510, 500, 490, 481, 471, 462, 452, 442, 433, 423, 413, 404, 394, 384, 375, 365, 356, 346, 336, 327, 317, 307, 298, 288, 278, 269, 259, 250, 240, 230, 221, 211], [-2, -2, -2, -2, 728, 741, 754, 768, 781, 794, 807, 821, 834, 847, 861, 874, 887, 901, 914, 927, 940, 954, 967, 980, 994, 1007, 1020, 1033, 1047, 1060, 1073, 1087, 1100, 1113, 1127, 1140, 1153, 1166, 1180, 1193, 1206, 1220, 1233, 1246, 1260, -2, -2, -2], [-2, -2, -2, -2, 534, 504, 475, 445, 415, 385, 355, 326, 296, 266, 236, 207, 177, 147, 117, 88, 58, 28, -2, -2, -2, -2, -2, -2, -2, -2, -2, -2, -2, -2, -2, -2, -2, -2, -2, -2, -2, -2, -2, -2, -2, -2, -2, -2], [-2, -2, -2, -2, 818, 854, 890, 926, 962, 998, 1034, 1070, 1106, 1142, 1178, 1214, 1250, -2, -2, -2, -2, -2, -2, -2, -2, -2, -2, -2, -2, -2, -2, -2, -2, -2, -2, -2, -2, -2, -2, -2, -2, -2, -2, -2, -2, -2, -2, -2]], 'h_samples': [240, 250, 260, 270, 280, 290, 300, 310, 320, 330, 340, 350, 360, 370, 380, 390, 400, 410, 420, 430, 440, 450, 460, 470, 480, 490, 500, 510, 520, 530, 540, 550, 560, 570, 580, 590, 600, 610, 620, 630, 640, 650, 660, 670, 680, 690, 700, 710], 'raw_file': 'clips/0313-2/85/20.jpg'}, {'lanes': [[-2, 641, 632, 623, 613, 604, 595, 585, 576, 567, 558, 548, 539, 530, 520, 511, 502, 492, 483, 474, 464, 455, 446, 436, 427, 418, 408, 399, 390, 381, 371, 362, 353, 343, 334, 325, 315, 306, 297, 287, 278, 269, 259, 250, 241, 231, 222, 213], [-2, -2, 767, 730, 707, 719, 733, 746, 760, 774, 787, 801, 814, 828, 842, 855, 869, 882, 896, 910, 923, 937, 950, 964, 977, 991, 1005, 1018, 1032, 1045, 1059, 1073, 1086, 1100, 1113, 1127, 1141, 1154, 1168, 1181, 1195, 1208, 1222, 1236, 1249, 1263, -2, -2], [-2, 619, 590, 562, 534, 506, 478, 450, 421, 393, 365, 337, 309, 281, 252, 224, 196, 168, 140, 112, 83, 55, 27, -2, -2, -2, -2, -2, -2, -2, -2, -2, -2, -2, -2, -2, -2, -2, -2, -2, -2, -2, -2, -2, -2, -2, -2, -2], [-2, -2, -2, 789, 822, 855, 888, 921, 954, 987, 1020, 1052, 1085, 1118, 1151, 1184, 1217, 1250, -2, -2, -2, -2, -2, -2, -2, -2, -2, -2, -2, -2, -2, -2, -2, -2, -2, -2, -2, -2, -2, -2, -2, -2, -2, -2, -2, -2, -2, -2]], 'h_samples': [240, 250, 260, 270, 280, 290, 300, 310, 320, 330, 340, 350, 360, 370, 380, 390, 400, 410, 420, 430, 440, 450, 460, 470, 480, 490, 500, 510, 520, 530, 540, 550, 560, 570, 580, 590, 600, 610, 620, 630, 640, 650, 660, 670, 680, 690, 700, 710], 'raw_file': 'clips/0313-2/120/20.jpg'}, {'lanes': [[-2, -2, -2, -2, -2, 629, 619, 609, 599, 588, 578, 568, 558, 548, 538, 528, 517, 507, 497, 487, 477, 467, 457, 446, 436, 426, 416, 406, 396, 386, 375, 365, 355, 345, 335, 325, 315, 304, 294, 284, 274, 264, 254, 244, 233, 223, 213, 203], [-2, -2, -2, 722, 735, 747, 759, 771, 783, 796, 808, 820, 832, 844, 857, 869, 881, 893, 905, 917, 930, 942, 954, 966, 978, 991, 1003, 1015, 1027, 1039, 1051, 1064, 1076, 1088, 1100, 1112, 1125, 1137, 1149, 1161, 1173, 1185, 1198, 1210, 1222, 1234, 1246, 1259], [-2, -2, -2, 593, 563, 533, 503, 472, 442, 412, 382, 352, 321, 291, 261, 231, 201, 170, 140, 110, 80, 50, 19, -2, -2, -2, -2, -2, -2, -2, -2, -2, -2, -2, -2, -2, -2, -2, -2, -2, -2, -2, -2, -2, -2, -2, -2, -2], [-2, -2, -2, -2, -2, 854, 888, 922, 956, 990, 1024, 1058, 1092, 1126, 1160, 1194, 1228, 1262, -2, -2, -2, -2, -2, -2, -2, -2, -2, -2, -2, -2, -2, -2, -2, -2, -2, -2, -2, -2, -2, -2, -2, -2, -2, -2, -2, -2, -2, -2]], 'h_samples': [240, 250, 260, 270, 280, 290, 300, 310, 320, 330, 340, 350, 360, 370, 380, 390, 400, 410, 420, 430, 440, 450, 460, 470, 480, 490, 500, 510, 520, 530, 540, 550, 560, 570, 580, 590, 600, 610, 620, 630, 640, 650, 660, 670, 680, 690, 700, 710], 'raw_file': 'clips/0313-2/40/20.jpg'}, {'lanes': [[-2, -2, 636, 627, 618, 609, 600, 590, 581, 572, 563, 554, 545, 536, 527, 518, 508, 499, 490, 481, 472, 463, 454, 445, 436, 426, 417, 408, 399, 390, 381, 372, 363, 354, 344, 335, 326, 317, 308, 299, 290, 281, 272, 263, 253, 244, 235, 226], [-2, -2, -2, -2, 711, 724, 738, 751, 765, 778, 792, 805, 819, 832, 846, 859, 873, 886, 900, 913, 926, 940, 953, 967, 980, 994, 1007, 1021, 1034, 1048, 1061, 1075, 1088, 1102, 1115, 1129, 1142, 1156, 1169, 1183, 1196, 1210, 1223, 1237, 1250, 1263, 1277, -2], [-2, -2, 579, 551, 523, 494, 466, 438, 409, 381, 353, 325, 296, 268, 240, 211, 183, 155, 126, 98, 70, 42, 13, -2, -2, -2, -2, -2, -2, -2, -2, -2, -2, -2, -2, -2, -2, -2, -2, -2, -2, -2, -2, -2, -2, -2, -2, -2], [-2, -2, -2, -2, 804, 840, 875, 910, 946, 981, 1016, 1052, 1087, 1123, 1158, 1193, 1229, 1264, -2, -2, -2, -2, -2, -2, -2, -2, -2, -2, -2, -2, -2, -2, -2, -2, -2, -2, -2, -2, -2, -2, -2, -2, -2, -2, -2, -2, -2, -2]], 'h_samples': [240, 250, 260, 270, 280, 290, 300, 310, 320, 330, 340, 350, 360, 370, 380, 390, 400, 410, 420, 430, 440, 450, 460, 470, 480, 490, 500, 510, 520, 530, 540, 550, 560, 570, 580, 590, 600, 610, 620, 630, 640, 650, 660, 670, 680, 690, 700, 710], 'raw_file': 'clips/0313-2/110/20.jpg'}, {'lanes': [[-2, -2, -2, -2, -2, -2, 612, 602, 591, 581, 571, 560, 550, 540, 529, 519, 509, 498, 488, 478, 467, 457, 447, 437, 426, 416, 406, 395, 385, 375, 364, 354, 344, 333, 323, 313, 302, 292, 282, 271, 261, 251, 241, 230, 220, 210, 199, -2], [-2, -2, -2, -2, 728, 741, 754, 768, 781, 794, 807, 821, 834, 847, 860, 874, 887, 900, 913, 927, 940, 953, 966, 980, 993, 1006, 1019, 1033, 1046, 1059, 1073, 1086, 1099, 1112, 1126, 1139, 1152, 1165, 1179, 1192, 1205, 1218, 1232, 1245, 1258, -2, -2, -2], [-2, -2, -2, -2, 534, 504, 474, 444, 414, 384, 355, 325, 295, 265, 235, 205, 175, 145, 116, 86, 56, 26, -2, -2, -2, -2, -2, -2, -2, -2, -2, -2, -2, -2, -2, -2, -2, -2, -2, -2, -2, -2, -2, -2, -2, -2, -2, -2], [-2, -2, -2, -2, -2, 851, 888, 925, 962, 999, 1036, 1073, 1110, 1147, 1183, 1220, 1257, -2, -2, -2, -2, -2, -2, -2, -2, -2, -2, -2, -2, -2, -2, -2, -2, -2, -2, -2, -2, -2, -2, -2, -2, -2, -2, -2, -2, -2, -2, -2]], 'h_samples': [240, 250, 260, 270, 280, 290, 300, 310, 320, 330, 340, 350, 360, 370, 380, 390, 400, 410, 420, 430, 440, 450, 460, 470, 480, 490, 500, 510, 520, 530, 540, 550, 560, 570, 580, 590, 600, 610, 620, 630, 640, 650, 660, 670, 680, 690, 700, 710], 'raw_file': 'clips/0313-2/80/20.jpg'}, {'lanes': [[-2, -2, -2, 631, 621, 611, 602, 592, 582, 572, 562, 552, 542, 532, 522, 513, 503, 493, 483, 473, 463, 453, 443, 433, 424, 414, 404, 394, 384, 374, 364, 354, 344, 335, 325, 315, 305, 295, 285, 275, 265, 255, 246, 236, 226, 216, 206, 196], [-2, -2, -2, 704, 717, 730, 744, 757, 770, 784, 797, 810, 824, 837, 850, 864, 877, 890, 904, 917, 930, 944, 957, 970, 984, 997, 1010, 1024, 1037, 1050, 1064, 1077, 1090, 1104, 1117, 1130, 1144, 1157, 1170, 1184, 1197, 1210, 1224, 1237, 1250, 1264, -2, -2], [-2, -2, -2, 575, 543, 512, 480, 449, 418, 386, 355, 323, 292, 261, 229, 198, 167, 135, 104, 72, 41, 10, -2, -2, -2, -2, -2, -2, -2, -2, -2, -2, -2, -2, -2, -2, -2, -2, -2, -2, -2, -2, -2, -2, -2, -2, -2, -2], [-2, -2, -2, -2, -2, 828, 866, 904, 942, 980, 1017, 1055, 1093, 1131, 1169, 1206, 1244, -2, -2, -2, -2, -2, -2, -2, -2, -2, -2, -2, -2, -2, -2, -2, -2, -2, -2, -2, -2, -2, -2, -2, -2, -2, -2, -2, -2, -2, -2, -2]], 'h_samples': [240, 250, 260, 270, 280, 290, 300, 310, 320, 330, 340, 350, 360, 370, 380, 390, 400, 410, 420, 430, 440, 450, 460, 470, 480, 490, 500, 510, 520, 530, 540, 550, 560, 570, 580, 590, 600, 610, 620, 630, 640, 650, 660, 670, 680, 690, 700, 710], 'raw_file': 'clips/0313-2/90/20.jpg'}, {'lanes': [[-2, -2, -2, -2, 611, 601, 591, 582, 572, 562, 552, 543, 533, 523, 513, 503, 494, 484, 474, 464, 455, 445, 435, 425, 416, 406, 396, 386, 376, 367, 357, 347, 337, 328, 318, 308, 298, 288, 279, 269, 259, 249, 240, 230, 220, 210, 200, 191], [-2, -2, -2, -2, 714, 727, 741, 754, 768, 781, 795, 808, 822, 835, 849, 862, 876, 889, 903, 916, 930, 943, 957, 970, 984, 997, 1011, 1024, 1038, 1051, 1065, 1078, 1092, 1105, 1119, 1133, 1146, 1160, 1173, 1187, 1200, 1214, 1227, 1241, 1254, -2, -2, -2], [-2, -2, -2, -2, 522, 492, 462, 433, 403, 373, 344, 314, 285, 255, 225, 196, 166, 137, 107, 77, 48, -2, -2, -2, -2, -2, -2, -2, -2, -2, -2, -2, -2, -2, -2, -2, -2, -2, -2, -2, -2, -2, -2, -2, -2, -2, -2, -2], [-2, -2, -2, -2, 809, 844, 880, 915, 950, 985, 1020, 1056, 1091, 1126, 1161, 1196, 1231, 1267, -2, -2, -2, -2, -2, -2, -2, -2, -2, -2, -2, -2, -2, -2, -2, -2, -2, -2, -2, -2, -2, -2, -2, -2, -2, -2, -2, -2, -2, -2]], 'h_samples': [240, 250, 260, 270, 280, 290, 300, 310, 320, 330, 340, 350, 360, 370, 380, 390, 400, 410, 420, 430, 440, 450, 460, 470, 480, 490, 500, 510, 520, 530, 540, 550, 560, 570, 580, 590, 600, 610, 620, 630, 640, 650, 660, 670, 680, 690, 700, 710], 'raw_file': 'clips/0313-2/130/20.jpg'}, {'lanes': [[-2, -2, -2, -2, 646, 635, 625, 614, 603, 592, 581, 570, 559, 548, 538, 527, 516, 505, 494, 483, 472, 461, 451, 440, 429, 418, 407, 396, 385, 374, 364, 353, 342, 331, 320, 309, 298, 287, 277, 266, 255, 244, 233, 222, 211, 200, 190, -2], [-2, -2, -2, 723, 735, 747, 759, 771, 783, 795, 807, 819, 831, 843, 855, 867, 879, 891, 903, 916, 928, 940, 952, 964, 976, 988, 1000, 1012, 1024, 1036, 1048, 1060, 1072, 1084, 1096, 1108, 1120, 1133, 1145, 1157, 1169, 1181, 1193, 1205, 1217, 1229, 1241, -2], [-2, -2, -2, -2, 563, 534, 504, 474, 444, 414, 385, 355, 325, 295, 265, 236, 206, 176, 146, 116, 87, 57, 27, -2, -2, -2, -2, -2, -2, -2, -2, -2, -2, -2, -2, -2, -2, -2, -2, -2, -2, -2, -2, -2, -2, -2, -2, -2], [-2, -2, -2, -2, 817, 851, 886, 920, 954, 989, 1023, 1057, 1091, 1126, 1160, 1194, 1229, 1263, -2, -2, -2, -2, -2, -2, -2, -2, -2, -2, -2, -2, -2, -2, -2, -2, -2, -2, -2, -2, -2, -2, -2, -2, -2, -2, -2, -2, -2, -2]], 'h_samples': [240, 250, 260, 270, 280, 290, 300, 310, 320, 330, 340, 350, 360, 370, 380, 390, 400, 410, 420, 430, 440, 450, 460, 470, 480, 490, 500, 510, 520, 530, 540, 550, 560, 570, 580, 590, 600, 610, 620, 630, 640, 650, 660, 670, 680, 690, 700, 710], 'raw_file': 'clips/0313-2/30/20.jpg'}]\n"
          ]
        }
      ],
      "source": [
        "# filtering the training json files (OPTIONAL) ------------ONLY RUN IF YOU DON'T HAVE PROPER json files\n",
        "\n",
        "\n",
        "\n",
        "# Import the json module\n",
        "import json\n",
        "\n",
        "clip_names_split = []\n",
        "# Open the test.txt file and read the clip names\n",
        "with open(\"$TUSIMPLEROOT/train_gt.txt\") as f:\n",
        "  clip_names = f.read().splitlines()\n",
        "  for clp_name in clip_names:\n",
        "    clip_names_split.extend(clp_name.split())\n",
        "print(clip_names_split)\n",
        "# Open the test_label.json file and load the data\n",
        "with open(\"/content/drive/MyDrive/TuSimple_sm/train_set/label_data_0313.json\") as f:\n",
        "  data = [json.loads(line) for line in f]\n",
        "print(len(data))\n",
        "# Create an empty list to store the filtered data\n",
        "filtered_data = []\n",
        "\n",
        "if \"clips/0531/1492626371522989086/20.jpg\" in clip_names_split:\n",
        "  print(\"it is there\")\n",
        "# Loop through the data and check if the clip name matches any of the clip names in the test.txt file\n",
        "for item in data:\n",
        "  if item[\"raw_file\"] in clip_names_split:\n",
        "    # If yes, append the item to the filtered data list\n",
        "    filtered_data.append(item)\n",
        "print(filtered_data)\n",
        "# Open a new file to write the filtered data\n",
        "with open(\"/content/drive/MyDrive/TuSimple_sm/train_set/label_data_0313.json\", \"w\") as f:\n",
        "  # Dump the filtered data list as json\n",
        "  for obj in filtered_data:\n",
        "    f.write(json.dumps(obj) + \"\\n\")\n",
        "\n",
        "#rename the filtered_test_label.json as test_label.json and rename the original test_label.json to other name in order to run below cell"
      ]
    }
  ],
  "metadata": {
    "colab": {
      "provenance": [],
      "collapsed_sections": [
        "lUzi898RxKi8"
      ],
      "gpuType": "T4",
      "include_colab_link": true
    },
    "kernelspec": {
      "display_name": "Python 3",
      "name": "python3"
    },
    "language_info": {
      "name": "python"
    },
    "accelerator": "GPU"
  },
  "nbformat": 4,
  "nbformat_minor": 0
}