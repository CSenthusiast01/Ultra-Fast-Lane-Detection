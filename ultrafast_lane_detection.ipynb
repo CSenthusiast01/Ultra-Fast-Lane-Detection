{
  "cells": [
    {
      "cell_type": "markdown",
      "metadata": {
        "id": "view-in-github",
        "colab_type": "text"
      },
      "source": [
        "<a href=\"https://colab.research.google.com/github/CSenthusiast01/Ultra-Fast-Lane-Detection/blob/master/ultrafast_lane_detection.ipynb\" target=\"_parent\"><img src=\"https://colab.research.google.com/assets/colab-badge.svg\" alt=\"Open In Colab\"/></a>"
      ]
    },
    {
      "cell_type": "markdown",
      "metadata": {
        "id": "ZiJFASiFz9g7"
      },
      "source": [
        "**Ultra Fast Lane Detection**\n",
        "\n",
        "Note: add the path in /configs/tusimple.py for the data_path and the log_path\n",
        "\n",
        "\n",
        "create log file and the tusimpleroot file as mentioned in the repository."
      ]
    },
    {
      "cell_type": "code",
      "execution_count": 1,
      "metadata": {
        "colab": {
          "base_uri": "https://localhost:8080/"
        },
        "id": "5g1uEj3_ppyA",
        "outputId": "bf0bf25e-35ea-4ab0-ee95-3711360182e8"
      },
      "outputs": [
        {
          "output_type": "stream",
          "name": "stdout",
          "text": [
            "Cloning into 'Ultra-Fast-Lane-Detection'...\n",
            "remote: Enumerating objects: 287, done.\u001b[K\n",
            "remote: Counting objects: 100% (131/131), done.\u001b[K\n",
            "remote: Compressing objects: 100% (59/59), done.\u001b[K\n",
            "remote: Total 287 (delta 88), reused 75 (delta 72), pack-reused 156\u001b[K\n",
            "Receiving objects: 100% (287/287), 189.98 KiB | 3.72 MiB/s, done.\n",
            "Resolving deltas: 100% (133/133), done.\n"
          ]
        }
      ],
      "source": [
        "# # Original Repository\n",
        "# !git clone https://github.com/cfzd/Ultra-Fast-Lane-Detection.git\n",
        "\n",
        "# Updated code repository\n",
        "!git clone https://github.com/CSenthusiast01/Ultra-Fast-Lane-Detection.git"
      ]
    },
    {
      "cell_type": "code",
      "execution_count": 2,
      "metadata": {
        "id": "AxxtAPuGcg2O"
      },
      "outputs": [],
      "source": [
        "%mkdir logs"
      ]
    },
    {
      "cell_type": "code",
      "execution_count": 3,
      "metadata": {
        "colab": {
          "base_uri": "https://localhost:8080/"
        },
        "id": "9XzwvJQxp-Fj",
        "outputId": "4e730de9-b97e-4694-d434-483b4b761679"
      },
      "outputs": [
        {
          "output_type": "stream",
          "name": "stdout",
          "text": [
            "Mounted at /content/drive\n"
          ]
        }
      ],
      "source": [
        "from google.colab import drive\n",
        "drive.mount('/content/drive')"
      ]
    },
    {
      "cell_type": "code",
      "execution_count": 4,
      "metadata": {
        "colab": {
          "base_uri": "https://localhost:8080/"
        },
        "id": "MtLiETlsuusa",
        "outputId": "4a8e8c94-e4a1-4895-bfa6-b97390c9ce6c"
      },
      "outputs": [
        {
          "output_type": "stream",
          "name": "stdout",
          "text": [
            "Drive already mounted at /content/drive; to attempt to forcibly remount, call drive.mount(\"/content/drive\", force_remount=True).\n"
          ]
        }
      ],
      "source": [
        "ROOT = \"/content/drive\"\n",
        "drive.mount(ROOT)"
      ]
    },
    {
      "cell_type": "code",
      "execution_count": 5,
      "metadata": {
        "colab": {
          "base_uri": "https://localhost:8080/"
        },
        "id": "J1YK461ypueF",
        "outputId": "58839b6a-3e91-4f7d-c192-4700b86b7e10"
      },
      "outputs": [
        {
          "output_type": "stream",
          "name": "stdout",
          "text": [
            "/content/Ultra-Fast-Lane-Detection\n"
          ]
        }
      ],
      "source": [
        "%cd /content/Ultra-Fast-Lane-Detection\n",
        "# %mkdir '$TUSIMPLEROOT'"
      ]
    },
    {
      "cell_type": "code",
      "execution_count": 6,
      "metadata": {
        "id": "cT6PHvZk16_0"
      },
      "outputs": [],
      "source": [
        "#for having dataset in the repository\n",
        "# make sure to create the $TUSIMPLE directory in the project folder\n",
        "\n",
        "# check the below command to copy the data from drive to the repo.\n",
        "# %cp -r /content/drive/MyDrive/TuSimple_xsml/train_set/ /content/Ultra-Fast-Lane-Detection/'$TUSIMPLEROOT'/\n",
        "\n",
        "%cp -r /content/drive/MyDrive/TuSimple_xsml/train_set/ /content/Ultra-Fast-Lane-Detection/\n",
        "!mv /content/Ultra-Fast-Lane-Detection/train_set/ /content/Ultra-Fast-Lane-Detection/'$TUSIMPLEROOT'/\n",
        "\n"
      ]
    },
    {
      "cell_type": "code",
      "execution_count": 33,
      "metadata": {
        "id": "ND-CQgZObt7I"
      },
      "outputs": [],
      "source": [
        "# copying test_label.json in teh $TUSIMPLEROOT\n",
        "%cp /content/drive/MyDrive/TuSimple_xsml/test_label.json /content/Ultra-Fast-Lane-Detection/'$TUSIMPLEROOT'/"
      ]
    },
    {
      "cell_type": "code",
      "execution_count": 8,
      "metadata": {
        "id": "wnlPzqAFxZKO"
      },
      "outputs": [],
      "source": [
        "%cp /content/drive/MyDrive/TuSimple_xsml/test_set/test_tasks_0627.json /content/Ultra-Fast-Lane-Detection/'$TUSIMPLEROOT'/"
      ]
    },
    {
      "cell_type": "code",
      "execution_count": 9,
      "metadata": {
        "colab": {
          "base_uri": "https://localhost:8080/"
        },
        "id": "ciFW4_Ek4_sZ",
        "outputId": "ce518831-4ae7-4dfc-b80b-852e5ef83c3a"
      },
      "outputs": [
        {
          "output_type": "stream",
          "name": "stdout",
          "text": [
            "100% 3626/3626 [00:02<00:00, 1223.19it/s]\n"
          ]
        }
      ],
      "source": [
        "!python scripts/convert_tusimple.py --root '$TUSIMPLEROOT'\n",
        "# this will generate segmentations and two list files: train_gt.txt and test.txt"
      ]
    },
    {
      "cell_type": "markdown",
      "metadata": {
        "id": "ip-UREZDNPYq"
      },
      "source": [
        "## The below code cell is used to filter the train_gt.txt file\n"
      ]
    },
    {
      "cell_type": "code",
      "execution_count": 10,
      "metadata": {
        "colab": {
          "base_uri": "https://localhost:8080/"
        },
        "id": "KxBq6ZkhBWiK",
        "outputId": "833bdcd7-293c-45ea-9411-1a6c52c44343"
      },
      "outputs": [
        {
          "output_type": "stream",
          "name": "stdout",
          "text": [
            "40\n"
          ]
        }
      ],
      "source": [
        "#EXPERIMENTAL SCRIPT TO FILTER DATA:\n",
        "\n",
        "# %cd /content/Ultra-Fast-Lane-Detection/\n",
        "# import os\n",
        "# import numpy as np\n",
        "\n",
        "# # The directory where you want to get the folder names\n",
        "# directory1 = \"/'$TUSIMPLEROOT'/clips/0313-1\"\n",
        "# directory2 = \"/'$TUSIMPLEROOT'/clips/0313-2\"\n",
        "# directory3 = \"/'$TUSIMPLEROOT'/clips/0531\"\n",
        "# directory4 = \"/'$TUSIMPLEROOT'/clips/0601\"\n",
        "\n",
        "# # List all the files and folders in the directory\n",
        "# entries1 = os.listdir(directory1)\n",
        "# entries2 = os.listdir(directory2)\n",
        "# entries3 = os.listdir(directory3)\n",
        "# entries4 = os.listdir(directory4)\n",
        "\n",
        "# # Filter out the ones that are not folders\n",
        "# searcharr_0313_1 = [entry for entry in entries1 if os.path.isdir(os.path.join(directory1, entry))]\n",
        "# searcharr_0313_1 = [entry for entry in entries2 if os.path.isdir(os.path.join(directory2, entry))]\n",
        "# searcharr_0531 = [entry for entry in entries3 if os.path.isdir(os.path.join(directory3, entry))]\n",
        "# searcharr_0601 = [entry for entry in entries1 if os.path.isdir(os.path.join(directory4, entry))]\n",
        "\n",
        "# print(searcharr_0313_1)\n",
        "\n",
        "# # Convert the list of folder names to a numpy array of strings\n",
        "# array = np.array(folders)\n",
        "\n",
        "# # Print the array\n",
        "# print(array)\n",
        "\n",
        "searcharr_0313_1=['0313-1/120', '0313-1/180','0313-1/240','0313-1/300','0313-1/360','0313-1/420','0313-1/480','0313-1/540','0313-1/60','0313-1/600']\n",
        "searcharr_0313_2=['0313-2/20', '0313-2/25', '0313-2/30', '0313-2/35', '0313-2/40','0313-2/45', '0313-2/50', '0313-2/55', '0313-2/60', '0313-2/65']\n",
        "\n",
        "searcharr_0531=['0531/1492626270684175793','0531/1492626274615008344','0531/1492626287507231547','0531/1492626327183261694','0531/1492626366226158339','0531/1492626371522989086','0531/1492626395742137012','0531/1492626487919028170','0531/1492626551883775328','0531/1492626688464435547']\n",
        "searcharr_0601=['0601/1494452385593783358','0601/1494452391590105691','0601/1494452397586667021','0601/1494452403585050201','0601/1494452409581290246','0601/1494452415578787519','0601/1494452421576126921','0601/1494452427576086954','0601/1494452433570893263','0601/1494452439568910656']\n",
        "\n",
        "clip_list = [searcharr_0313_1, searcharr_0313_2, searcharr_0531, searcharr_0601]\n",
        "#update this loop to filter the contents from the train_gt.txt\n",
        "\n",
        "mini_clip_list = [searcharr_0313_1] #micro dataset\n",
        "\n",
        "filtered_data = []\n",
        "\n",
        "#change to clip_list if want to use the original dataset or keep it as mini_clip_list if want micro dataset\n",
        "for search_arr in clip_list:\n",
        "  with open(\"$TUSIMPLEROOT/train_gt.txt\", \"r\") as f:\n",
        "    for line in f:\n",
        "      # print(\"clip_name\", clip_name)\n",
        "      for i in range(0, len(search_arr)):\n",
        "        if search_arr[i]+'/20.png' in line:\n",
        "          filtered_data = filtered_data + [line]\n",
        "with open(\"$TUSIMPLEROOT/train_gt.txt\", \"w\") as f:\n",
        "    f.seek(0) # to move to the start of the file\n",
        "    for clip_data in filtered_data:\n",
        "      f.write(clip_data)\n",
        "    f.truncate()\n",
        "print(len(filtered_data))\n",
        "\n",
        "\n"
      ]
    },
    {
      "cell_type": "markdown",
      "metadata": {
        "id": "NQ7o710vEnAR"
      },
      "source": []
    },
    {
      "cell_type": "code",
      "execution_count": 11,
      "metadata": {
        "colab": {
          "base_uri": "https://localhost:8080/"
        },
        "id": "qiVD2lW4x8TM",
        "outputId": "b01605fe-4cda-449e-fd4c-79a366fe61ce"
      },
      "outputs": [
        {
          "output_type": "stream",
          "name": "stdout",
          "text": [
            "Requirement already satisfied: opencv-python in /usr/local/lib/python3.10/dist-packages (from -r requirements.txt (line 1)) (4.8.0.76)\n",
            "Requirement already satisfied: tqdm in /usr/local/lib/python3.10/dist-packages (from -r requirements.txt (line 2)) (4.66.1)\n",
            "Requirement already satisfied: tensorboard in /usr/local/lib/python3.10/dist-packages (from -r requirements.txt (line 3)) (2.15.1)\n",
            "Collecting addict (from -r requirements.txt (line 4))\n",
            "  Downloading addict-2.4.0-py3-none-any.whl (3.8 kB)\n",
            "Requirement already satisfied: scikit-learn in /usr/local/lib/python3.10/dist-packages (from -r requirements.txt (line 5)) (1.2.2)\n",
            "Collecting pathspec (from -r requirements.txt (line 6))\n",
            "  Downloading pathspec-0.12.1-py3-none-any.whl (31 kB)\n",
            "Requirement already satisfied: numpy>=1.21.2 in /usr/local/lib/python3.10/dist-packages (from opencv-python->-r requirements.txt (line 1)) (1.23.5)\n",
            "Requirement already satisfied: absl-py>=0.4 in /usr/local/lib/python3.10/dist-packages (from tensorboard->-r requirements.txt (line 3)) (1.4.0)\n",
            "Requirement already satisfied: grpcio>=1.48.2 in /usr/local/lib/python3.10/dist-packages (from tensorboard->-r requirements.txt (line 3)) (1.60.0)\n",
            "Requirement already satisfied: google-auth<3,>=1.6.3 in /usr/local/lib/python3.10/dist-packages (from tensorboard->-r requirements.txt (line 3)) (2.17.3)\n",
            "Requirement already satisfied: google-auth-oauthlib<2,>=0.5 in /usr/local/lib/python3.10/dist-packages (from tensorboard->-r requirements.txt (line 3)) (1.2.0)\n",
            "Requirement already satisfied: markdown>=2.6.8 in /usr/local/lib/python3.10/dist-packages (from tensorboard->-r requirements.txt (line 3)) (3.5.2)\n",
            "Requirement already satisfied: protobuf<4.24,>=3.19.6 in /usr/local/lib/python3.10/dist-packages (from tensorboard->-r requirements.txt (line 3)) (3.20.3)\n",
            "Requirement already satisfied: requests<3,>=2.21.0 in /usr/local/lib/python3.10/dist-packages (from tensorboard->-r requirements.txt (line 3)) (2.31.0)\n",
            "Requirement already satisfied: setuptools>=41.0.0 in /usr/local/lib/python3.10/dist-packages (from tensorboard->-r requirements.txt (line 3)) (67.7.2)\n",
            "Requirement already satisfied: six>1.9 in /usr/local/lib/python3.10/dist-packages (from tensorboard->-r requirements.txt (line 3)) (1.16.0)\n",
            "Requirement already satisfied: tensorboard-data-server<0.8.0,>=0.7.0 in /usr/local/lib/python3.10/dist-packages (from tensorboard->-r requirements.txt (line 3)) (0.7.2)\n",
            "Requirement already satisfied: werkzeug>=1.0.1 in /usr/local/lib/python3.10/dist-packages (from tensorboard->-r requirements.txt (line 3)) (3.0.1)\n",
            "Requirement already satisfied: scipy>=1.3.2 in /usr/local/lib/python3.10/dist-packages (from scikit-learn->-r requirements.txt (line 5)) (1.11.4)\n",
            "Requirement already satisfied: joblib>=1.1.1 in /usr/local/lib/python3.10/dist-packages (from scikit-learn->-r requirements.txt (line 5)) (1.3.2)\n",
            "Requirement already satisfied: threadpoolctl>=2.0.0 in /usr/local/lib/python3.10/dist-packages (from scikit-learn->-r requirements.txt (line 5)) (3.2.0)\n",
            "Requirement already satisfied: cachetools<6.0,>=2.0.0 in /usr/local/lib/python3.10/dist-packages (from google-auth<3,>=1.6.3->tensorboard->-r requirements.txt (line 3)) (5.3.2)\n",
            "Requirement already satisfied: pyasn1-modules>=0.2.1 in /usr/local/lib/python3.10/dist-packages (from google-auth<3,>=1.6.3->tensorboard->-r requirements.txt (line 3)) (0.3.0)\n",
            "Requirement already satisfied: rsa<5,>=3.1.4 in /usr/local/lib/python3.10/dist-packages (from google-auth<3,>=1.6.3->tensorboard->-r requirements.txt (line 3)) (4.9)\n",
            "Requirement already satisfied: requests-oauthlib>=0.7.0 in /usr/local/lib/python3.10/dist-packages (from google-auth-oauthlib<2,>=0.5->tensorboard->-r requirements.txt (line 3)) (1.3.1)\n",
            "Requirement already satisfied: charset-normalizer<4,>=2 in /usr/local/lib/python3.10/dist-packages (from requests<3,>=2.21.0->tensorboard->-r requirements.txt (line 3)) (3.3.2)\n",
            "Requirement already satisfied: idna<4,>=2.5 in /usr/local/lib/python3.10/dist-packages (from requests<3,>=2.21.0->tensorboard->-r requirements.txt (line 3)) (3.6)\n",
            "Requirement already satisfied: urllib3<3,>=1.21.1 in /usr/local/lib/python3.10/dist-packages (from requests<3,>=2.21.0->tensorboard->-r requirements.txt (line 3)) (2.0.7)\n",
            "Requirement already satisfied: certifi>=2017.4.17 in /usr/local/lib/python3.10/dist-packages (from requests<3,>=2.21.0->tensorboard->-r requirements.txt (line 3)) (2023.11.17)\n",
            "Requirement already satisfied: MarkupSafe>=2.1.1 in /usr/local/lib/python3.10/dist-packages (from werkzeug>=1.0.1->tensorboard->-r requirements.txt (line 3)) (2.1.3)\n",
            "Requirement already satisfied: pyasn1<0.6.0,>=0.4.6 in /usr/local/lib/python3.10/dist-packages (from pyasn1-modules>=0.2.1->google-auth<3,>=1.6.3->tensorboard->-r requirements.txt (line 3)) (0.5.1)\n",
            "Requirement already satisfied: oauthlib>=3.0.0 in /usr/local/lib/python3.10/dist-packages (from requests-oauthlib>=0.7.0->google-auth-oauthlib<2,>=0.5->tensorboard->-r requirements.txt (line 3)) (3.2.2)\n",
            "Installing collected packages: addict, pathspec\n",
            "Successfully installed addict-2.4.0 pathspec-0.12.1\n"
          ]
        }
      ],
      "source": [
        "!pip install -r requirements.txt"
      ]
    },
    {
      "cell_type": "markdown",
      "metadata": {
        "id": "-s5Cq1WsTFDV"
      },
      "source": [
        "## **Before running the below train.py.  make sure to update the data_root and log_path in tusimple.py from the configs**"
      ]
    },
    {
      "cell_type": "markdown",
      "metadata": {
        "id": "ETErtxP-wlXq"
      },
      "source": []
    },
    {
      "cell_type": "code",
      "execution_count": 12,
      "metadata": {
        "id": "NyCRNLo3ktJG",
        "colab": {
          "base_uri": "https://localhost:8080/"
        },
        "outputId": "a89adac5-a203-4bc9-94d4-886b2d800f27"
      },
      "outputs": [
        {
          "output_type": "stream",
          "name": "stdout",
          "text": [
            "2024-01-23 14:27:15.388123: E external/local_xla/xla/stream_executor/cuda/cuda_dnn.cc:9261] Unable to register cuDNN factory: Attempting to register factory for plugin cuDNN when one has already been registered\n",
            "2024-01-23 14:27:15.388177: E external/local_xla/xla/stream_executor/cuda/cuda_fft.cc:607] Unable to register cuFFT factory: Attempting to register factory for plugin cuFFT when one has already been registered\n",
            "2024-01-23 14:27:15.389607: E external/local_xla/xla/stream_executor/cuda/cuda_blas.cc:1515] Unable to register cuBLAS factory: Attempting to register factory for plugin cuBLAS when one has already been registered\n",
            "2024-01-23 14:27:16.444012: W tensorflow/compiler/tf2tensorrt/utils/py_utils.cc:38] TF-TRT Warning: Could not find TensorRT\n",
            "[2024/01/23 14:27:17] start training...\n",
            "Config (path: configs/tusimple.py): {'dataset': 'Tusimple', 'data_root': '$TUSIMPLEROOT', 'epoch': 100, 'batch_size': 32, 'optimizer': 'Adam', 'learning_rate': 0.0004, 'weight_decay': 0.0001, 'momentum': 0.9, 'scheduler': 'cos', 'gamma': 0.1, 'warmup': 'linear', 'warmup_iters': 100, 'backbone': '18', 'griding_num': 100, 'use_aux': True, 'sim_loss_w': 1.0, 'shp_loss_w': 0.0, 'note': '', 'log_path': '/content/logs/', 'finetune': None, 'resume': None, 'test_model': None, 'test_work_dir': None, 'num_lanes': 4}\n",
            "/usr/local/lib/python3.10/dist-packages/torch/utils/data/dataloader.py:557: UserWarning: This DataLoader will create 4 worker processes in total. Our suggested max number of worker in current system is 2, which is smaller than what this DataLoader is going to create. Please be aware that excessive worker creation might get DataLoader running slow or even freeze, lower the worker number to avoid potential slowness/freeze if necessary.\n",
            "  warnings.warn(_create_warning_msg(\n",
            "/usr/local/lib/python3.10/dist-packages/torchvision/models/_utils.py:208: UserWarning: The parameter 'pretrained' is deprecated since 0.13 and may be removed in the future, please use 'weights' instead.\n",
            "  warnings.warn(\n",
            "/usr/local/lib/python3.10/dist-packages/torchvision/models/_utils.py:223: UserWarning: Arguments other than a weight enum or `None` for 'weights' are deprecated since 0.13 and may be removed in the future. The current behavior is equivalent to passing `weights=ResNet18_Weights.IMAGENET1K_V1`. You can also use `weights=ResNet18_Weights.DEFAULT` to get the most up-to-date weights.\n",
            "  warnings.warn(msg)\n",
            "Downloading: \"https://download.pytorch.org/models/resnet18-f37072fd.pth\" to /root/.cache/torch/hub/checkpoints/resnet18-f37072fd.pth\n",
            "100% 44.7M/44.7M [00:00<00:00, 176MB/s]\n",
            "2\n",
            "Deleted /content/logs/20240123_142717_lr_4e-04_b_32/events.out.tfevents.1706020039.220fe1cb5faa.2875.0\n",
            "Deleted /content/logs/20240123_142717_lr_4e-04_b_32/cfg.txt\n",
            "100% 2/2 [00:31<00:00, 15.64s/it, data_time=0.021, iou=0.045, loss=6.535, net_time=6.325, top1=0.252, top2=0.275, top3=0.290]\n",
            "Deleted /content/logs/20240123_142717_lr_4e-04_b_32/ep000.pth\n",
            "100% 2/2 [00:04<00:00,  2.01s/it, data_time=0.015, iou=0.051, loss=6.530, net_time=0.097, top1=0.253, top2=0.267, top3=0.286]\n",
            "Deleted /content/logs/20240123_142717_lr_4e-04_b_32/ep001.pth\n",
            "100% 2/2 [00:04<00:00,  2.01s/it, data_time=0.016, iou=0.051, loss=6.463, net_time=0.098, top1=0.287, top2=0.310, top3=0.328]\n",
            "Deleted /content/logs/20240123_142717_lr_4e-04_b_32/ep002.pth\n",
            "100% 2/2 [00:04<00:00,  2.41s/it, data_time=0.015, iou=0.051, loss=6.427, net_time=0.106, top1=0.302, top2=0.321, top3=0.333]\n",
            "Deleted /content/logs/20240123_142717_lr_4e-04_b_32/ep003.pth\n",
            "100% 2/2 [00:03<00:00,  1.98s/it, data_time=0.017, iou=0.050, loss=6.273, net_time=0.099, top1=0.395, top2=0.417, top3=0.435]\n",
            "Deleted /content/logs/20240123_142717_lr_4e-04_b_32/ep004.pth\n",
            "100% 2/2 [00:04<00:00,  2.00s/it, data_time=0.017, iou=0.060, loss=6.064, net_time=0.102, top1=0.424, top2=0.444, top3=0.465]\n",
            "Deleted /content/logs/20240123_142717_lr_4e-04_b_32/ep005.pth\n",
            "100% 2/2 [00:04<00:00,  2.40s/it, data_time=0.029, iou=0.056, loss=5.848, net_time=0.116, top1=0.428, top2=0.444, top3=0.460]\n",
            "Deleted /content/logs/20240123_142717_lr_4e-04_b_32/ep006.pth\n",
            "100% 2/2 [00:03<00:00,  1.98s/it, data_time=0.017, iou=0.062, loss=5.429, net_time=0.098, top1=0.430, top2=0.444, top3=0.466]\n",
            "Deleted /content/logs/20240123_142717_lr_4e-04_b_32/ep007.pth\n",
            "100% 2/2 [00:04<00:00,  2.32s/it, data_time=0.032, iou=0.068, loss=4.862, net_time=0.110, top1=0.442, top2=0.457, top3=0.471]\n",
            "Deleted /content/logs/20240123_142717_lr_4e-04_b_32/ep008.pth\n",
            "100% 2/2 [00:03<00:00,  1.94s/it, data_time=0.017, iou=0.086, loss=4.055, net_time=0.099, top1=0.503, top2=0.512, top3=0.526]\n",
            "Deleted /content/logs/20240123_142717_lr_4e-04_b_32/ep009.pth\n",
            "100% 2/2 [00:04<00:00,  2.12s/it, data_time=0.031, iou=0.112, loss=3.853, net_time=0.127, top1=0.508, top2=0.518, top3=0.527]\n",
            "Deleted /content/logs/20240123_142717_lr_4e-04_b_32/ep010.pth\n",
            "100% 2/2 [00:03<00:00,  1.95s/it, data_time=0.017, iou=0.143, loss=3.582, net_time=0.099, top1=0.544, top2=0.555, top3=0.569]\n",
            "Deleted /content/logs/20240123_142717_lr_4e-04_b_32/ep011.pth\n",
            "100% 2/2 [00:04<00:00,  2.33s/it, data_time=0.031, iou=0.170, loss=3.456, net_time=0.112, top1=0.508, top2=0.516, top3=0.528]\n",
            "Deleted /content/logs/20240123_142717_lr_4e-04_b_32/ep012.pth\n",
            "100% 2/2 [00:03<00:00,  1.93s/it, data_time=0.017, iou=0.180, loss=3.606, net_time=0.099, top1=0.460, top2=0.464, top3=0.468]\n",
            "Deleted /content/logs/20240123_142717_lr_4e-04_b_32/ep013.pth\n",
            "100% 2/2 [00:04<00:00,  2.35s/it, data_time=0.032, iou=0.191, loss=3.505, net_time=0.113, top1=0.487, top2=0.498, top3=0.508]\n",
            "Deleted /content/logs/20240123_142717_lr_4e-04_b_32/ep014.pth\n",
            "100% 2/2 [00:03<00:00,  1.97s/it, data_time=0.017, iou=0.244, loss=3.297, net_time=0.099, top1=0.475, top2=0.484, top3=0.491]\n",
            "Deleted /content/logs/20240123_142717_lr_4e-04_b_32/ep015.pth\n",
            "100% 2/2 [00:04<00:00,  2.32s/it, data_time=0.031, iou=0.229, loss=3.266, net_time=0.110, top1=0.466, top2=0.474, top3=0.486]\n",
            "Deleted /content/logs/20240123_142717_lr_4e-04_b_32/ep016.pth\n",
            "100% 2/2 [00:04<00:00,  2.01s/it, data_time=0.016, iou=0.218, loss=2.983, net_time=0.100, top1=0.498, top2=0.513, top3=0.529]\n",
            "Deleted /content/logs/20240123_142717_lr_4e-04_b_32/ep017.pth\n",
            "100% 2/2 [00:04<00:00,  2.21s/it, data_time=0.029, iou=0.246, loss=2.912, net_time=0.116, top1=0.523, top2=0.540, top3=0.556]\n",
            "Deleted /content/logs/20240123_142717_lr_4e-04_b_32/ep018.pth\n",
            "100% 2/2 [00:03<00:00,  2.00s/it, data_time=0.017, iou=0.216, loss=2.986, net_time=0.101, top1=0.473, top2=0.479, top3=0.491]\n",
            "Deleted /content/logs/20240123_142717_lr_4e-04_b_32/ep019.pth\n",
            "100% 2/2 [00:04<00:00,  2.11s/it, data_time=0.029, iou=0.116, loss=3.624, net_time=0.113, top1=0.465, top2=0.483, top3=0.496]\n",
            "Deleted /content/logs/20240123_142717_lr_4e-04_b_32/ep020.pth\n",
            "100% 2/2 [00:04<00:00,  2.04s/it, data_time=0.016, iou=0.235, loss=2.624, net_time=0.101, top1=0.499, top2=0.522, top3=0.535]\n",
            "Deleted /content/logs/20240123_142717_lr_4e-04_b_32/ep021.pth\n",
            "100% 2/2 [00:04<00:00,  2.00s/it, data_time=0.030, iou=0.223, loss=2.848, net_time=0.114, top1=0.502, top2=0.515, top3=0.526]\n",
            "Deleted /content/logs/20240123_142717_lr_4e-04_b_32/ep022.pth\n",
            "100% 2/2 [00:03<00:00,  1.96s/it, data_time=0.016, iou=0.228, loss=2.583, net_time=0.102, top1=0.530, top2=0.544, top3=0.564]\n",
            "Deleted /content/logs/20240123_142717_lr_4e-04_b_32/ep023.pth\n",
            "100% 2/2 [00:03<00:00,  1.99s/it, data_time=0.030, iou=0.224, loss=2.810, net_time=0.139, top1=0.483, top2=0.495, top3=0.509]\n",
            "Deleted /content/logs/20240123_142717_lr_4e-04_b_32/ep024.pth\n",
            "100% 2/2 [00:04<00:00,  2.21s/it, data_time=0.018, iou=0.216, loss=2.645, net_time=0.100, top1=0.507, top2=0.520, top3=0.535]\n",
            "Deleted /content/logs/20240123_142717_lr_4e-04_b_32/ep025.pth\n",
            "100% 2/2 [00:04<00:00,  2.05s/it, data_time=0.024, iou=0.197, loss=2.856, net_time=0.125, top1=0.472, top2=0.489, top3=0.507]\n",
            "Deleted /content/logs/20240123_142717_lr_4e-04_b_32/ep026.pth\n",
            "100% 2/2 [00:04<00:00,  2.41s/it, data_time=0.017, iou=0.209, loss=2.620, net_time=0.101, top1=0.487, top2=0.506, top3=0.529]\n",
            "Deleted /content/logs/20240123_142717_lr_4e-04_b_32/ep027.pth\n",
            "100% 2/2 [00:04<00:00,  2.15s/it, data_time=0.018, iou=0.210, loss=2.626, net_time=0.107, top1=0.504, top2=0.525, top3=0.544]\n",
            "Deleted /content/logs/20240123_142717_lr_4e-04_b_32/ep028.pth\n",
            "100% 2/2 [00:04<00:00,  2.43s/it, data_time=0.020, iou=0.210, loss=2.542, net_time=0.107, top1=0.489, top2=0.509, top3=0.528]\n",
            "Deleted /content/logs/20240123_142717_lr_4e-04_b_32/ep029.pth\n",
            "100% 2/2 [00:04<00:00,  2.06s/it, data_time=0.017, iou=0.197, loss=2.307, net_time=0.103, top1=0.531, top2=0.564, top3=0.591]\n",
            "Deleted /content/logs/20240123_142717_lr_4e-04_b_32/ep030.pth\n",
            "100% 2/2 [00:05<00:00,  2.65s/it, data_time=0.022, iou=0.222, loss=2.448, net_time=0.110, top1=0.527, top2=0.559, top3=0.579]\n",
            "Deleted /content/logs/20240123_142717_lr_4e-04_b_32/ep031.pth\n",
            "100% 2/2 [00:04<00:00,  2.31s/it, data_time=0.034, iou=0.210, loss=2.416, net_time=0.125, top1=0.480, top2=0.525, top3=0.559]\n",
            "Deleted /content/logs/20240123_142717_lr_4e-04_b_32/ep032.pth\n",
            "100% 2/2 [00:05<00:00,  2.57s/it, data_time=0.021, iou=0.208, loss=2.292, net_time=0.111, top1=0.521, top2=0.559, top3=0.592]\n",
            "Deleted /content/logs/20240123_142717_lr_4e-04_b_32/ep033.pth\n",
            "100% 2/2 [00:04<00:00,  2.33s/it, data_time=0.038, iou=0.230, loss=2.428, net_time=0.120, top1=0.491, top2=0.526, top3=0.554]\n",
            "Deleted /content/logs/20240123_142717_lr_4e-04_b_32/ep034.pth\n",
            "100% 2/2 [00:05<00:00,  2.67s/it, data_time=0.020, iou=0.233, loss=2.224, net_time=0.112, top1=0.529, top2=0.552, top3=0.581]\n",
            "Deleted /content/logs/20240123_142717_lr_4e-04_b_32/ep035.pth\n",
            "100% 2/2 [00:04<00:00,  2.35s/it, data_time=0.036, iou=0.268, loss=2.210, net_time=0.126, top1=0.496, top2=0.532, top3=0.571]\n",
            "Deleted /content/logs/20240123_142717_lr_4e-04_b_32/ep036.pth\n",
            "100% 2/2 [00:05<00:00,  2.69s/it, data_time=0.020, iou=0.251, loss=2.177, net_time=0.108, top1=0.504, top2=0.551, top3=0.585]\n",
            "Deleted /content/logs/20240123_142717_lr_4e-04_b_32/ep037.pth\n",
            "100% 2/2 [00:06<00:00,  3.12s/it, data_time=0.020, iou=0.265, loss=2.175, net_time=0.108, top1=0.505, top2=0.556, top3=0.593]\n",
            "Deleted /content/logs/20240123_142717_lr_4e-04_b_32/ep038.pth\n",
            "100% 2/2 [00:04<00:00,  2.29s/it, data_time=0.020, iou=0.316, loss=2.069, net_time=0.108, top1=0.532, top2=0.587, top3=0.640]\n",
            "Deleted /content/logs/20240123_142717_lr_4e-04_b_32/ep039.pth\n",
            "100% 2/2 [00:06<00:00,  3.12s/it, data_time=0.020, iou=0.245, loss=2.563, net_time=0.109, top1=0.459, top2=0.508, top3=0.541]\n",
            "Deleted /content/logs/20240123_142717_lr_4e-04_b_32/ep040.pth\n",
            "100% 2/2 [00:04<00:00,  2.03s/it, data_time=0.018, iou=0.245, loss=2.055, net_time=0.102, top1=0.527, top2=0.586, top3=0.626]\n",
            "Deleted /content/logs/20240123_142717_lr_4e-04_b_32/ep041.pth\n",
            "100% 2/2 [00:05<00:00,  2.56s/it, data_time=0.020, iou=0.272, loss=2.180, net_time=0.107, top1=0.501, top2=0.540, top3=0.581]\n",
            "Deleted /content/logs/20240123_142717_lr_4e-04_b_32/ep042.pth\n",
            "100% 2/2 [00:04<00:00,  2.02s/it, data_time=0.017, iou=0.372, loss=2.311, net_time=0.106, top1=0.454, top2=0.497, top3=0.554]\n",
            "Deleted /content/logs/20240123_142717_lr_4e-04_b_32/ep043.pth\n",
            "100% 2/2 [00:05<00:00,  2.60s/it, data_time=0.018, iou=0.326, loss=2.032, net_time=0.105, top1=0.542, top2=0.589, top3=0.628]\n",
            "Deleted /content/logs/20240123_142717_lr_4e-04_b_32/ep044.pth\n",
            "100% 2/2 [00:04<00:00,  2.12s/it, data_time=0.017, iou=0.355, loss=2.156, net_time=0.104, top1=0.517, top2=0.541, top3=0.581]\n",
            "Deleted /content/logs/20240123_142717_lr_4e-04_b_32/ep045.pth\n",
            "100% 2/2 [00:05<00:00,  2.57s/it, data_time=0.018, iou=0.350, loss=2.139, net_time=0.102, top1=0.493, top2=0.561, top3=0.606]\n",
            "Deleted /content/logs/20240123_142717_lr_4e-04_b_32/ep046.pth\n",
            "100% 2/2 [00:04<00:00,  2.27s/it, data_time=0.037, iou=0.330, loss=2.258, net_time=0.137, top1=0.470, top2=0.512, top3=0.565]\n",
            "Deleted /content/logs/20240123_142717_lr_4e-04_b_32/ep047.pth\n",
            "100% 2/2 [00:04<00:00,  2.29s/it, data_time=0.018, iou=0.414, loss=1.898, net_time=0.106, top1=0.543, top2=0.603, top3=0.650]\n",
            "Deleted /content/logs/20240123_142717_lr_4e-04_b_32/ep048.pth\n",
            "100% 2/2 [00:04<00:00,  2.15s/it, data_time=0.033, iou=0.392, loss=2.024, net_time=0.118, top1=0.524, top2=0.588, top3=0.634]\n",
            "Deleted /content/logs/20240123_142717_lr_4e-04_b_32/ep049.pth\n",
            "100% 2/2 [00:04<00:00,  2.43s/it, data_time=0.017, iou=0.333, loss=2.038, net_time=0.104, top1=0.515, top2=0.580, top3=0.622]\n",
            "Deleted /content/logs/20240123_142717_lr_4e-04_b_32/ep050.pth\n",
            "100% 2/2 [00:04<00:00,  2.22s/it, data_time=0.029, iou=0.451, loss=2.231, net_time=0.120, top1=0.491, top2=0.536, top3=0.585]\n",
            "Deleted /content/logs/20240123_142717_lr_4e-04_b_32/ep051.pth\n",
            "100% 2/2 [00:04<00:00,  2.14s/it, data_time=0.017, iou=0.447, loss=2.024, net_time=0.104, top1=0.517, top2=0.568, top3=0.621]\n",
            "Deleted /content/logs/20240123_142717_lr_4e-04_b_32/ep052.pth\n",
            "100% 2/2 [00:04<00:00,  2.02s/it, data_time=0.029, iou=0.503, loss=1.934, net_time=0.124, top1=0.513, top2=0.586, top3=0.646]\n",
            "Deleted /content/logs/20240123_142717_lr_4e-04_b_32/ep053.pth\n",
            "100% 2/2 [00:04<00:00,  2.37s/it, data_time=0.018, iou=0.482, loss=1.775, net_time=0.102, top1=0.528, top2=0.608, top3=0.684]\n",
            "Deleted /content/logs/20240123_142717_lr_4e-04_b_32/ep054.pth\n",
            "100% 2/2 [00:04<00:00,  2.04s/it, data_time=0.018, iou=0.394, loss=1.899, net_time=0.106, top1=0.509, top2=0.559, top3=0.633]\n",
            "Deleted /content/logs/20240123_142717_lr_4e-04_b_32/ep055.pth\n",
            "100% 2/2 [00:05<00:00,  2.51s/it, data_time=0.017, iou=0.465, loss=2.332, net_time=0.104, top1=0.483, top2=0.537, top3=0.586]\n",
            "Deleted /content/logs/20240123_142717_lr_4e-04_b_32/ep056.pth\n",
            "100% 2/2 [00:04<00:00,  2.06s/it, data_time=0.017, iou=0.352, loss=1.888, net_time=0.104, top1=0.528, top2=0.593, top3=0.657]\n",
            "Deleted /content/logs/20240123_142717_lr_4e-04_b_32/ep057.pth\n",
            "100% 2/2 [00:05<00:00,  2.62s/it, data_time=0.018, iou=0.349, loss=2.004, net_time=0.103, top1=0.510, top2=0.568, top3=0.640]\n",
            "Deleted /content/logs/20240123_142717_lr_4e-04_b_32/ep058.pth\n",
            "100% 2/2 [00:04<00:00,  2.07s/it, data_time=0.031, iou=0.466, loss=1.695, net_time=0.114, top1=0.536, top2=0.636, top3=0.713]\n",
            "Deleted /content/logs/20240123_142717_lr_4e-04_b_32/ep059.pth\n",
            "100% 2/2 [00:04<00:00,  2.29s/it, data_time=0.018, iou=0.449, loss=1.743, net_time=0.104, top1=0.544, top2=0.632, top3=0.703]\n",
            "Deleted /content/logs/20240123_142717_lr_4e-04_b_32/ep060.pth\n",
            "100% 2/2 [00:04<00:00,  2.03s/it, data_time=0.017, iou=0.517, loss=1.863, net_time=0.103, top1=0.551, top2=0.593, top3=0.628]\n",
            "Deleted /content/logs/20240123_142717_lr_4e-04_b_32/ep061.pth\n",
            "100% 2/2 [00:04<00:00,  2.33s/it, data_time=0.019, iou=0.419, loss=1.868, net_time=0.105, top1=0.531, top2=0.590, top3=0.643]\n",
            "Deleted /content/logs/20240123_142717_lr_4e-04_b_32/ep062.pth\n",
            "100% 2/2 [00:05<00:00,  2.53s/it, data_time=0.026, iou=0.422, loss=1.674, net_time=0.116, top1=0.556, top2=0.625, top3=0.692]\n",
            "Deleted /content/logs/20240123_142717_lr_4e-04_b_32/ep063.pth\n",
            "100% 2/2 [00:04<00:00,  2.04s/it, data_time=0.016, iou=0.519, loss=1.785, net_time=0.103, top1=0.521, top2=0.618, top3=0.684]\n",
            "Deleted /content/logs/20240123_142717_lr_4e-04_b_32/ep064.pth\n",
            "100% 2/2 [00:04<00:00,  2.38s/it, data_time=0.031, iou=0.493, loss=1.836, net_time=0.119, top1=0.526, top2=0.589, top3=0.646]\n",
            "Deleted /content/logs/20240123_142717_lr_4e-04_b_32/ep065.pth\n",
            "100% 2/2 [00:04<00:00,  2.11s/it, data_time=0.017, iou=0.515, loss=1.734, net_time=0.103, top1=0.552, top2=0.625, top3=0.682]\n",
            "Deleted /content/logs/20240123_142717_lr_4e-04_b_32/ep066.pth\n",
            "100% 2/2 [00:04<00:00,  2.35s/it, data_time=0.030, iou=0.556, loss=1.618, net_time=0.115, top1=0.533, top2=0.634, top3=0.703]\n",
            "Deleted /content/logs/20240123_142717_lr_4e-04_b_32/ep067.pth\n",
            "100% 2/2 [00:04<00:00,  2.01s/it, data_time=0.016, iou=0.440, loss=1.763, net_time=0.102, top1=0.533, top2=0.580, top3=0.627]\n",
            "Deleted /content/logs/20240123_142717_lr_4e-04_b_32/ep068.pth\n",
            "100% 2/2 [00:04<00:00,  2.22s/it, data_time=0.029, iou=0.522, loss=1.880, net_time=0.115, top1=0.478, top2=0.559, top3=0.611]\n",
            "Deleted /content/logs/20240123_142717_lr_4e-04_b_32/ep069.pth\n",
            "100% 2/2 [00:04<00:00,  2.06s/it, data_time=0.023, iou=0.447, loss=1.695, net_time=0.104, top1=0.522, top2=0.613, top3=0.680]\n",
            "Deleted /content/logs/20240123_142717_lr_4e-04_b_32/ep070.pth\n",
            "100% 2/2 [00:04<00:00,  2.18s/it, data_time=0.032, iou=0.488, loss=1.856, net_time=0.116, top1=0.503, top2=0.588, top3=0.653]\n",
            "Deleted /content/logs/20240123_142717_lr_4e-04_b_32/ep071.pth\n",
            "100% 2/2 [00:03<00:00,  2.00s/it, data_time=0.016, iou=0.514, loss=1.776, net_time=0.104, top1=0.509, top2=0.605, top3=0.673]\n",
            "Deleted /content/logs/20240123_142717_lr_4e-04_b_32/ep072.pth\n",
            "100% 2/2 [00:05<00:00,  2.64s/it, data_time=0.018, iou=0.490, loss=1.700, net_time=0.112, top1=0.535, top2=0.619, top3=0.676]\n",
            "Deleted /content/logs/20240123_142717_lr_4e-04_b_32/ep073.pth\n",
            "100% 2/2 [00:03<00:00,  1.97s/it, data_time=0.016, iou=0.490, loss=1.700, net_time=0.102, top1=0.522, top2=0.617, top3=0.684]\n",
            "Deleted /content/logs/20240123_142717_lr_4e-04_b_32/ep074.pth\n",
            "100% 2/2 [00:04<00:00,  2.47s/it, data_time=0.017, iou=0.449, loss=1.713, net_time=0.104, top1=0.532, top2=0.633, top3=0.697]\n",
            "Deleted /content/logs/20240123_142717_lr_4e-04_b_32/ep075.pth\n",
            "100% 2/2 [00:04<00:00,  2.03s/it, data_time=0.017, iou=0.554, loss=1.521, net_time=0.103, top1=0.571, top2=0.649, top3=0.724]\n",
            "Deleted /content/logs/20240123_142717_lr_4e-04_b_32/ep076.pth\n",
            "100% 2/2 [00:05<00:00,  2.57s/it, data_time=0.017, iou=0.458, loss=1.822, net_time=0.103, top1=0.495, top2=0.575, top3=0.648]\n",
            "Deleted /content/logs/20240123_142717_lr_4e-04_b_32/ep077.pth\n",
            "100% 2/2 [00:04<00:00,  2.12s/it, data_time=0.017, iou=0.469, loss=1.671, net_time=0.104, top1=0.544, top2=0.622, top3=0.682]\n",
            "Deleted /content/logs/20240123_142717_lr_4e-04_b_32/ep078.pth\n",
            "100% 2/2 [00:05<00:00,  2.50s/it, data_time=0.017, iou=0.476, loss=1.751, net_time=0.105, top1=0.518, top2=0.617, top3=0.693]\n",
            "Deleted /content/logs/20240123_142717_lr_4e-04_b_32/ep079.pth\n",
            "100% 2/2 [00:04<00:00,  2.09s/it, data_time=0.017, iou=0.493, loss=1.736, net_time=0.104, top1=0.504, top2=0.586, top3=0.656]\n",
            "Deleted /content/logs/20240123_142717_lr_4e-04_b_32/ep080.pth\n",
            "100% 2/2 [00:04<00:00,  2.30s/it, data_time=0.017, iou=0.489, loss=1.685, net_time=0.106, top1=0.529, top2=0.616, top3=0.677]\n",
            "Deleted /content/logs/20240123_142717_lr_4e-04_b_32/ep081.pth\n",
            "100% 2/2 [00:04<00:00,  2.42s/it, data_time=0.028, iou=0.511, loss=1.697, net_time=0.115, top1=0.535, top2=0.610, top3=0.682]\n",
            "Deleted /content/logs/20240123_142717_lr_4e-04_b_32/ep082.pth\n",
            "100% 2/2 [00:04<00:00,  2.04s/it, data_time=0.018, iou=0.633, loss=1.582, net_time=0.108, top1=0.542, top2=0.619, top3=0.696]\n",
            "Deleted /content/logs/20240123_142717_lr_4e-04_b_32/ep083.pth\n",
            "100% 2/2 [00:04<00:00,  2.36s/it, data_time=0.031, iou=0.485, loss=1.601, net_time=0.113, top1=0.539, top2=0.632, top3=0.708]\n",
            "Deleted /content/logs/20240123_142717_lr_4e-04_b_32/ep084.pth\n",
            "100% 2/2 [00:04<00:00,  2.07s/it, data_time=0.016, iou=0.538, loss=1.515, net_time=0.104, top1=0.555, top2=0.628, top3=0.710]\n",
            "Deleted /content/logs/20240123_142717_lr_4e-04_b_32/ep085.pth\n",
            "100% 2/2 [00:04<00:00,  2.35s/it, data_time=0.035, iou=0.568, loss=1.663, net_time=0.117, top1=0.518, top2=0.607, top3=0.680]\n",
            "Deleted /content/logs/20240123_142717_lr_4e-04_b_32/ep086.pth\n",
            "100% 2/2 [00:04<00:00,  2.09s/it, data_time=0.016, iou=0.479, loss=1.676, net_time=0.106, top1=0.535, top2=0.609, top3=0.670]\n",
            "Deleted /content/logs/20240123_142717_lr_4e-04_b_32/ep087.pth\n",
            "100% 2/2 [00:04<00:00,  2.27s/it, data_time=0.033, iou=0.444, loss=1.690, net_time=0.126, top1=0.512, top2=0.581, top3=0.664]\n",
            "Deleted /content/logs/20240123_142717_lr_4e-04_b_32/ep088.pth\n",
            "100% 2/2 [00:04<00:00,  2.04s/it, data_time=0.019, iou=0.516, loss=1.823, net_time=0.104, top1=0.493, top2=0.581, top3=0.643]\n",
            "Deleted /content/logs/20240123_142717_lr_4e-04_b_32/ep089.pth\n",
            "100% 2/2 [00:05<00:00,  2.96s/it, data_time=0.020, iou=0.501, loss=1.589, net_time=0.108, top1=0.554, top2=0.637, top3=0.710]\n",
            "Deleted /content/logs/20240123_142717_lr_4e-04_b_32/ep090.pth\n",
            "100% 2/2 [00:04<00:00,  2.05s/it, data_time=0.017, iou=0.534, loss=1.543, net_time=0.104, top1=0.577, top2=0.664, top3=0.723]\n",
            "Deleted /content/logs/20240123_142717_lr_4e-04_b_32/ep091.pth\n",
            "100% 2/2 [00:05<00:00,  2.91s/it, data_time=0.016, iou=0.485, loss=1.737, net_time=0.104, top1=0.551, top2=0.631, top3=0.686]\n",
            "Deleted /content/logs/20240123_142717_lr_4e-04_b_32/ep092.pth\n",
            "100% 2/2 [00:04<00:00,  2.15s/it, data_time=0.018, iou=0.534, loss=1.567, net_time=0.108, top1=0.548, top2=0.624, top3=0.698]\n",
            "Deleted /content/logs/20240123_142717_lr_4e-04_b_32/ep093.pth\n",
            "100% 2/2 [00:05<00:00,  2.69s/it, data_time=0.016, iou=0.513, loss=1.705, net_time=0.106, top1=0.532, top2=0.585, top3=0.647]\n",
            "Deleted /content/logs/20240123_142717_lr_4e-04_b_32/ep094.pth\n",
            "100% 2/2 [00:03<00:00,  1.99s/it, data_time=0.017, iou=0.523, loss=1.688, net_time=0.103, top1=0.561, top2=0.610, top3=0.662]\n",
            "Deleted /content/logs/20240123_142717_lr_4e-04_b_32/ep095.pth\n",
            "100% 2/2 [00:05<00:00,  2.74s/it, data_time=0.019, iou=0.579, loss=1.661, net_time=0.107, top1=0.514, top2=0.617, top3=0.698]\n",
            "Deleted /content/logs/20240123_142717_lr_4e-04_b_32/ep096.pth\n",
            "100% 2/2 [00:04<00:00,  2.24s/it, data_time=0.018, iou=0.532, loss=1.712, net_time=0.127, top1=0.509, top2=0.608, top3=0.691]\n",
            "Deleted /content/logs/20240123_142717_lr_4e-04_b_32/ep097.pth\n",
            "100% 2/2 [00:04<00:00,  2.48s/it, data_time=0.019, iou=0.499, loss=1.657, net_time=0.106, top1=0.552, top2=0.633, top3=0.713]\n",
            "Deleted /content/logs/20240123_142717_lr_4e-04_b_32/ep098.pth\n",
            "100% 2/2 [00:04<00:00,  2.18s/it, data_time=0.017, iou=0.522, loss=1.736, net_time=0.106, top1=0.507, top2=0.591, top3=0.686]\n"
          ]
        }
      ],
      "source": [
        "#before running this make sure to update the data_root an d log_path in tusimple.py from the configs\n",
        "!python train.py configs/tusimple.py"
      ]
    },
    {
      "cell_type": "markdown",
      "source": [
        "## The trained weights are inside the logs folder as ep099.pth"
      ],
      "metadata": {
        "id": "946ODGgv7bKX"
      }
    },
    {
      "cell_type": "markdown",
      "source": [
        "## below two cells are optional code that could be executed per needs."
      ],
      "metadata": {
        "id": "lUzi898RxKi8"
      }
    },
    {
      "cell_type": "code",
      "execution_count": null,
      "metadata": {
        "id": "vE4U2Q7Os0Zg"
      },
      "outputs": [],
      "source": [
        "!du -h /content/ #to check the disk space"
      ]
    },
    {
      "cell_type": "code",
      "execution_count": null,
      "metadata": {
        "id": "3e7aywfGkHYF"
      },
      "outputs": [],
      "source": [
        "# Only run this if you want to remove the logs add the folder name accordingly as it gets changed with some random numbers everytime.\n",
        "\n",
        "!rm -rf /content/logs/'20240122_093253_lr_4e-04_b_32'"
      ]
    },
    {
      "cell_type": "markdown",
      "source": [
        "## code for testing"
      ],
      "metadata": {
        "id": "KiZzOONuqCKK"
      }
    },
    {
      "cell_type": "code",
      "source": [
        "# copying the testing data in the $TUSIMPLEROOT/clips (NOTE: ONLY DO THIS IF YOU WANT TO TEST THE DATA)\n",
        "\n",
        "\n",
        "#THIS IS NOT WORKING AS INTENDED BECAUSE THERE IS ALREADY 0601 and 0531 in both the training as well as testing set.\n",
        "\n",
        "%cp -r /content/drive/MyDrive/TuSimple_xsml/test_set/clips/* /content/Ultra-Fast-Lane-Detection/'$TUSIMPLEROOT'/clips"
      ],
      "metadata": {
        "id": "sx7APgjwz1UA"
      },
      "execution_count": 13,
      "outputs": []
    },
    {
      "cell_type": "code",
      "source": [
        "#FILTERING THE text.txt FILE:\n",
        "\n",
        "\n",
        "searcharr_0530=['0530/1492626047222176976_0', '0530/1492626126171818168_0','0530/1492626127172745520_0','0530/1492626153155598528_0','0530/1492626155156451704_0','0530/1492626158152981904_0','0530/1492626166147797438_0','0530/1492626171146236124_0','0530/1492626191132352208_0','0530/1492626199127566374_0']\n",
        "searcharr_0531=['0531/1492626253262712112','0531/1492626271917313999','0531/1492626272918083058','0531/1492626292371547028','0531/1492626323818607492','0531/1492626326050823425','0531/1492626328182638628','0531/1492626344839162069','0531/1492626364327255872','0531/1492626388446057821']\n",
        "searcharr_0601=['0601/1494452381594376146','0601/1494452383592719171','0601/1494452387590928848','0601/1494452389590241875','0601/1494452393588330446','0601/1494452395587533775','0601/1494452399585761304','0601/1494452401584814468','0601/1494452405583118167','0601/1494452407582274573']\n",
        "\n",
        "clip_list2 = [searcharr_0530, searcharr_0531, searcharr_0601]\n",
        "#update this loop to filter the contents from the test.txt\n",
        "\n",
        "\n",
        "mini_clip_list2 = [searcharr_0531] #micro dataset\n",
        "\n",
        "filtered_data2 = []\n",
        "\n",
        "#change to clip_list if want to use the original dataset or keep it as mini_clip_list if want micro dataset\n",
        "for search_arr in clip_list2:\n",
        "  with open(\"$TUSIMPLEROOT/test.txt\", \"r\") as f:\n",
        "    for line in f:\n",
        "      # print(\"clip_name\", clip_name)\n",
        "      for i in range(0, len(search_arr)):\n",
        "        if search_arr[i]+'/20.jpg' in line:\n",
        "          filtered_data2 = filtered_data2 + [line]\n",
        "          # print(filtered_data2)\n",
        "with open(\"$TUSIMPLEROOT/test.txt\", \"w\") as f:\n",
        "    f.seek(0) # to move to the start of the file\n",
        "    for clip_data in filtered_data2:\n",
        "      f.write(clip_data)\n",
        "    f.truncate()\n",
        "print(len(filtered_data2))\n"
      ],
      "metadata": {
        "colab": {
          "base_uri": "https://localhost:8080/"
        },
        "id": "BN29ACjuv0zw",
        "outputId": "ae9012db-2883-4b1e-91d1-97b6082a5650"
      },
      "execution_count": 14,
      "outputs": [
        {
          "output_type": "stream",
          "name": "stdout",
          "text": [
            "30\n"
          ]
        }
      ]
    },
    {
      "cell_type": "code",
      "source": [
        "#data visualization for trained weights\n",
        "\n",
        "#python demo.py configs/tusimple.py --test_model path_to_tusimple_18.pth\n",
        "\n",
        "!python demo.py configs/tusimple.py --test_model /content/logs/'20240123_142717_lr_4e-04_b_32'/ep099.pth"
      ],
      "metadata": {
        "colab": {
          "base_uri": "https://localhost:8080/"
        },
        "id": "n2P-7N6Wkttc",
        "outputId": "73d183ae-8086-40bb-ad96-17d70c83fc6f"
      },
      "execution_count": 16,
      "outputs": [
        {
          "output_type": "stream",
          "name": "stdout",
          "text": [
            "2024-01-23 14:50:00.999124: E external/local_xla/xla/stream_executor/cuda/cuda_dnn.cc:9261] Unable to register cuDNN factory: Attempting to register factory for plugin cuDNN when one has already been registered\n",
            "2024-01-23 14:50:00.999177: E external/local_xla/xla/stream_executor/cuda/cuda_fft.cc:607] Unable to register cuFFT factory: Attempting to register factory for plugin cuFFT when one has already been registered\n",
            "2024-01-23 14:50:01.000427: E external/local_xla/xla/stream_executor/cuda/cuda_blas.cc:1515] Unable to register cuBLAS factory: Attempting to register factory for plugin cuBLAS when one has already been registered\n",
            "2024-01-23 14:50:02.086612: W tensorflow/compiler/tf2tensorrt/utils/py_utils.cc:38] TF-TRT Warning: Could not find TensorRT\n",
            "merge  test_model  config\n",
            "start testing...\n",
            "/usr/local/lib/python3.10/dist-packages/torchvision/models/_utils.py:208: UserWarning: The parameter 'pretrained' is deprecated since 0.13 and may be removed in the future, please use 'weights' instead.\n",
            "  warnings.warn(\n",
            "/usr/local/lib/python3.10/dist-packages/torchvision/models/_utils.py:223: UserWarning: Arguments other than a weight enum or `None` for 'weights' are deprecated since 0.13 and may be removed in the future. The current behavior is equivalent to passing `weights=None`.\n",
            "  warnings.warn(msg)\n",
            "test.avi\n",
            "100% 30/30 [00:01<00:00, 15.93it/s]\n"
          ]
        }
      ]
    },
    {
      "cell_type": "code",
      "source": [
        "# Testing runtime\n",
        "\n",
        "!python speed_simple.py"
      ],
      "metadata": {
        "colab": {
          "base_uri": "https://localhost:8080/"
        },
        "id": "8G4m4VFR2t1u",
        "outputId": "329818a0-ff03-4a6a-d3b2-46b91c931da7"
      },
      "execution_count": 17,
      "outputs": [
        {
          "output_type": "stream",
          "name": "stdout",
          "text": [
            "/usr/local/lib/python3.10/dist-packages/torchvision/models/_utils.py:208: UserWarning: The parameter 'pretrained' is deprecated since 0.13 and may be removed in the future, please use 'weights' instead.\n",
            "  warnings.warn(\n",
            "/usr/local/lib/python3.10/dist-packages/torchvision/models/_utils.py:223: UserWarning: Arguments other than a weight enum or `None` for 'weights' are deprecated since 0.13 and may be removed in the future. The current behavior is equivalent to passing `weights=None`.\n",
            "  warnings.warn(msg)\n",
            "average time: 0.005560116767883301\n",
            "average fps: 179.85233795381123\n",
            "fastest time: 0.0027773380279541016\n",
            "fastest fps: 360.05700060090993\n",
            "slowest time: 0.01031804084777832\n",
            "slowest fps: 96.91762368001478\n"
          ]
        }
      ]
    },
    {
      "cell_type": "code",
      "source": [
        "# filtering the test_label.json file\n",
        "\n",
        "# Import the json module\n",
        "import json\n",
        "\n",
        "# Open the test.txt file and read the clip names\n",
        "with open(\"$TUSIMPLEROOT/test.txt\") as f:\n",
        "  clip_names = f.read().splitlines()\n",
        "\n",
        "# Open the test_label.json file and load the data\n",
        "with open(\"$TUSIMPLEROOT/test_label.json\") as f:\n",
        "  data = [json.loads(line) for line in f]\n",
        "\n",
        "# Create an empty list to store the filtered data\n",
        "filtered_data = []\n",
        "\n",
        "# Loop through the data and check if the clip name matches any of the clip names in the test.txt file\n",
        "for item in data:\n",
        "  if item[\"raw_file\"] in clip_names:\n",
        "    # If yes, append the item to the filtered data list\n",
        "    filtered_data.append(item)\n",
        "\n",
        "# Open a new file to write the filtered data\n",
        "with open(\"$TUSIMPLEROOT/filtered_test_label.json\", \"w\") as f:\n",
        "  # Dump the filtered data list as json\n",
        "  json.dump(filtered_data, f)\n"
      ],
      "metadata": {
        "id": "Tc2RqOm1-eKn"
      },
      "execution_count": 34,
      "outputs": []
    },
    {
      "cell_type": "code",
      "source": [
        "%mkdir /content/tmp\n",
        "# This a bad example, you should put the temp files outside the project.\n",
        "\n",
        "!python test.py configs/tusimple.py --test_model /content/logs/'20240123_142717_lr_4e-04_b_32'/ep099.pth --test_work_dir /content/tmp\n"
      ],
      "metadata": {
        "colab": {
          "base_uri": "https://localhost:8080/"
        },
        "id": "qzFcTBUn3M-U",
        "outputId": "961591ca-9e63-4d8c-a7ab-52db188ba915"
      },
      "execution_count": 35,
      "outputs": [
        {
          "output_type": "stream",
          "name": "stdout",
          "text": [
            "mkdir: cannot create directory ‘/content/tmp’: File exists\n",
            "2024-01-23 15:58:59.569090: E external/local_xla/xla/stream_executor/cuda/cuda_dnn.cc:9261] Unable to register cuDNN factory: Attempting to register factory for plugin cuDNN when one has already been registered\n",
            "2024-01-23 15:58:59.569143: E external/local_xla/xla/stream_executor/cuda/cuda_fft.cc:607] Unable to register cuFFT factory: Attempting to register factory for plugin cuFFT when one has already been registered\n",
            "2024-01-23 15:58:59.570460: E external/local_xla/xla/stream_executor/cuda/cuda_blas.cc:1515] Unable to register cuBLAS factory: Attempting to register factory for plugin cuBLAS when one has already been registered\n",
            "2024-01-23 15:59:00.685446: W tensorflow/compiler/tf2tensorrt/utils/py_utils.cc:38] TF-TRT Warning: Could not find TensorRT\n",
            "merge  test_model  config\n",
            "merge  test_work_dir  config\n",
            "start testing...\n",
            "/usr/local/lib/python3.10/dist-packages/torchvision/models/_utils.py:208: UserWarning: The parameter 'pretrained' is deprecated since 0.13 and may be removed in the future, please use 'weights' instead.\n",
            "  warnings.warn(\n",
            "/usr/local/lib/python3.10/dist-packages/torchvision/models/_utils.py:223: UserWarning: Arguments other than a weight enum or `None` for 'weights' are deprecated since 0.13 and may be removed in the future. The current behavior is equivalent to passing `weights=None`.\n",
            "  warnings.warn(msg)\n",
            "/usr/local/lib/python3.10/dist-packages/torch/utils/data/dataloader.py:557: UserWarning: This DataLoader will create 4 worker processes in total. Our suggested max number of worker in current system is 2, which is smaller than what this DataLoader is going to create. Please be aware that excessive worker creation might get DataLoader running slow or even freeze, lower the worker number to avoid potential slowness/freeze if necessary.\n",
            "  warnings.warn(_create_warning_msg(\n",
            "100% 4/4 [00:01<00:00,  2.23it/s]\n",
            "Traceback (most recent call last):\n",
            "  File \"/content/Ultra-Fast-Lane-Detection/test.py\", line 48, in <module>\n",
            "    eval_lane(net, cfg.dataset, cfg.data_root, cfg.test_work_dir, cfg.griding_num, False, distributed)\n",
            "  File \"/content/Ultra-Fast-Lane-Detection/evaluation/eval_wrapper.py\", line 159, in eval_lane\n",
            "    res = LaneEval.bench_one_submit(os.path.join(work_dir,exp_name + '.txt'),os.path.join(data_root,'test_label.json'))\n",
            "  File \"/content/Ultra-Fast-Lane-Detection/evaluation/tusimple/lane.py\", line 63, in bench_one_submit\n",
            "    raise Exception('We do not get the predictions of all the test tasks')\n",
            "Exception: We do not get the predictions of all the test tasks\n"
          ]
        }
      ]
    },
    {
      "cell_type": "markdown",
      "source": [
        "**## TO DO:**\n",
        "\n",
        "\n",
        "1.   stop logging of each checkpoint or just manage the space correctly ✅\n",
        "2.   add the test clips folders inside $TUSIMPLEROOT/clips folder ✅\n",
        "3. update the test.txt to have only data about the available clips similar to how i did with the train_gt.txt file ✅\n",
        "4. visualize the data as you did in the cascaded lane detection. ✅\n",
        "5. A way to just take an random test image and see the segmentation as well as the classes just you did in the cascaded CNN lane detection\n",
        "6. pretrained weights evaluation\n",
        "7. find metrics for trained weights and biases\n"
      ],
      "metadata": {
        "id": "p8CLd3plnxkH"
      }
    },
    {
      "cell_type": "markdown",
      "source": [
        "**##Solutions worked on:**"
      ],
      "metadata": {
        "id": "XRM7npIVtrpP"
      }
    },
    {
      "cell_type": "markdown",
      "source": [
        "1.Use the below code in the ***train.py*** inside the epoch loop to delete previous checkpoints before logging a new one:\n",
        "\n",
        "ADD THE BELOW CODE AFTER THE `for epoch in range(resume_epoch, cfg.epoch):` LOOP INSIDE THE train.py file\n",
        "\n",
        "\n",
        "```python\n",
        "#EXPERIMENTAL CODE STARTS\n",
        "# Define the path of the folder\n",
        "folder_path = work_dir\n",
        "\n",
        "# Get the list of files in the folder\n",
        "files = os.listdir(folder_path)\n",
        "\n",
        "# Loop through the files and delete them\n",
        "for file in files:\n",
        "    # Join the folder path and the file name\n",
        "    file_path = os.path.join(folder_path, file)\n",
        "    # Check if the file is a file (not a folder)\n",
        "    if os.path.isfile(file_path):\n",
        "        # Delete the file\n",
        "        os.remove(file_path)\n",
        "        # Print a message\n",
        "        print(f\"Deleted {file_path}\")\n",
        "#EXPERIMENTAL CODE ENDS\n",
        "\n",
        "```\n",
        "\n"
      ],
      "metadata": {
        "id": "8Yx7kMz_qHdR"
      }
    },
    {
      "cell_type": "code",
      "source": [],
      "metadata": {
        "id": "7p18ZmqJqUGu"
      },
      "execution_count": null,
      "outputs": []
    }
  ],
  "metadata": {
    "accelerator": "GPU",
    "colab": {
      "provenance": [],
      "authorship_tag": "ABX9TyN/Nv+oyS4KsRSXwdSXWUKg",
      "include_colab_link": true
    },
    "kernelspec": {
      "display_name": "Python 3",
      "name": "python3"
    },
    "language_info": {
      "name": "python"
    }
  },
  "nbformat": 4,
  "nbformat_minor": 0
}