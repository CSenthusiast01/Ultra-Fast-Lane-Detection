{
  "cells": [
    {
      "cell_type": "markdown",
      "metadata": {
        "id": "ZiJFASiFz9g7"
      },
      "source": [
        "**Ultra Fast Lane Detection**\n",
        "\n",
        "Note: add the path in /configs/tusimple.py for the data_path and the log_path\n",
        "\n",
        "\n",
        "create log file and the tusimpleroot file as mentioned in the repository."
      ]
    },
    {
      "cell_type": "code",
      "execution_count": 1,
      "metadata": {
        "colab": {
          "base_uri": "https://localhost:8080/"
        },
        "id": "5g1uEj3_ppyA",
        "outputId": "bf0bf25e-35ea-4ab0-ee95-3711360182e8"
      },
      "outputs": [
        {
          "output_type": "stream",
          "name": "stdout",
          "text": [
            "Cloning into 'Ultra-Fast-Lane-Detection'...\n",
            "remote: Enumerating objects: 287, done.\u001b[K\n",
            "remote: Counting objects: 100% (131/131), done.\u001b[K\n",
            "remote: Compressing objects: 100% (59/59), done.\u001b[K\n",
            "remote: Total 287 (delta 88), reused 75 (delta 72), pack-reused 156\u001b[K\n",
            "Receiving objects: 100% (287/287), 189.98 KiB | 3.72 MiB/s, done.\n",
            "Resolving deltas: 100% (133/133), done.\n"
          ]
        }
      ],
      "source": [
        "# # Original Repository\n",
        "# !git clone https://github.com/cfzd/Ultra-Fast-Lane-Detection.git\n",
        "\n",
        "# Updated code repository\n",
        "!git clone https://github.com/CSenthusiast01/Ultra-Fast-Lane-Detection.git"
      ]
    },
    {
      "cell_type": "code",
      "execution_count": 2,
      "metadata": {
        "id": "AxxtAPuGcg2O"
      },
      "outputs": [],
      "source": [
        "%mkdir logs"
      ]
    },
    {
      "cell_type": "code",
      "execution_count": 3,
      "metadata": {
        "colab": {
          "base_uri": "https://localhost:8080/"
        },
        "id": "9XzwvJQxp-Fj",
        "outputId": "4e730de9-b97e-4694-d434-483b4b761679"
      },
      "outputs": [
        {
          "output_type": "stream",
          "name": "stdout",
          "text": [
            "Mounted at /content/drive\n"
          ]
        }
      ],
      "source": [
        "from google.colab import drive\n",
        "drive.mount('/content/drive')"
      ]
    },
    {
      "cell_type": "code",
      "execution_count": 4,
      "metadata": {
        "colab": {
          "base_uri": "https://localhost:8080/"
        },
        "id": "MtLiETlsuusa",
        "outputId": "4a8e8c94-e4a1-4895-bfa6-b97390c9ce6c"
      },
      "outputs": [
        {
          "output_type": "stream",
          "name": "stdout",
          "text": [
            "Drive already mounted at /content/drive; to attempt to forcibly remount, call drive.mount(\"/content/drive\", force_remount=True).\n"
          ]
        }
      ],
      "source": [
        "ROOT = \"/content/drive\"\n",
        "drive.mount(ROOT)"
      ]
    },
    {
      "cell_type": "code",
      "execution_count": 5,
      "metadata": {
        "colab": {
          "base_uri": "https://localhost:8080/"
        },
        "id": "J1YK461ypueF",
        "outputId": "58839b6a-3e91-4f7d-c192-4700b86b7e10"
      },
      "outputs": [
        {
          "output_type": "stream",
          "name": "stdout",
          "text": [
            "/content/Ultra-Fast-Lane-Detection\n"
          ]
        }
      ],
      "source": [
        "%cd /content/Ultra-Fast-Lane-Detection\n",
        "# %mkdir '$TUSIMPLEROOT'"
      ]
    },
    {
      "cell_type": "code",
      "execution_count": null,
      "metadata": {
        "id": "cT6PHvZk16_0"
      },
      "outputs": [],
      "source": [
        "#for having dataset in the repository\n",
        "# make sure to create the $TUSIMPLE directory in the project folder\n",
        "\n",
        "# check the below command to copy the data from drive to the repo.\n",
        "# %cp -r /content/drive/MyDrive/TuSimple_xsml/train_set/ /content/Ultra-Fast-Lane-Detection/'$TUSIMPLEROOT'/\n",
        "\n",
        "%cp -r /content/drive/MyDrive/TuSimple_xsml/train_set/ /content/Ultra-Fast-Lane-Detection/\n",
        "!mv /content/Ultra-Fast-Lane-Detection/train_set/ /content/Ultra-Fast-Lane-Detection/'$TUSIMPLEROOT'/\n",
        "\n"
      ]
    },
    {
      "cell_type": "code",
      "execution_count": 8,
      "metadata": {
        "id": "ND-CQgZObt7I"
      },
      "outputs": [],
      "source": [
        "# copying test_label.json in teh $TUSIMPLEROOT\n",
        "%cp /content/drive/MyDrive/TuSimple_xsml/test_label.json /content/Ultra-Fast-Lane-Detection/'$TUSIMPLEROOT'/"
      ]
    },
    {
      "cell_type": "code",
      "execution_count": 9,
      "metadata": {
        "id": "wnlPzqAFxZKO"
      },
      "outputs": [],
      "source": [
        "%cp /content/drive/MyDrive/TuSimple_xsml/test_set/test_tasks_0627.json /content/Ultra-Fast-Lane-Detection/'$TUSIMPLEROOT'/"
      ]
    },
    {
      "cell_type": "code",
      "execution_count": 19,
      "metadata": {
        "colab": {
          "base_uri": "https://localhost:8080/"
        },
        "id": "ciFW4_Ek4_sZ",
        "outputId": "0883f209-ba34-49c3-c1d5-62199636255d"
      },
      "outputs": [
        {
          "output_type": "stream",
          "name": "stdout",
          "text": [
            "100% 3626/3626 [00:03<00:00, 1196.16it/s]\n"
          ]
        }
      ],
      "source": [
        "!python scripts/convert_tusimple.py --root '$TUSIMPLEROOT'\n",
        "# this will generate segmentations and two list files: train_gt.txt and test.txt"
      ]
    },
    {
      "cell_type": "markdown",
      "metadata": {
        "id": "ip-UREZDNPYq"
      },
      "source": [
        "## The below code cell is used to filter the train_gt.txt file\n"
      ]
    },
    {
      "cell_type": "code",
      "execution_count": 21,
      "metadata": {
        "colab": {
          "base_uri": "https://localhost:8080/"
        },
        "id": "KxBq6ZkhBWiK",
        "outputId": "f4bb3511-296f-4efd-e993-8c7b8e4b9a82"
      },
      "outputs": [
        {
          "output_type": "stream",
          "name": "stdout",
          "text": [
            "40\n"
          ]
        }
      ],
      "source": [
        "#EXPERIMENTAL SCRIPT TO FILTER DATA:\n",
        "\n",
        "# %cd /content/Ultra-Fast-Lane-Detection/\n",
        "# import os\n",
        "# import numpy as np\n",
        "\n",
        "# # The directory where you want to get the folder names\n",
        "# directory1 = \"/'$TUSIMPLEROOT'/clips/0313-1\"\n",
        "# directory2 = \"/'$TUSIMPLEROOT'/clips/0313-2\"\n",
        "# directory3 = \"/'$TUSIMPLEROOT'/clips/0531\"\n",
        "# directory4 = \"/'$TUSIMPLEROOT'/clips/0601\"\n",
        "\n",
        "# # List all the files and folders in the directory\n",
        "# entries1 = os.listdir(directory1)\n",
        "# entries2 = os.listdir(directory2)\n",
        "# entries3 = os.listdir(directory3)\n",
        "# entries4 = os.listdir(directory4)\n",
        "\n",
        "# # Filter out the ones that are not folders\n",
        "# searcharr_0313_1 = [entry for entry in entries1 if os.path.isdir(os.path.join(directory1, entry))]\n",
        "# searcharr_0313_1 = [entry for entry in entries2 if os.path.isdir(os.path.join(directory2, entry))]\n",
        "# searcharr_0531 = [entry for entry in entries3 if os.path.isdir(os.path.join(directory3, entry))]\n",
        "# searcharr_0601 = [entry for entry in entries1 if os.path.isdir(os.path.join(directory4, entry))]\n",
        "\n",
        "# print(searcharr_0313_1)\n",
        "\n",
        "# # Convert the list of folder names to a numpy array of strings\n",
        "# array = np.array(folders)\n",
        "\n",
        "# # Print the array\n",
        "# print(array)\n",
        "\n",
        "searcharr_0313_1=['0313-1/120', '0313-1/180','0313-1/240','0313-1/300','0313-1/360','0313-1/420','0313-1/480','0313-1/540','0313-1/60','0313-1/600']\n",
        "searcharr_0313_2=['0313-2/20', '0313-2/25', '0313-2/30', '0313-2/35', '0313-2/40','0313-2/45', '0313-2/50', '0313-2/55', '0313-2/60', '0313-2/65']\n",
        "\n",
        "searcharr_0531=['0531/1492626270684175793','0531/1492626274615008344','0531/1492626287507231547','0531/1492626327183261694','0531/1492626366226158339','0531/1492626371522989086','0531/1492626395742137012','0531/1492626487919028170','0531/1492626551883775328','0531/1492626688464435547']\n",
        "searcharr_0601=['0601/1494452385593783358','0601/1494452391590105691','0601/1494452397586667021','0601/1494452403585050201','0601/1494452409581290246','0601/1494452415578787519','0601/1494452421576126921','0601/1494452427576086954','0601/1494452433570893263','0601/1494452439568910656']\n",
        "\n",
        "clip_list = [searcharr_0313_1, searcharr_0313_2, searcharr_0531, searcharr_0601]\n",
        "#update this loop to filter the contents from the train_gt.txt\n",
        "\n",
        "mini_clip_list = [searcharr_0313_1] #micro dataset\n",
        "\n",
        "filtered_data = []\n",
        "\n",
        "#change to clip_list if want to use the original dataset or keep it as mini_clip_list if want micro dataset\n",
        "for search_arr in clip_list:\n",
        "  with open(\"$TUSIMPLEROOT/train_gt.txt\", \"r\") as f:\n",
        "    for line in f:\n",
        "      # print(\"clip_name\", clip_name)\n",
        "      for i in range(0, len(search_arr)):\n",
        "        if search_arr[i]+'/20.png' in line:\n",
        "          filtered_data = filtered_data + [line]\n",
        "with open(\"$TUSIMPLEROOT/train_gt.txt\", \"w\") as f:\n",
        "    f.seek(0) # to move to the start of the file\n",
        "    for clip_data in filtered_data:\n",
        "      f.write(clip_data)\n",
        "    f.truncate()\n",
        "print(len(filtered_data))\n",
        "\n",
        "\n"
      ]
    },
    {
      "cell_type": "markdown",
      "metadata": {
        "id": "NQ7o710vEnAR"
      },
      "source": []
    },
    {
      "cell_type": "code",
      "execution_count": 12,
      "metadata": {
        "colab": {
          "base_uri": "https://localhost:8080/"
        },
        "id": "qiVD2lW4x8TM",
        "outputId": "d13b8dea-6e15-430f-c6ac-c0448994a3b2"
      },
      "outputs": [
        {
          "output_type": "stream",
          "name": "stdout",
          "text": [
            "Requirement already satisfied: opencv-python in /usr/local/lib/python3.10/dist-packages (from -r requirements.txt (line 1)) (4.8.0.76)\n",
            "Requirement already satisfied: tqdm in /usr/local/lib/python3.10/dist-packages (from -r requirements.txt (line 2)) (4.66.1)\n",
            "Requirement already satisfied: tensorboard in /usr/local/lib/python3.10/dist-packages (from -r requirements.txt (line 3)) (2.15.1)\n",
            "Collecting addict (from -r requirements.txt (line 4))\n",
            "  Downloading addict-2.4.0-py3-none-any.whl (3.8 kB)\n",
            "Requirement already satisfied: scikit-learn in /usr/local/lib/python3.10/dist-packages (from -r requirements.txt (line 5)) (1.2.2)\n",
            "Collecting pathspec (from -r requirements.txt (line 6))\n",
            "  Downloading pathspec-0.12.1-py3-none-any.whl (31 kB)\n",
            "Requirement already satisfied: numpy>=1.21.2 in /usr/local/lib/python3.10/dist-packages (from opencv-python->-r requirements.txt (line 1)) (1.23.5)\n",
            "Requirement already satisfied: absl-py>=0.4 in /usr/local/lib/python3.10/dist-packages (from tensorboard->-r requirements.txt (line 3)) (1.4.0)\n",
            "Requirement already satisfied: grpcio>=1.48.2 in /usr/local/lib/python3.10/dist-packages (from tensorboard->-r requirements.txt (line 3)) (1.60.0)\n",
            "Requirement already satisfied: google-auth<3,>=1.6.3 in /usr/local/lib/python3.10/dist-packages (from tensorboard->-r requirements.txt (line 3)) (2.17.3)\n",
            "Requirement already satisfied: google-auth-oauthlib<2,>=0.5 in /usr/local/lib/python3.10/dist-packages (from tensorboard->-r requirements.txt (line 3)) (1.2.0)\n",
            "Requirement already satisfied: markdown>=2.6.8 in /usr/local/lib/python3.10/dist-packages (from tensorboard->-r requirements.txt (line 3)) (3.5.2)\n",
            "Requirement already satisfied: protobuf<4.24,>=3.19.6 in /usr/local/lib/python3.10/dist-packages (from tensorboard->-r requirements.txt (line 3)) (3.20.3)\n",
            "Requirement already satisfied: requests<3,>=2.21.0 in /usr/local/lib/python3.10/dist-packages (from tensorboard->-r requirements.txt (line 3)) (2.31.0)\n",
            "Requirement already satisfied: setuptools>=41.0.0 in /usr/local/lib/python3.10/dist-packages (from tensorboard->-r requirements.txt (line 3)) (67.7.2)\n",
            "Requirement already satisfied: six>1.9 in /usr/local/lib/python3.10/dist-packages (from tensorboard->-r requirements.txt (line 3)) (1.16.0)\n",
            "Requirement already satisfied: tensorboard-data-server<0.8.0,>=0.7.0 in /usr/local/lib/python3.10/dist-packages (from tensorboard->-r requirements.txt (line 3)) (0.7.2)\n",
            "Requirement already satisfied: werkzeug>=1.0.1 in /usr/local/lib/python3.10/dist-packages (from tensorboard->-r requirements.txt (line 3)) (3.0.1)\n",
            "Requirement already satisfied: scipy>=1.3.2 in /usr/local/lib/python3.10/dist-packages (from scikit-learn->-r requirements.txt (line 5)) (1.11.4)\n",
            "Requirement already satisfied: joblib>=1.1.1 in /usr/local/lib/python3.10/dist-packages (from scikit-learn->-r requirements.txt (line 5)) (1.3.2)\n",
            "Requirement already satisfied: threadpoolctl>=2.0.0 in /usr/local/lib/python3.10/dist-packages (from scikit-learn->-r requirements.txt (line 5)) (3.2.0)\n",
            "Requirement already satisfied: cachetools<6.0,>=2.0.0 in /usr/local/lib/python3.10/dist-packages (from google-auth<3,>=1.6.3->tensorboard->-r requirements.txt (line 3)) (5.3.2)\n",
            "Requirement already satisfied: pyasn1-modules>=0.2.1 in /usr/local/lib/python3.10/dist-packages (from google-auth<3,>=1.6.3->tensorboard->-r requirements.txt (line 3)) (0.3.0)\n",
            "Requirement already satisfied: rsa<5,>=3.1.4 in /usr/local/lib/python3.10/dist-packages (from google-auth<3,>=1.6.3->tensorboard->-r requirements.txt (line 3)) (4.9)\n",
            "Requirement already satisfied: requests-oauthlib>=0.7.0 in /usr/local/lib/python3.10/dist-packages (from google-auth-oauthlib<2,>=0.5->tensorboard->-r requirements.txt (line 3)) (1.3.1)\n",
            "Requirement already satisfied: charset-normalizer<4,>=2 in /usr/local/lib/python3.10/dist-packages (from requests<3,>=2.21.0->tensorboard->-r requirements.txt (line 3)) (3.3.2)\n",
            "Requirement already satisfied: idna<4,>=2.5 in /usr/local/lib/python3.10/dist-packages (from requests<3,>=2.21.0->tensorboard->-r requirements.txt (line 3)) (3.6)\n",
            "Requirement already satisfied: urllib3<3,>=1.21.1 in /usr/local/lib/python3.10/dist-packages (from requests<3,>=2.21.0->tensorboard->-r requirements.txt (line 3)) (2.0.7)\n",
            "Requirement already satisfied: certifi>=2017.4.17 in /usr/local/lib/python3.10/dist-packages (from requests<3,>=2.21.0->tensorboard->-r requirements.txt (line 3)) (2023.11.17)\n",
            "Requirement already satisfied: MarkupSafe>=2.1.1 in /usr/local/lib/python3.10/dist-packages (from werkzeug>=1.0.1->tensorboard->-r requirements.txt (line 3)) (2.1.3)\n",
            "Requirement already satisfied: pyasn1<0.6.0,>=0.4.6 in /usr/local/lib/python3.10/dist-packages (from pyasn1-modules>=0.2.1->google-auth<3,>=1.6.3->tensorboard->-r requirements.txt (line 3)) (0.5.1)\n",
            "Requirement already satisfied: oauthlib>=3.0.0 in /usr/local/lib/python3.10/dist-packages (from requests-oauthlib>=0.7.0->google-auth-oauthlib<2,>=0.5->tensorboard->-r requirements.txt (line 3)) (3.2.2)\n",
            "Installing collected packages: addict, pathspec\n",
            "Successfully installed addict-2.4.0 pathspec-0.12.1\n"
          ]
        }
      ],
      "source": [
        "!pip install -r requirements.txt"
      ]
    },
    {
      "cell_type": "markdown",
      "metadata": {
        "id": "-s5Cq1WsTFDV"
      },
      "source": [
        "## **Before running the below train.py.  make sure to update the data_root an d log_path in tusimple.py from the configs**"
      ]
    },
    {
      "cell_type": "markdown",
      "metadata": {
        "id": "ETErtxP-wlXq"
      },
      "source": []
    },
    {
      "cell_type": "code",
      "execution_count": 12,
      "metadata": {
        "id": "NyCRNLo3ktJG",
        "colab": {
          "base_uri": "https://localhost:8080/"
        },
        "outputId": "a75b4edd-62c6-4c2e-caa0-fa3f9749d5a4"
      },
      "outputs": [
        {
          "output_type": "stream",
          "name": "stdout",
          "text": [
            "2024-01-23 11:49:26.193669: E external/local_xla/xla/stream_executor/cuda/cuda_dnn.cc:9261] Unable to register cuDNN factory: Attempting to register factory for plugin cuDNN when one has already been registered\n",
            "2024-01-23 11:49:26.193745: E external/local_xla/xla/stream_executor/cuda/cuda_fft.cc:607] Unable to register cuFFT factory: Attempting to register factory for plugin cuFFT when one has already been registered\n",
            "2024-01-23 11:49:26.195520: E external/local_xla/xla/stream_executor/cuda/cuda_blas.cc:1515] Unable to register cuBLAS factory: Attempting to register factory for plugin cuBLAS when one has already been registered\n",
            "2024-01-23 11:49:28.967037: W tensorflow/compiler/tf2tensorrt/utils/py_utils.cc:38] TF-TRT Warning: Could not find TensorRT\n",
            "[2024/01/23 11:49:32] start training...\n",
            "Config (path: configs/tusimple.py): {'dataset': 'Tusimple', 'data_root': '$TUSIMPLEROOT', 'epoch': 100, 'batch_size': 32, 'optimizer': 'Adam', 'learning_rate': 0.0004, 'weight_decay': 0.0001, 'momentum': 0.9, 'scheduler': 'cos', 'gamma': 0.1, 'warmup': 'linear', 'warmup_iters': 100, 'backbone': '18', 'griding_num': 100, 'use_aux': True, 'sim_loss_w': 1.0, 'shp_loss_w': 0.0, 'note': '', 'log_path': '/content/logs/', 'finetune': None, 'resume': None, 'test_model': None, 'test_work_dir': None, 'num_lanes': 4}\n",
            "/usr/local/lib/python3.10/dist-packages/torch/utils/data/dataloader.py:557: UserWarning: This DataLoader will create 4 worker processes in total. Our suggested max number of worker in current system is 2, which is smaller than what this DataLoader is going to create. Please be aware that excessive worker creation might get DataLoader running slow or even freeze, lower the worker number to avoid potential slowness/freeze if necessary.\n",
            "  warnings.warn(_create_warning_msg(\n",
            "/usr/local/lib/python3.10/dist-packages/torchvision/models/_utils.py:208: UserWarning: The parameter 'pretrained' is deprecated since 0.13 and may be removed in the future, please use 'weights' instead.\n",
            "  warnings.warn(\n",
            "/usr/local/lib/python3.10/dist-packages/torchvision/models/_utils.py:223: UserWarning: Arguments other than a weight enum or `None` for 'weights' are deprecated since 0.13 and may be removed in the future. The current behavior is equivalent to passing `weights=ResNet18_Weights.IMAGENET1K_V1`. You can also use `weights=ResNet18_Weights.DEFAULT` to get the most up-to-date weights.\n",
            "  warnings.warn(msg)\n",
            "Downloading: \"https://download.pytorch.org/models/resnet18-f37072fd.pth\" to /root/.cache/torch/hub/checkpoints/resnet18-f37072fd.pth\n",
            "100% 44.7M/44.7M [00:00<00:00, 70.1MB/s]\n",
            "2\n",
            "Deleted /content/logs/20240123_114932_lr_4e-04_b_32/events.out.tfevents.1706010576.821ed9b6d6af.1874.0\n",
            "Deleted /content/logs/20240123_114932_lr_4e-04_b_32/cfg.txt\n",
            "100% 2/2 [00:31<00:00, 15.54s/it, data_time=0.030, iou=0.071, loss=6.115, net_time=6.301, top1=0.267, top2=0.283, top3=0.303]\n",
            "Deleted /content/logs/20240123_114932_lr_4e-04_b_32/ep000.pth\n",
            "100% 2/2 [00:04<00:00,  2.04s/it, data_time=0.029, iou=0.077, loss=6.118, net_time=0.111, top1=0.265, top2=0.281, top3=0.294]\n",
            "Deleted /content/logs/20240123_114932_lr_4e-04_b_32/ep001.pth\n",
            "100% 2/2 [00:04<00:00,  2.15s/it, data_time=0.016, iou=0.079, loss=6.076, net_time=0.099, top1=0.286, top2=0.302, top3=0.319]\n",
            "Deleted /content/logs/20240123_114932_lr_4e-04_b_32/ep002.pth\n",
            "100% 2/2 [00:04<00:00,  2.04s/it, data_time=0.016, iou=0.075, loss=6.022, net_time=0.099, top1=0.311, top2=0.330, top3=0.353]\n",
            "Deleted /content/logs/20240123_114932_lr_4e-04_b_32/ep003.pth\n",
            "100% 2/2 [00:04<00:00,  2.41s/it, data_time=0.016, iou=0.088, loss=5.901, net_time=0.100, top1=0.360, top2=0.379, top3=0.399]\n",
            "Deleted /content/logs/20240123_114932_lr_4e-04_b_32/ep004.pth\n",
            "100% 2/2 [00:04<00:00,  2.25s/it, data_time=0.085, iou=0.085, loss=5.799, net_time=0.145, top1=0.365, top2=0.376, top3=0.388]\n",
            "Deleted /content/logs/20240123_114932_lr_4e-04_b_32/ep005.pth\n",
            "100% 2/2 [00:04<00:00,  2.03s/it, data_time=0.018, iou=0.085, loss=5.585, net_time=0.099, top1=0.435, top2=0.457, top3=0.475]\n",
            "Deleted /content/logs/20240123_114932_lr_4e-04_b_32/ep006.pth\n",
            "100% 2/2 [00:04<00:00,  2.49s/it, data_time=0.031, iou=0.108, loss=5.150, net_time=0.118, top1=0.454, top2=0.473, top3=0.491]\n",
            "Deleted /content/logs/20240123_114932_lr_4e-04_b_32/ep007.pth\n",
            "100% 2/2 [00:04<00:00,  2.04s/it, data_time=0.026, iou=0.114, loss=4.540, net_time=0.100, top1=0.446, top2=0.464, top3=0.477]\n",
            "Deleted /content/logs/20240123_114932_lr_4e-04_b_32/ep008.pth\n",
            "100% 2/2 [00:04<00:00,  2.33s/it, data_time=0.033, iou=0.150, loss=3.830, net_time=0.111, top1=0.526, top2=0.538, top3=0.547]\n",
            "Deleted /content/logs/20240123_114932_lr_4e-04_b_32/ep009.pth\n",
            "100% 2/2 [00:04<00:00,  2.03s/it, data_time=0.017, iou=0.173, loss=3.729, net_time=0.102, top1=0.512, top2=0.520, top3=0.533]\n",
            "Deleted /content/logs/20240123_114932_lr_4e-04_b_32/ep010.pth\n",
            "100% 2/2 [00:04<00:00,  2.32s/it, data_time=0.033, iou=0.160, loss=3.769, net_time=0.113, top1=0.497, top2=0.503, top3=0.509]\n",
            "Deleted /content/logs/20240123_114932_lr_4e-04_b_32/ep011.pth\n",
            "100% 2/2 [00:04<00:00,  2.01s/it, data_time=0.024, iou=0.201, loss=3.380, net_time=0.102, top1=0.493, top2=0.499, top3=0.512]\n",
            "Deleted /content/logs/20240123_114932_lr_4e-04_b_32/ep012.pth\n",
            "100% 2/2 [00:04<00:00,  2.19s/it, data_time=0.040, iou=0.231, loss=3.142, net_time=0.115, top1=0.506, top2=0.512, top3=0.520]\n",
            "Deleted /content/logs/20240123_114932_lr_4e-04_b_32/ep013.pth\n",
            "100% 2/2 [00:04<00:00,  2.08s/it, data_time=0.018, iou=0.238, loss=3.169, net_time=0.110, top1=0.477, top2=0.489, top3=0.510]\n",
            "Deleted /content/logs/20240123_114932_lr_4e-04_b_32/ep014.pth\n",
            "100% 2/2 [00:04<00:00,  2.06s/it, data_time=0.032, iou=0.246, loss=2.994, net_time=0.111, top1=0.488, top2=0.497, top3=0.511]\n",
            "Deleted /content/logs/20240123_114932_lr_4e-04_b_32/ep015.pth\n",
            "100% 2/2 [00:04<00:00,  2.17s/it, data_time=0.018, iou=0.230, loss=3.115, net_time=0.102, top1=0.470, top2=0.477, top3=0.487]\n",
            "Deleted /content/logs/20240123_114932_lr_4e-04_b_32/ep016.pth\n",
            "100% 2/2 [00:04<00:00,  2.06s/it, data_time=0.032, iou=0.259, loss=3.091, net_time=0.117, top1=0.510, top2=0.521, top3=0.526]\n",
            "Deleted /content/logs/20240123_114932_lr_4e-04_b_32/ep017.pth\n",
            "100% 2/2 [00:04<00:00,  2.03s/it, data_time=0.018, iou=0.256, loss=2.995, net_time=0.101, top1=0.502, top2=0.508, top3=0.517]\n",
            "Deleted /content/logs/20240123_114932_lr_4e-04_b_32/ep018.pth\n",
            "100% 2/2 [00:04<00:00,  2.09s/it, data_time=0.030, iou=0.253, loss=2.667, net_time=0.117, top1=0.511, top2=0.521, top3=0.541]\n",
            "Deleted /content/logs/20240123_114932_lr_4e-04_b_32/ep019.pth\n",
            "100% 2/2 [00:04<00:00,  2.20s/it, data_time=0.018, iou=0.237, loss=2.651, net_time=0.104, top1=0.489, top2=0.504, top3=0.520]\n",
            "Deleted /content/logs/20240123_114932_lr_4e-04_b_32/ep020.pth\n",
            "100% 2/2 [00:04<00:00,  2.04s/it, data_time=0.017, iou=0.227, loss=2.771, net_time=0.103, top1=0.500, top2=0.517, top3=0.525]\n",
            "Deleted /content/logs/20240123_114932_lr_4e-04_b_32/ep021.pth\n",
            "100% 2/2 [00:04<00:00,  2.27s/it, data_time=0.017, iou=0.206, loss=2.734, net_time=0.103, top1=0.470, top2=0.476, top3=0.489]\n",
            "Deleted /content/logs/20240123_114932_lr_4e-04_b_32/ep022.pth\n",
            "100% 2/2 [00:04<00:00,  2.04s/it, data_time=0.018, iou=0.197, loss=2.546, net_time=0.101, top1=0.514, top2=0.538, top3=0.554]\n",
            "Deleted /content/logs/20240123_114932_lr_4e-04_b_32/ep023.pth\n",
            "100% 2/2 [00:04<00:00,  2.03s/it, data_time=0.018, iou=0.193, loss=2.663, net_time=0.102, top1=0.503, top2=0.517, top3=0.527]\n",
            "Deleted /content/logs/20240123_114932_lr_4e-04_b_32/ep024.pth\n",
            "100% 2/2 [00:05<00:00,  2.52s/it, data_time=0.029, iou=0.195, loss=2.442, net_time=0.117, top1=0.492, top2=0.515, top3=0.535]\n",
            "Deleted /content/logs/20240123_114932_lr_4e-04_b_32/ep025.pth\n",
            "100% 2/2 [00:04<00:00,  2.02s/it, data_time=0.017, iou=0.210, loss=2.470, net_time=0.102, top1=0.517, top2=0.534, top3=0.551]\n",
            "Deleted /content/logs/20240123_114932_lr_4e-04_b_32/ep026.pth\n",
            "100% 2/2 [00:04<00:00,  2.37s/it, data_time=0.031, iou=0.203, loss=2.474, net_time=0.112, top1=0.489, top2=0.507, top3=0.534]\n",
            "Deleted /content/logs/20240123_114932_lr_4e-04_b_32/ep027.pth\n",
            "100% 2/2 [00:04<00:00,  2.02s/it, data_time=0.017, iou=0.216, loss=2.444, net_time=0.103, top1=0.491, top2=0.512, top3=0.541]\n",
            "Deleted /content/logs/20240123_114932_lr_4e-04_b_32/ep028.pth\n",
            "100% 2/2 [00:04<00:00,  2.21s/it, data_time=0.034, iou=0.218, loss=2.395, net_time=0.116, top1=0.509, top2=0.525, top3=0.546]\n",
            "Deleted /content/logs/20240123_114932_lr_4e-04_b_32/ep029.pth\n",
            "100% 2/2 [00:04<00:00,  2.02s/it, data_time=0.017, iou=0.214, loss=2.326, net_time=0.105, top1=0.524, top2=0.543, top3=0.555]\n",
            "Deleted /content/logs/20240123_114932_lr_4e-04_b_32/ep030.pth\n",
            "100% 2/2 [00:04<00:00,  2.14s/it, data_time=0.031, iou=0.230, loss=2.341, net_time=0.117, top1=0.477, top2=0.506, top3=0.532]\n",
            "Deleted /content/logs/20240123_114932_lr_4e-04_b_32/ep031.pth\n",
            "100% 2/2 [00:04<00:00,  2.09s/it, data_time=0.017, iou=0.229, loss=2.156, net_time=0.106, top1=0.516, top2=0.536, top3=0.555]\n",
            "Deleted /content/logs/20240123_114932_lr_4e-04_b_32/ep032.pth\n",
            "100% 2/2 [00:04<00:00,  2.04s/it, data_time=0.033, iou=0.226, loss=2.436, net_time=0.114, top1=0.494, top2=0.540, top3=0.564]\n",
            "Deleted /content/logs/20240123_114932_lr_4e-04_b_32/ep033.pth\n",
            "100% 2/2 [00:04<00:00,  2.28s/it, data_time=0.017, iou=0.245, loss=2.182, net_time=0.103, top1=0.504, top2=0.548, top3=0.592]\n",
            "Deleted /content/logs/20240123_114932_lr_4e-04_b_32/ep034.pth\n",
            "100% 2/2 [00:04<00:00,  2.14s/it, data_time=0.029, iou=0.243, loss=2.203, net_time=0.113, top1=0.511, top2=0.536, top3=0.562]\n",
            "Deleted /content/logs/20240123_114932_lr_4e-04_b_32/ep035.pth\n",
            "100% 2/2 [00:04<00:00,  2.03s/it, data_time=0.017, iou=0.245, loss=2.198, net_time=0.103, top1=0.509, top2=0.537, top3=0.562]\n",
            "Deleted /content/logs/20240123_114932_lr_4e-04_b_32/ep036.pth\n",
            "100% 2/2 [00:04<00:00,  2.09s/it, data_time=0.031, iou=0.300, loss=2.301, net_time=0.116, top1=0.474, top2=0.504, top3=0.536]\n",
            "Deleted /content/logs/20240123_114932_lr_4e-04_b_32/ep037.pth\n",
            "100% 2/2 [00:04<00:00,  2.25s/it, data_time=0.017, iou=0.235, loss=2.138, net_time=0.104, top1=0.491, top2=0.549, top3=0.574]\n",
            "Deleted /content/logs/20240123_114932_lr_4e-04_b_32/ep038.pth\n",
            "100% 2/2 [00:05<00:00,  2.73s/it, data_time=0.034, iou=0.260, loss=2.108, net_time=0.114, top1=0.508, top2=0.560, top3=0.603]\n",
            "Deleted /content/logs/20240123_114932_lr_4e-04_b_32/ep039.pth\n",
            "100% 2/2 [00:04<00:00,  2.07s/it, data_time=0.016, iou=0.303, loss=2.125, net_time=0.104, top1=0.496, top2=0.534, top3=0.583]\n",
            "Deleted /content/logs/20240123_114932_lr_4e-04_b_32/ep040.pth\n",
            "100% 2/2 [00:05<00:00,  2.65s/it, data_time=0.030, iou=0.284, loss=1.903, net_time=0.113, top1=0.556, top2=0.605, top3=0.647]\n",
            "Deleted /content/logs/20240123_114932_lr_4e-04_b_32/ep041.pth\n",
            "100% 2/2 [00:04<00:00,  2.07s/it, data_time=0.017, iou=0.296, loss=2.060, net_time=0.104, top1=0.492, top2=0.539, top3=0.579]\n",
            "Deleted /content/logs/20240123_114932_lr_4e-04_b_32/ep042.pth\n",
            "100% 2/2 [00:05<00:00,  2.57s/it, data_time=0.033, iou=0.309, loss=2.087, net_time=0.119, top1=0.502, top2=0.542, top3=0.572]\n",
            "Deleted /content/logs/20240123_114932_lr_4e-04_b_32/ep043.pth\n",
            "100% 2/2 [00:04<00:00,  2.05s/it, data_time=0.018, iou=0.363, loss=2.067, net_time=0.106, top1=0.515, top2=0.555, top3=0.595]\n",
            "Deleted /content/logs/20240123_114932_lr_4e-04_b_32/ep044.pth\n",
            "100% 2/2 [00:04<00:00,  2.42s/it, data_time=0.032, iou=0.366, loss=2.148, net_time=0.120, top1=0.467, top2=0.512, top3=0.567]\n",
            "Deleted /content/logs/20240123_114932_lr_4e-04_b_32/ep045.pth\n",
            "100% 2/2 [00:04<00:00,  2.05s/it, data_time=0.017, iou=0.331, loss=1.817, net_time=0.103, top1=0.573, top2=0.612, top3=0.656]\n",
            "Deleted /content/logs/20240123_114932_lr_4e-04_b_32/ep046.pth\n",
            "100% 2/2 [00:05<00:00,  2.73s/it, data_time=0.018, iou=0.315, loss=2.392, net_time=0.103, top1=0.485, top2=0.514, top3=0.546]\n",
            "Deleted /content/logs/20240123_114932_lr_4e-04_b_32/ep047.pth\n",
            "100% 2/2 [00:04<00:00,  2.38s/it, data_time=0.033, iou=0.395, loss=1.914, net_time=0.116, top1=0.516, top2=0.579, top3=0.621]\n",
            "Deleted /content/logs/20240123_114932_lr_4e-04_b_32/ep048.pth\n",
            "100% 2/2 [00:04<00:00,  2.05s/it, data_time=0.017, iou=0.391, loss=2.030, net_time=0.106, top1=0.506, top2=0.562, top3=0.599]\n",
            "Deleted /content/logs/20240123_114932_lr_4e-04_b_32/ep049.pth\n",
            "100% 2/2 [00:04<00:00,  2.37s/it, data_time=0.031, iou=0.538, loss=1.938, net_time=0.164, top1=0.494, top2=0.579, top3=0.640]\n",
            "Deleted /content/logs/20240123_114932_lr_4e-04_b_32/ep050.pth\n",
            "100% 2/2 [00:04<00:00,  2.01s/it, data_time=0.018, iou=0.456, loss=1.817, net_time=0.104, top1=0.532, top2=0.599, top3=0.665]\n",
            "Deleted /content/logs/20240123_114932_lr_4e-04_b_32/ep051.pth\n",
            "100% 2/2 [00:04<00:00,  2.21s/it, data_time=0.038, iou=0.500, loss=1.894, net_time=0.121, top1=0.506, top2=0.570, top3=0.640]\n",
            "Deleted /content/logs/20240123_114932_lr_4e-04_b_32/ep052.pth\n",
            "100% 2/2 [00:04<00:00,  2.08s/it, data_time=0.020, iou=0.471, loss=1.885, net_time=0.109, top1=0.536, top2=0.602, top3=0.652]\n",
            "Deleted /content/logs/20240123_114932_lr_4e-04_b_32/ep053.pth\n",
            "100% 2/2 [00:04<00:00,  2.12s/it, data_time=0.032, iou=0.517, loss=1.792, net_time=0.114, top1=0.512, top2=0.583, top3=0.644]\n",
            "Deleted /content/logs/20240123_114932_lr_4e-04_b_32/ep054.pth\n",
            "100% 2/2 [00:04<00:00,  2.20s/it, data_time=0.018, iou=0.504, loss=1.806, net_time=0.104, top1=0.547, top2=0.617, top3=0.670]\n",
            "Deleted /content/logs/20240123_114932_lr_4e-04_b_32/ep055.pth\n",
            "100% 2/2 [00:04<00:00,  2.03s/it, data_time=0.017, iou=0.439, loss=1.703, net_time=0.104, top1=0.543, top2=0.610, top3=0.675]\n",
            "Deleted /content/logs/20240123_114932_lr_4e-04_b_32/ep056.pth\n",
            "100% 2/2 [00:04<00:00,  2.37s/it, data_time=0.018, iou=0.519, loss=1.928, net_time=0.104, top1=0.490, top2=0.583, top3=0.629]\n",
            "Deleted /content/logs/20240123_114932_lr_4e-04_b_32/ep057.pth\n",
            "100% 2/2 [00:04<00:00,  2.14s/it, data_time=0.017, iou=0.535, loss=1.751, net_time=0.105, top1=0.535, top2=0.602, top3=0.674]\n",
            "Deleted /content/logs/20240123_114932_lr_4e-04_b_32/ep058.pth\n",
            "100% 2/2 [00:04<00:00,  2.45s/it, data_time=0.018, iou=0.456, loss=1.969, net_time=0.102, top1=0.482, top2=0.551, top3=0.595]\n",
            "Deleted /content/logs/20240123_114932_lr_4e-04_b_32/ep059.pth\n",
            "100% 2/2 [00:04<00:00,  2.01s/it, data_time=0.017, iou=0.527, loss=1.797, net_time=0.104, top1=0.537, top2=0.610, top3=0.662]\n",
            "Deleted /content/logs/20240123_114932_lr_4e-04_b_32/ep060.pth\n",
            "100% 2/2 [00:04<00:00,  2.49s/it, data_time=0.017, iou=0.412, loss=2.104, net_time=0.116, top1=0.477, top2=0.537, top3=0.597]\n",
            "Deleted /content/logs/20240123_114932_lr_4e-04_b_32/ep061.pth\n",
            "100% 2/2 [00:04<00:00,  2.06s/it, data_time=0.017, iou=0.510, loss=1.717, net_time=0.108, top1=0.543, top2=0.634, top3=0.698]\n",
            "Deleted /content/logs/20240123_114932_lr_4e-04_b_32/ep062.pth\n",
            "100% 2/2 [00:05<00:00,  2.54s/it, data_time=0.017, iou=0.493, loss=1.887, net_time=0.107, top1=0.485, top2=0.556, top3=0.604]\n",
            "Deleted /content/logs/20240123_114932_lr_4e-04_b_32/ep063.pth\n",
            "100% 2/2 [00:04<00:00,  2.03s/it, data_time=0.022, iou=0.537, loss=1.702, net_time=0.104, top1=0.523, top2=0.622, top3=0.693]\n",
            "Deleted /content/logs/20240123_114932_lr_4e-04_b_32/ep064.pth\n",
            "100% 2/2 [00:05<00:00,  2.58s/it, data_time=0.017, iou=0.482, loss=1.792, net_time=0.106, top1=0.501, top2=0.591, top3=0.651]\n",
            "Deleted /content/logs/20240123_114932_lr_4e-04_b_32/ep065.pth\n",
            "100% 2/2 [00:04<00:00,  2.11s/it, data_time=0.018, iou=0.515, loss=1.697, net_time=0.106, top1=0.521, top2=0.597, top3=0.666]\n",
            "Deleted /content/logs/20240123_114932_lr_4e-04_b_32/ep066.pth\n",
            "100% 2/2 [00:05<00:00,  2.56s/it, data_time=0.018, iou=0.489, loss=1.708, net_time=0.105, top1=0.536, top2=0.603, top3=0.668]\n",
            "Deleted /content/logs/20240123_114932_lr_4e-04_b_32/ep067.pth\n",
            "100% 2/2 [00:04<00:00,  2.09s/it, data_time=0.017, iou=0.562, loss=1.809, net_time=0.104, top1=0.507, top2=0.578, top3=0.649]\n",
            "Deleted /content/logs/20240123_114932_lr_4e-04_b_32/ep068.pth\n",
            "100% 2/2 [00:05<00:00,  2.61s/it, data_time=0.018, iou=0.525, loss=1.632, net_time=0.103, top1=0.548, top2=0.633, top3=0.696]\n",
            "Deleted /content/logs/20240123_114932_lr_4e-04_b_32/ep069.pth\n",
            "100% 2/2 [00:04<00:00,  2.11s/it, data_time=0.018, iou=0.567, loss=1.663, net_time=0.103, top1=0.513, top2=0.594, top3=0.668]\n",
            "Deleted /content/logs/20240123_114932_lr_4e-04_b_32/ep070.pth\n",
            "100% 2/2 [00:05<00:00,  2.67s/it, data_time=0.017, iou=0.601, loss=1.740, net_time=0.105, top1=0.488, top2=0.585, top3=0.673]\n",
            "Deleted /content/logs/20240123_114932_lr_4e-04_b_32/ep071.pth\n",
            "100% 2/2 [00:04<00:00,  2.01s/it, data_time=0.032, iou=0.590, loss=1.659, net_time=0.116, top1=0.538, top2=0.614, top3=0.675]\n",
            "Deleted /content/logs/20240123_114932_lr_4e-04_b_32/ep072.pth\n",
            "100% 2/2 [00:04<00:00,  2.19s/it, data_time=0.028, iou=0.531, loss=1.647, net_time=0.102, top1=0.521, top2=0.621, top3=0.689]\n",
            "Deleted /content/logs/20240123_114932_lr_4e-04_b_32/ep073.pth\n",
            "100% 2/2 [00:04<00:00,  2.06s/it, data_time=0.031, iou=0.508, loss=1.743, net_time=0.115, top1=0.510, top2=0.598, top3=0.664]\n",
            "Deleted /content/logs/20240123_114932_lr_4e-04_b_32/ep074.pth\n",
            "100% 2/2 [00:04<00:00,  2.33s/it, data_time=0.017, iou=0.593, loss=1.501, net_time=0.103, top1=0.573, top2=0.647, top3=0.721]\n",
            "Deleted /content/logs/20240123_114932_lr_4e-04_b_32/ep075.pth\n",
            "100% 2/2 [00:04<00:00,  2.12s/it, data_time=0.017, iou=0.519, loss=1.616, net_time=0.107, top1=0.539, top2=0.625, top3=0.690]\n",
            "Deleted /content/logs/20240123_114932_lr_4e-04_b_32/ep076.pth\n",
            "100% 2/2 [00:04<00:00,  2.30s/it, data_time=0.018, iou=0.581, loss=1.631, net_time=0.110, top1=0.513, top2=0.604, top3=0.674]\n",
            "Deleted /content/logs/20240123_114932_lr_4e-04_b_32/ep077.pth\n",
            "100% 2/2 [00:04<00:00,  2.06s/it, data_time=0.017, iou=0.551, loss=1.712, net_time=0.123, top1=0.503, top2=0.589, top3=0.662]\n",
            "Deleted /content/logs/20240123_114932_lr_4e-04_b_32/ep078.pth\n",
            "100% 2/2 [00:04<00:00,  2.37s/it, data_time=0.017, iou=0.556, loss=1.475, net_time=0.102, top1=0.568, top2=0.665, top3=0.743]\n",
            "Deleted /content/logs/20240123_114932_lr_4e-04_b_32/ep079.pth\n",
            "100% 2/2 [00:04<00:00,  2.00s/it, data_time=0.017, iou=0.546, loss=1.672, net_time=0.104, top1=0.498, top2=0.603, top3=0.667]\n",
            "Deleted /content/logs/20240123_114932_lr_4e-04_b_32/ep080.pth\n",
            "100% 2/2 [00:04<00:00,  2.39s/it, data_time=0.017, iou=0.552, loss=1.659, net_time=0.103, top1=0.518, top2=0.595, top3=0.681]\n",
            "Deleted /content/logs/20240123_114932_lr_4e-04_b_32/ep081.pth\n",
            "100% 2/2 [00:03<00:00,  1.99s/it, data_time=0.018, iou=0.608, loss=1.639, net_time=0.103, top1=0.501, top2=0.583, top3=0.675]\n",
            "Deleted /content/logs/20240123_114932_lr_4e-04_b_32/ep082.pth\n",
            "100% 2/2 [00:05<00:00,  2.52s/it, data_time=0.017, iou=0.547, loss=1.554, net_time=0.104, top1=0.559, top2=0.657, top3=0.723]\n",
            "Deleted /content/logs/20240123_114932_lr_4e-04_b_32/ep083.pth\n",
            "100% 2/2 [00:04<00:00,  2.06s/it, data_time=0.018, iou=0.575, loss=1.584, net_time=0.106, top1=0.527, top2=0.626, top3=0.705]\n",
            "Deleted /content/logs/20240123_114932_lr_4e-04_b_32/ep084.pth\n",
            "100% 2/2 [00:05<00:00,  2.50s/it, data_time=0.018, iou=0.576, loss=1.533, net_time=0.102, top1=0.533, top2=0.644, top3=0.719]\n",
            "Deleted /content/logs/20240123_114932_lr_4e-04_b_32/ep085.pth\n",
            "100% 2/2 [00:04<00:00,  2.06s/it, data_time=0.018, iou=0.516, loss=1.632, net_time=0.104, top1=0.548, top2=0.607, top3=0.665]\n",
            "Deleted /content/logs/20240123_114932_lr_4e-04_b_32/ep086.pth\n",
            "100% 2/2 [00:05<00:00,  2.60s/it, data_time=0.017, iou=0.622, loss=1.537, net_time=0.104, top1=0.546, top2=0.653, top3=0.719]\n",
            "Deleted /content/logs/20240123_114932_lr_4e-04_b_32/ep087.pth\n",
            "100% 2/2 [00:04<00:00,  2.04s/it, data_time=0.017, iou=0.486, loss=1.743, net_time=0.103, top1=0.535, top2=0.632, top3=0.700]\n",
            "Deleted /content/logs/20240123_114932_lr_4e-04_b_32/ep088.pth\n",
            "100% 2/2 [00:05<00:00,  2.56s/it, data_time=0.018, iou=0.614, loss=1.463, net_time=0.105, top1=0.545, top2=0.637, top3=0.733]\n",
            "Deleted /content/logs/20240123_114932_lr_4e-04_b_32/ep089.pth\n",
            "100% 2/2 [00:04<00:00,  2.02s/it, data_time=0.017, iou=0.651, loss=1.659, net_time=0.103, top1=0.489, top2=0.604, top3=0.665]\n",
            "Deleted /content/logs/20240123_114932_lr_4e-04_b_32/ep090.pth\n",
            "100% 2/2 [00:04<00:00,  2.37s/it, data_time=0.019, iou=0.521, loss=1.442, net_time=0.108, top1=0.562, top2=0.656, top3=0.735]\n",
            "Deleted /content/logs/20240123_114932_lr_4e-04_b_32/ep091.pth\n",
            "100% 2/2 [00:04<00:00,  2.08s/it, data_time=0.017, iou=0.541, loss=1.694, net_time=0.106, top1=0.520, top2=0.607, top3=0.684]\n",
            "Deleted /content/logs/20240123_114932_lr_4e-04_b_32/ep092.pth\n",
            "100% 2/2 [00:04<00:00,  2.42s/it, data_time=0.018, iou=0.574, loss=1.520, net_time=0.108, top1=0.515, top2=0.635, top3=0.709]\n",
            "Deleted /content/logs/20240123_114932_lr_4e-04_b_32/ep093.pth\n",
            "100% 2/2 [00:04<00:00,  2.09s/it, data_time=0.018, iou=0.498, loss=1.557, net_time=0.105, top1=0.554, top2=0.642, top3=0.722]\n",
            "Deleted /content/logs/20240123_114932_lr_4e-04_b_32/ep094.pth\n",
            "100% 2/2 [00:05<00:00,  2.61s/it, data_time=0.018, iou=0.502, loss=1.737, net_time=0.105, top1=0.531, top2=0.600, top3=0.662]\n",
            "Deleted /content/logs/20240123_114932_lr_4e-04_b_32/ep095.pth\n",
            "100% 2/2 [00:04<00:00,  2.07s/it, data_time=0.018, iou=0.644, loss=1.523, net_time=0.106, top1=0.547, top2=0.651, top3=0.742]\n",
            "Deleted /content/logs/20240123_114932_lr_4e-04_b_32/ep096.pth\n",
            "100% 2/2 [00:04<00:00,  2.42s/it, data_time=0.017, iou=0.551, loss=1.564, net_time=0.106, top1=0.536, top2=0.616, top3=0.695]\n",
            "Deleted /content/logs/20240123_114932_lr_4e-04_b_32/ep097.pth\n",
            "100% 2/2 [00:04<00:00,  2.13s/it, data_time=0.017, iou=0.617, loss=1.569, net_time=0.125, top1=0.523, top2=0.620, top3=0.706]\n",
            "Deleted /content/logs/20240123_114932_lr_4e-04_b_32/ep098.pth\n",
            "100% 2/2 [00:04<00:00,  2.48s/it, data_time=0.018, iou=0.530, loss=1.735, net_time=0.105, top1=0.497, top2=0.581, top3=0.666]\n"
          ]
        }
      ],
      "source": [
        "#before running this make sure to update the data_root an d log_path in tusimple.py from the configs\n",
        "!python train.py configs/tusimple.py"
      ]
    },
    {
      "cell_type": "code",
      "execution_count": null,
      "metadata": {
        "id": "vE4U2Q7Os0Zg"
      },
      "outputs": [],
      "source": [
        "!du -h /content/ #to check the disk space"
      ]
    },
    {
      "cell_type": "code",
      "execution_count": null,
      "metadata": {
        "id": "3e7aywfGkHYF"
      },
      "outputs": [],
      "source": [
        "# Only run this if you want to remove the logs add the folder name accordingly as it gets changed with some random numbers everytime.\n",
        "\n",
        "!rm -rf /content/logs/'20240122_093253_lr_4e-04_b_32'"
      ]
    },
    {
      "cell_type": "markdown",
      "source": [
        "## code for testing"
      ],
      "metadata": {
        "id": "KiZzOONuqCKK"
      }
    },
    {
      "cell_type": "code",
      "source": [
        "# copying the testing data in the $TUSIMPLEROOT/clips (NOTE: ONLY DO THIS IF YOU WANT TO TEST THE DATA)\n",
        "\n",
        "\n",
        "#THIS IS NOT WORKING AS INTENDED BECAUSE THERE IS ALREADY 0601 and 0531 in both the training as well as testing set.\n",
        "\n",
        "%cp -r /content/drive/MyDrive/TuSimple_xsml/test_set/clips/* /content/Ultra-Fast-Lane-Detection/'$TUSIMPLEROOT'/clips"
      ],
      "metadata": {
        "id": "sx7APgjwz1UA"
      },
      "execution_count": 17,
      "outputs": []
    },
    {
      "cell_type": "code",
      "source": [
        "#FILTERING THE text.txt FILE:\n",
        "\n",
        "\n",
        "searcharr_0530=['0530/1492626047222176976_0', '0530/1492626126171818168_0','0530/1492626127172745520_0','0530/1492626153155598528_0','0530/1492626155156451704_0','0530/1492626158152981904_0','0530/1492626166147797438_0','0530/1492626171146236124_0','0530/1492626191132352208_0','0530/1492626199127566374_0']\n",
        "searcharr_0531=['0531/1492626253262712112','0531/1492626271917313999','0531/1492626272918083058','0531/1492626292371547028','0531/1492626323818607492','0531/1492626326050823425','0531/1492626328182638628','0531/1492626344839162069','0531/1492626364327255872','0531/1492626388446057821']\n",
        "searcharr_0601=['0601/1494452381594376146','0601/1494452383592719171','0601/1494452387590928848','0601/1494452389590241875','0601/1494452393588330446','0601/1494452395587533775','0601/1494452399585761304','0601/1494452401584814468','0601/1494452405583118167','0601/1494452407582274573']\n",
        "\n",
        "clip_list2 = [searcharr_0530, searcharr_0531, searcharr_0601]\n",
        "#update this loop to filter the contents from the test.txt\n",
        "\n",
        "\n",
        "mini_clip_list2 = [searcharr_0531] #micro dataset\n",
        "\n",
        "filtered_data2 = []\n",
        "\n",
        "#change to clip_list if want to use the original dataset or keep it as mini_clip_list if want micro dataset\n",
        "for search_arr in clip_list2:\n",
        "  with open(\"$TUSIMPLEROOT/test.txt\", \"r\") as f:\n",
        "    for line in f:\n",
        "      # print(\"clip_name\", clip_name)\n",
        "      for i in range(0, len(search_arr)):\n",
        "        if search_arr[i]+'/20.jpg' in line:\n",
        "          filtered_data2 = filtered_data2 + [line]\n",
        "          # print(filtered_data2)\n",
        "with open(\"$TUSIMPLEROOT/test.txt\", \"w\") as f:\n",
        "    f.seek(0) # to move to the start of the file\n",
        "    for clip_data in filtered_data2:\n",
        "      f.write(clip_data)\n",
        "    f.truncate()\n",
        "print(len(filtered_data2))\n"
      ],
      "metadata": {
        "colab": {
          "base_uri": "https://localhost:8080/"
        },
        "id": "BN29ACjuv0zw",
        "outputId": "751a77cb-783d-4274-d53e-27c6fcf05075"
      },
      "execution_count": 40,
      "outputs": [
        {
          "output_type": "stream",
          "name": "stdout",
          "text": [
            "30\n"
          ]
        }
      ]
    },
    {
      "cell_type": "code",
      "source": [
        "#data visualization for trained weights\n",
        "\n",
        "#python demo.py configs/tusimple.py --test_model path_to_tusimple_18.pth\n",
        "\n",
        "!python demo.py configs/tusimple.py --test_model /content/logs/'20240122_093253_lr_4e-04_b_32'/ep049.pth"
      ],
      "metadata": {
        "colab": {
          "base_uri": "https://localhost:8080/"
        },
        "id": "n2P-7N6Wkttc",
        "outputId": "3446c955-a996-4774-e403-bf2f5cccecec"
      },
      "execution_count": null,
      "outputs": [
        {
          "output_type": "stream",
          "name": "stdout",
          "text": [
            "2024-01-22 09:52:11.004532: E external/local_xla/xla/stream_executor/cuda/cuda_dnn.cc:9261] Unable to register cuDNN factory: Attempting to register factory for plugin cuDNN when one has already been registered\n",
            "2024-01-22 09:52:11.004583: E external/local_xla/xla/stream_executor/cuda/cuda_fft.cc:607] Unable to register cuFFT factory: Attempting to register factory for plugin cuFFT when one has already been registered\n",
            "2024-01-22 09:52:11.005822: E external/local_xla/xla/stream_executor/cuda/cuda_blas.cc:1515] Unable to register cuBLAS factory: Attempting to register factory for plugin cuBLAS when one has already been registered\n",
            "2024-01-22 09:52:12.520406: W tensorflow/compiler/tf2tensorrt/utils/py_utils.cc:38] TF-TRT Warning: Could not find TensorRT\n",
            "merge  test_model  config\n",
            "start testing...\n",
            "/usr/local/lib/python3.10/dist-packages/torchvision/models/_utils.py:208: UserWarning: The parameter 'pretrained' is deprecated since 0.13 and may be removed in the future, please use 'weights' instead.\n",
            "  warnings.warn(\n",
            "/usr/local/lib/python3.10/dist-packages/torchvision/models/_utils.py:223: UserWarning: Arguments other than a weight enum or `None` for 'weights' are deprecated since 0.13 and may be removed in the future. The current behavior is equivalent to passing `weights=None`.\n",
            "  warnings.warn(msg)\n",
            "test.avi\n",
            "  0% 0/2782 [00:00<?, ?it/s]\n",
            "Traceback (most recent call last):\n",
            "  File \"/content/Ultra-Fast-Lane-Detection/demo.py\", line 63, in <module>\n",
            "    for i, data in enumerate(tqdm.tqdm(loader)):\n",
            "  File \"/usr/local/lib/python3.10/dist-packages/tqdm/std.py\", line 1182, in __iter__\n",
            "    for obj in iterable:\n",
            "  File \"/usr/local/lib/python3.10/dist-packages/torch/utils/data/dataloader.py\", line 630, in __next__\n",
            "    data = self._next_data()\n",
            "  File \"/usr/local/lib/python3.10/dist-packages/torch/utils/data/dataloader.py\", line 1345, in _next_data\n",
            "    return self._process_data(data)\n",
            "  File \"/usr/local/lib/python3.10/dist-packages/torch/utils/data/dataloader.py\", line 1371, in _process_data\n",
            "    data.reraise()\n",
            "  File \"/usr/local/lib/python3.10/dist-packages/torch/_utils.py\", line 694, in reraise\n",
            "    raise exception\n",
            "FileNotFoundError: Caught FileNotFoundError in DataLoader worker process 0.\n",
            "Original Traceback (most recent call last):\n",
            "  File \"/usr/local/lib/python3.10/dist-packages/torch/utils/data/_utils/worker.py\", line 308, in _worker_loop\n",
            "    data = fetcher.fetch(index)\n",
            "  File \"/usr/local/lib/python3.10/dist-packages/torch/utils/data/_utils/fetch.py\", line 51, in fetch\n",
            "    data = [self.dataset[idx] for idx in possibly_batched_index]\n",
            "  File \"/usr/local/lib/python3.10/dist-packages/torch/utils/data/_utils/fetch.py\", line 51, in <listcomp>\n",
            "    data = [self.dataset[idx] for idx in possibly_batched_index]\n",
            "  File \"/content/Ultra-Fast-Lane-Detection/data/dataset.py\", line 27, in __getitem__\n",
            "    img = loader_func(img_path)\n",
            "  File \"/content/Ultra-Fast-Lane-Detection/data/dataset.py\", line 11, in loader_func\n",
            "    return Image.open(path)\n",
            "  File \"/usr/local/lib/python3.10/dist-packages/PIL/Image.py\", line 3227, in open\n",
            "    fp = builtins.open(filename, \"rb\")\n",
            "FileNotFoundError: [Errno 2] No such file or directory: '$TUSIMPLEROOT/clips/0530/1492626760788443246_0/20.jpg'\n",
            "\n"
          ]
        }
      ]
    },
    {
      "cell_type": "markdown",
      "source": [
        "**## TO DO:**\n",
        "\n",
        "\n",
        "1.   stop logging of each checkpoint or just manage the space correctly ✅\n",
        "2.   add the test clips folders inside $TUSIMPLEROOT/clips folder\n",
        "3. update the test.txt to have only data about the available clips similar to how i did with the train_gt.txt file\n",
        "4. visualize the data as you did in the cascaded lane detection.\n",
        "5. A way to just take an random test image and see the segmentation as well as the classes just you did in the cascaded CNN lane detection\n",
        "6. pretrained weights evaluation\n"
      ],
      "metadata": {
        "id": "p8CLd3plnxkH"
      }
    },
    {
      "cell_type": "markdown",
      "source": [
        "**##Solutions worked on:**"
      ],
      "metadata": {
        "id": "XRM7npIVtrpP"
      }
    },
    {
      "cell_type": "markdown",
      "source": [
        "1.Use the below code in the ***train.py*** inside the epoch loop to delete previous checkpoints before logging a new one:\n",
        "\n",
        "ADD THE BELOW CODE AFTER THE `for epoch in range(resume_epoch, cfg.epoch):` LOOP INSIDE THE train.py file\n",
        "\n",
        "\n",
        "```python\n",
        "#EXPERIMENTAL CODE STARTS\n",
        "# Define the path of the folder\n",
        "folder_path = work_dir\n",
        "\n",
        "# Get the list of files in the folder\n",
        "files = os.listdir(folder_path)\n",
        "\n",
        "# Loop through the files and delete them\n",
        "for file in files:\n",
        "    # Join the folder path and the file name\n",
        "    file_path = os.path.join(folder_path, file)\n",
        "    # Check if the file is a file (not a folder)\n",
        "    if os.path.isfile(file_path):\n",
        "        # Delete the file\n",
        "        os.remove(file_path)\n",
        "        # Print a message\n",
        "        print(f\"Deleted {file_path}\")\n",
        "#EXPERIMENTAL CODE ENDS\n",
        "\n",
        "```\n",
        "\n"
      ],
      "metadata": {
        "id": "8Yx7kMz_qHdR"
      }
    },
    {
      "cell_type": "code",
      "source": [],
      "metadata": {
        "id": "7p18ZmqJqUGu"
      },
      "execution_count": null,
      "outputs": []
    }
  ],
  "metadata": {
    "accelerator": "GPU",
    "colab": {
      "provenance": []
    },
    "kernelspec": {
      "display_name": "Python 3",
      "name": "python3"
    },
    "language_info": {
      "name": "python"
    }
  },
  "nbformat": 4,
  "nbformat_minor": 0
}